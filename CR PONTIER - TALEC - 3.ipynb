{
    "cells": [
        {
            "cell_type": "markdown",
            "metadata": {},
            "source": [
                "#  <center>MOD 9.5 - Réseaux informatiques</center>\n",
                "## <center style=\"color: #06A\">BE 3 - Le protocole HTTP</center>"
            ]
        },
        {
            "cell_type": "markdown",
            "metadata": {},
            "source": [
                "<center>PONTIER Yoan - TALEC Mathilde</center>"
            ]
        },
        {
            "cell_type": "markdown",
            "metadata": {},
            "source": [
                "# A - Informations générales\n",
                "\n",
                "<h4 style=\"font-size:150%;color:#06A;margin:1em 0 1.33em\">1. Déroulement de la séance.</h4>\n",
                "\n",
                "Comme précédemment, le travail sera à effectuer par binôme. Le compte-rendu doit être rédigé\n",
                "en complétant directement le présent notebook qui devra être déposé sur moodle une fois le travail terminé.\n",
                "\n",
                "Avant de déposer le résultat de votre travail, merci de __mentionner vos noms au sein du document__, puis au moment du dépôt de bien vouloir nommer le fichier sous la forme :\n",
                "\n",
                "<code>CR &lt;nom eleve 1> - &lt;nom eleve 2> - &lt;N° BE></code> \n",
                "\n",
                "<h4 style=\"font-size:150%;color:#06A;margin-bottom:1.33em\">2. Objectif du travail demandé.</h4>\n",
                "\n",
                "L'objectif du BE consiste à envoyer des requêtes HTTP vers des ressources diverses, de relever les réponses obtenues et de commenter ce que vous observez.\n",
                "\n",
                "Pour cela, les fonctions <code>http_request</code> et <code>https_request</code> ci-dessous vont vous aider à envoyer une requête HTTP (resp. HTTPS) en Python depuis le notebook et à afficher le résultat obtenu :"
            ]
        },
        {
            "cell_type": "code",
            "execution_count": 2,
            "metadata": {
                "collapsed": false
            },
            "outputs": [],
            "source": [
                "import html\n",
                "import http.client\n",
                "from IPython.display import display, HTML, Image\n",
                "\n",
                "def http_request(method, server, path, body=None, headers={}, port=80, silent=False):\n",
                "    conn = http.client.HTTPConnection(server, port)\n",
                "    resp = send_request(conn, method, path, body, headers)\n",
                "    body = resp.read()\n",
                "    if silent:\n",
                "        return (resp,body)\n",
                "    else:\n",
                "        display_response(resp,body)\n",
                "        \n",
                "\n",
                "\n",
                "def https_request(method, server, path, body=None, headers={}, port=443, silent=False):\n",
                "    conn = http.client.HTTPSConnection(server, port)\n",
                "    resp = send_request(conn, method, path, body, headers)\n",
                "    body = resp.read()\n",
                "    if silent:\n",
                "        return (resp,body)\n",
                "    else:\n",
                "        display_response(resp,body)\n",
                "\n",
                "def send_request(conn, method, path, body=None, headers={}):\n",
                "    conn.request(method, path, body, headers)\n",
                "    return conn.getresponse()\n",
                "\n",
                "def display_response(response,body):\n",
                "    display_status_line(response)\n",
                "    display_headers(response.headers)\n",
                "    contentType = response.getheader('Content-Type')\n",
                "    if contentType:\n",
                "        if contentType.startswith('text') or contentType.startswith('application/json') or 'xml' in contentType:\n",
                "            display_body(body.decode('UTF-8'), contentType)\n",
                "        elif contentType.startswith('image'):\n",
                "            display_body(body, contentType)\n",
                "        else:\n",
                "            display_error('Le notebook ne sait pas afficher le type de contenu {}'.format(contentType))\n",
                "    return body\n",
                "\n",
                "\n",
                "def display_error(msg):\n",
                "    display_html(\n",
                "        '<i style=\"margin-top:-0.4em; font-family:Consolas,monospace; ' +\\\n",
                "        'display:inline-block; margin-top:10px; color:#ccc\">{}</i>',\n",
                "        msg)\n",
                "\n",
                "def display_status_line(response):\n",
                "    display_html(\n",
                "        \"<code style='font-family:Consolas,monospace; display:block; margin-top: 5px; \" +\\\n",
                "        \"border-bottom:1px solid #ccc'><span style='font-weight:bold;color:#008'>{}</span> - {}</code>\",\n",
                "        response.status, response.reason)\n",
                "\n",
                "def display_headers(headers):\n",
                "    for h in headers:\n",
                "        display_header(h,headers[h])\n",
                "\n",
                "def display_header(header,value):\n",
                "    display_html(\n",
                "        \"<code style='display:block; margin-top:-0.7em; font-family:Consolas,monospace'><b>{}:</b> {}</code>\",\n",
                "        header, value)\n",
                "    \n",
                "def display_body(body, contentType):\n",
                "    preformatted = \"<pre style='font-family:Consolas,monospace; padding:5px; \" + \\\n",
                "        \"border: 1px solid #ccc; border-radius:5px; box-shadow: 5px 5px 5px #ccc; \" + \\\n",
                "        \"margin:5px 0 10px 0; display: inline-block; min-width: 50%'>{}</pre>\"\n",
                "    freeformat = \"<div style='padding:5px; border: 1px solid #ccc; border-radius:5px; \" + \\\n",
                "        \"box-shadow: 5px 5px 5px #ccc; margin:5px 0 10px 0; display: inline-block; \" + \\\n",
                "        \"min-width: 50%'>{}</div>\"\n",
                "    if ( len(body) ):\n",
                "        if ( contentType.startswith('application/json') ) :\n",
                "            display_html(preformatted, body)\n",
                "        elif ( contentType.startswith('text/html') ) :\n",
                "            display_html(freeformat, body)\n",
                "        elif ( contentType == 'image/svg+xml') :\n",
                "            display_html(freeformat, body)\n",
                "        elif ( contentType.startswith('text/plain') ) :\n",
                "            display_html(preformatted, html.escape(body))\n",
                "        elif ( contentType.startswith('image') ) :\n",
                "            display(Image(body))\n",
                "    \n",
                "def display_html(fmt,*args):\n",
                "    display(HTML(fmt.format(*args)))"
            ]
        },
        {
            "cell_type": "markdown",
            "metadata": {},
            "source": [
                "Voici comment utiliser la fonction <code>http_request()</code> pour effectuer une requête GET vers l'adresse http://httpbin.org/robots.txt :"
            ]
        },
        {
            "cell_type": "code",
            "execution_count": 3,
            "metadata": {
                "collapsed": false
            },
            "outputs": [
                {
                    "data": {
                        "text/html": [
                            "<code style='font-family:Consolas,monospace; display:block; margin-top: 5px; border-bottom:1px solid #ccc'><span style='font-weight:bold;color:#008'>200</span> - OK</code>"
                        ],
                        "text/plain": [
                            "<IPython.core.display.HTML object>"
                        ]
                    },
                    "metadata": {},
                    "output_type": "display_data"
                },
                {
                    "data": {
                        "text/html": [
                            "<code style='display:block; margin-top:-0.7em; font-family:Consolas,monospace'><b>Date:</b> Sun, 15 Dec 2024 15:00:07 GMT</code>"
                        ],
                        "text/plain": [
                            "<IPython.core.display.HTML object>"
                        ]
                    },
                    "metadata": {},
                    "output_type": "display_data"
                },
                {
                    "data": {
                        "text/html": [
                            "<code style='display:block; margin-top:-0.7em; font-family:Consolas,monospace'><b>Content-Type:</b> text/plain</code>"
                        ],
                        "text/plain": [
                            "<IPython.core.display.HTML object>"
                        ]
                    },
                    "metadata": {},
                    "output_type": "display_data"
                },
                {
                    "data": {
                        "text/html": [
                            "<code style='display:block; margin-top:-0.7em; font-family:Consolas,monospace'><b>Content-Length:</b> 30</code>"
                        ],
                        "text/plain": [
                            "<IPython.core.display.HTML object>"
                        ]
                    },
                    "metadata": {},
                    "output_type": "display_data"
                },
                {
                    "data": {
                        "text/html": [
                            "<code style='display:block; margin-top:-0.7em; font-family:Consolas,monospace'><b>Connection:</b> keep-alive</code>"
                        ],
                        "text/plain": [
                            "<IPython.core.display.HTML object>"
                        ]
                    },
                    "metadata": {},
                    "output_type": "display_data"
                },
                {
                    "data": {
                        "text/html": [
                            "<code style='display:block; margin-top:-0.7em; font-family:Consolas,monospace'><b>Server:</b> gunicorn/19.9.0</code>"
                        ],
                        "text/plain": [
                            "<IPython.core.display.HTML object>"
                        ]
                    },
                    "metadata": {},
                    "output_type": "display_data"
                },
                {
                    "data": {
                        "text/html": [
                            "<code style='display:block; margin-top:-0.7em; font-family:Consolas,monospace'><b>Access-Control-Allow-Origin:</b> *</code>"
                        ],
                        "text/plain": [
                            "<IPython.core.display.HTML object>"
                        ]
                    },
                    "metadata": {},
                    "output_type": "display_data"
                },
                {
                    "data": {
                        "text/html": [
                            "<code style='display:block; margin-top:-0.7em; font-family:Consolas,monospace'><b>Access-Control-Allow-Credentials:</b> true</code>"
                        ],
                        "text/plain": [
                            "<IPython.core.display.HTML object>"
                        ]
                    },
                    "metadata": {},
                    "output_type": "display_data"
                },
                {
                    "data": {
                        "text/html": [
                            "<pre style='font-family:Consolas,monospace; padding:5px; border: 1px solid #ccc; border-radius:5px; box-shadow: 5px 5px 5px #ccc; margin:5px 0 10px 0; display: inline-block; min-width: 50%'>User-agent: *\n",
                            "Disallow: /deny\n",
                            "</pre>"
                        ],
                        "text/plain": [
                            "<IPython.core.display.HTML object>"
                        ]
                    },
                    "metadata": {},
                    "output_type": "display_data"
                }
            ],
            "source": [
                "http_request('GET','httpbin.org','/robots.txt')"
            ]
        },
        {
            "cell_type": "markdown",
            "metadata": {},
            "source": [
                "Et voici comment effectuer une requête POST avec un corps :"
            ]
        },
        {
            "cell_type": "code",
            "execution_count": 4,
            "metadata": {
                "collapsed": false
            },
            "outputs": [
                {
                    "data": {
                        "text/html": [
                            "<code style='font-family:Consolas,monospace; display:block; margin-top: 5px; border-bottom:1px solid #ccc'><span style='font-weight:bold;color:#008'>200</span> - OK</code>"
                        ],
                        "text/plain": [
                            "<IPython.core.display.HTML object>"
                        ]
                    },
                    "metadata": {},
                    "output_type": "display_data"
                },
                {
                    "data": {
                        "text/html": [
                            "<code style='display:block; margin-top:-0.7em; font-family:Consolas,monospace'><b>Date:</b> Sun, 15 Dec 2024 15:00:07 GMT</code>"
                        ],
                        "text/plain": [
                            "<IPython.core.display.HTML object>"
                        ]
                    },
                    "metadata": {},
                    "output_type": "display_data"
                },
                {
                    "data": {
                        "text/html": [
                            "<code style='display:block; margin-top:-0.7em; font-family:Consolas,monospace'><b>Content-Type:</b> text/html; charset=utf-8</code>"
                        ],
                        "text/plain": [
                            "<IPython.core.display.HTML object>"
                        ]
                    },
                    "metadata": {},
                    "output_type": "display_data"
                },
                {
                    "data": {
                        "text/html": [
                            "<code style='display:block; margin-top:-0.7em; font-family:Consolas,monospace'><b>Transfer-Encoding:</b> chunked</code>"
                        ],
                        "text/plain": [
                            "<IPython.core.display.HTML object>"
                        ]
                    },
                    "metadata": {},
                    "output_type": "display_data"
                },
                {
                    "data": {
                        "text/html": [
                            "<code style='display:block; margin-top:-0.7em; font-family:Consolas,monospace'><b>Connection:</b> keep-alive</code>"
                        ],
                        "text/plain": [
                            "<IPython.core.display.HTML object>"
                        ]
                    },
                    "metadata": {},
                    "output_type": "display_data"
                },
                {
                    "data": {
                        "text/html": [
                            "<code style='display:block; margin-top:-0.7em; font-family:Consolas,monospace'><b>CF-Ray:</b> 8f274d2bdd10e238-MRS</code>"
                        ],
                        "text/plain": [
                            "<IPython.core.display.HTML object>"
                        ]
                    },
                    "metadata": {},
                    "output_type": "display_data"
                },
                {
                    "data": {
                        "text/html": [
                            "<code style='display:block; margin-top:-0.7em; font-family:Consolas,monospace'><b>CF-Cache-Status:</b> DYNAMIC</code>"
                        ],
                        "text/plain": [
                            "<IPython.core.display.HTML object>"
                        ]
                    },
                    "metadata": {},
                    "output_type": "display_data"
                },
                {
                    "data": {
                        "text/html": [
                            "<code style='display:block; margin-top:-0.7em; font-family:Consolas,monospace'><b>ETag:</b> W/\"135-dzr+yzRXv/aGFP+8uGPZ9yUJ0PM\"</code>"
                        ],
                        "text/plain": [
                            "<IPython.core.display.HTML object>"
                        ]
                    },
                    "metadata": {},
                    "output_type": "display_data"
                },
                {
                    "data": {
                        "text/html": [
                            "<code style='display:block; margin-top:-0.7em; font-family:Consolas,monospace'><b>Vary:</b> Accept-Encoding</code>"
                        ],
                        "text/plain": [
                            "<IPython.core.display.HTML object>"
                        ]
                    },
                    "metadata": {},
                    "output_type": "display_data"
                },
                {
                    "data": {
                        "text/html": [
                            "<code style='display:block; margin-top:-0.7em; font-family:Consolas,monospace'><b>rndr-id:</b> 5f3ff9d5-3512-485d</code>"
                        ],
                        "text/plain": [
                            "<IPython.core.display.HTML object>"
                        ]
                    },
                    "metadata": {},
                    "output_type": "display_data"
                },
                {
                    "data": {
                        "text/html": [
                            "<code style='display:block; margin-top:-0.7em; font-family:Consolas,monospace'><b>x-powered-by:</b> Express</code>"
                        ],
                        "text/plain": [
                            "<IPython.core.display.HTML object>"
                        ]
                    },
                    "metadata": {},
                    "output_type": "display_data"
                },
                {
                    "data": {
                        "text/html": [
                            "<code style='display:block; margin-top:-0.7em; font-family:Consolas,monospace'><b>x-render-origin-server:</b> Render</code>"
                        ],
                        "text/plain": [
                            "<IPython.core.display.HTML object>"
                        ]
                    },
                    "metadata": {},
                    "output_type": "display_data"
                },
                {
                    "data": {
                        "text/html": [
                            "<code style='display:block; margin-top:-0.7em; font-family:Consolas,monospace'><b>Server:</b> cloudflare</code>"
                        ],
                        "text/plain": [
                            "<IPython.core.display.HTML object>"
                        ]
                    },
                    "metadata": {},
                    "output_type": "display_data"
                },
                {
                    "data": {
                        "text/html": [
                            "<code style='display:block; margin-top:-0.7em; font-family:Consolas,monospace'><b>alt-svc:</b> h3=\":443\"; ma=86400</code>"
                        ],
                        "text/plain": [
                            "<IPython.core.display.HTML object>"
                        ]
                    },
                    "metadata": {},
                    "output_type": "display_data"
                },
                {
                    "data": {
                        "text/html": [
                            "<div style='padding:5px; border: 1px solid #ccc; border-radius:5px; box-shadow: 5px 5px 5px #ccc; margin:5px 0 10px 0; display: inline-block; min-width: 50%'><!DOCTYPE html>\r\n",
                            "<html lang=\"fr\">\r\n",
                            "<meta charset=\"utf-8\">\r\n",
                            "\r\n",
                            "<div style=\"font-family: Consolas,monospace\">\r\n",
                            "<h1 style=\"margin-top:0; padding:0.1em 0.5em;background-color:darkslateblue;color:white\">Message privé</h1>\r\n",
                            "<p>Bonjour Dédé !\r\n",
                            "<address style=\"margin:1.33em 0 0\">Raymond Deubaze</address>\r\n",
                            "</div>\r\n",
                            "</div>"
                        ],
                        "text/plain": [
                            "<IPython.core.display.HTML object>"
                        ]
                    },
                    "metadata": {},
                    "output_type": "display_data"
                }
            ],
            "source": [
                "https_request('POST','mod95-be3.onrender.com','/message', headers={\n",
                "    'Content-Type': 'application/x-www-form-urlencoded'\n",
                "}, body=\"pr%C3%A9nom=Raymond&nom=Deubaze&message=Bonjour D%C3%A9d%C3%A9+!\")"
            ]
        },
        {
            "cell_type": "markdown",
            "metadata": {},
            "source": [
                "# B - Travail à effectuer\n",
                "\n",
                "## 1. Exemples de requêtes HTTP\n",
                "\n",
                "### __[1.1]__ - Effectuer une requête vers la ressource <a href=\"https://mod95-be3.onrender.com/hello.html\">hello html</a>.\n"
            ]
        },
        {
            "cell_type": "code",
            "execution_count": 5,
            "metadata": {
                "collapsed": false,
                "util.bundle": "correcteur"
            },
            "outputs": [
                {
                    "data": {
                        "text/html": [
                            "<code style='font-family:Consolas,monospace; display:block; margin-top: 5px; border-bottom:1px solid #ccc'><span style='font-weight:bold;color:#008'>200</span> - OK</code>"
                        ],
                        "text/plain": [
                            "<IPython.core.display.HTML object>"
                        ]
                    },
                    "metadata": {},
                    "output_type": "display_data"
                },
                {
                    "data": {
                        "text/html": [
                            "<code style='display:block; margin-top:-0.7em; font-family:Consolas,monospace'><b>Date:</b> Sun, 15 Dec 2024 15:00:08 GMT</code>"
                        ],
                        "text/plain": [
                            "<IPython.core.display.HTML object>"
                        ]
                    },
                    "metadata": {},
                    "output_type": "display_data"
                },
                {
                    "data": {
                        "text/html": [
                            "<code style='display:block; margin-top:-0.7em; font-family:Consolas,monospace'><b>Content-Type:</b> text/html; charset=UTF-8</code>"
                        ],
                        "text/plain": [
                            "<IPython.core.display.HTML object>"
                        ]
                    },
                    "metadata": {},
                    "output_type": "display_data"
                },
                {
                    "data": {
                        "text/html": [
                            "<code style='display:block; margin-top:-0.7em; font-family:Consolas,monospace'><b>Transfer-Encoding:</b> chunked</code>"
                        ],
                        "text/plain": [
                            "<IPython.core.display.HTML object>"
                        ]
                    },
                    "metadata": {},
                    "output_type": "display_data"
                },
                {
                    "data": {
                        "text/html": [
                            "<code style='display:block; margin-top:-0.7em; font-family:Consolas,monospace'><b>Connection:</b> keep-alive</code>"
                        ],
                        "text/plain": [
                            "<IPython.core.display.HTML object>"
                        ]
                    },
                    "metadata": {},
                    "output_type": "display_data"
                },
                {
                    "data": {
                        "text/html": [
                            "<code style='display:block; margin-top:-0.7em; font-family:Consolas,monospace'><b>CF-Ray:</b> 8f274d2e695b12a2-MRS</code>"
                        ],
                        "text/plain": [
                            "<IPython.core.display.HTML object>"
                        ]
                    },
                    "metadata": {},
                    "output_type": "display_data"
                },
                {
                    "data": {
                        "text/html": [
                            "<code style='display:block; margin-top:-0.7em; font-family:Consolas,monospace'><b>CF-Cache-Status:</b> DYNAMIC</code>"
                        ],
                        "text/plain": [
                            "<IPython.core.display.HTML object>"
                        ]
                    },
                    "metadata": {},
                    "output_type": "display_data"
                },
                {
                    "data": {
                        "text/html": [
                            "<code style='display:block; margin-top:-0.7em; font-family:Consolas,monospace'><b>Cache-Control:</b> public, max-age=0</code>"
                        ],
                        "text/plain": [
                            "<IPython.core.display.HTML object>"
                        ]
                    },
                    "metadata": {},
                    "output_type": "display_data"
                },
                {
                    "data": {
                        "text/html": [
                            "<code style='display:block; margin-top:-0.7em; font-family:Consolas,monospace'><b>ETag:</b> W/\"b6-187dd542520\"</code>"
                        ],
                        "text/plain": [
                            "<IPython.core.display.HTML object>"
                        ]
                    },
                    "metadata": {},
                    "output_type": "display_data"
                },
                {
                    "data": {
                        "text/html": [
                            "<code style='display:block; margin-top:-0.7em; font-family:Consolas,monospace'><b>Last-Modified:</b> Tue, 02 May 2023 16:38:12 GMT</code>"
                        ],
                        "text/plain": [
                            "<IPython.core.display.HTML object>"
                        ]
                    },
                    "metadata": {},
                    "output_type": "display_data"
                },
                {
                    "data": {
                        "text/html": [
                            "<code style='display:block; margin-top:-0.7em; font-family:Consolas,monospace'><b>Vary:</b> Accept-Encoding</code>"
                        ],
                        "text/plain": [
                            "<IPython.core.display.HTML object>"
                        ]
                    },
                    "metadata": {},
                    "output_type": "display_data"
                },
                {
                    "data": {
                        "text/html": [
                            "<code style='display:block; margin-top:-0.7em; font-family:Consolas,monospace'><b>rndr-id:</b> 88f834c5-ae71-4ef2</code>"
                        ],
                        "text/plain": [
                            "<IPython.core.display.HTML object>"
                        ]
                    },
                    "metadata": {},
                    "output_type": "display_data"
                },
                {
                    "data": {
                        "text/html": [
                            "<code style='display:block; margin-top:-0.7em; font-family:Consolas,monospace'><b>x-powered-by:</b> Express</code>"
                        ],
                        "text/plain": [
                            "<IPython.core.display.HTML object>"
                        ]
                    },
                    "metadata": {},
                    "output_type": "display_data"
                },
                {
                    "data": {
                        "text/html": [
                            "<code style='display:block; margin-top:-0.7em; font-family:Consolas,monospace'><b>x-render-origin-server:</b> Render</code>"
                        ],
                        "text/plain": [
                            "<IPython.core.display.HTML object>"
                        ]
                    },
                    "metadata": {},
                    "output_type": "display_data"
                },
                {
                    "data": {
                        "text/html": [
                            "<code style='display:block; margin-top:-0.7em; font-family:Consolas,monospace'><b>Server:</b> cloudflare</code>"
                        ],
                        "text/plain": [
                            "<IPython.core.display.HTML object>"
                        ]
                    },
                    "metadata": {},
                    "output_type": "display_data"
                },
                {
                    "data": {
                        "text/html": [
                            "<code style='display:block; margin-top:-0.7em; font-family:Consolas,monospace'><b>alt-svc:</b> h3=\":443\"; ma=86400</code>"
                        ],
                        "text/plain": [
                            "<IPython.core.display.HTML object>"
                        ]
                    },
                    "metadata": {},
                    "output_type": "display_data"
                },
                {
                    "data": {
                        "text/html": [
                            "<div style='padding:5px; border: 1px solid #ccc; border-radius:5px; box-shadow: 5px 5px 5px #ccc; margin:5px 0 10px 0; display: inline-block; min-width: 50%'><!DOCTYPE html>\n",
                            "<html lang=\"fr\">\n",
                            "<meta charset=\"utf-8\">\n",
                            "<title>Exemple HTML</title>\n",
                            "<h1 style=\"margin:0 0 0.33em\">Exemple</h1>\n",
                            "<div>Hello, ceci est un exemple de document HTML</div>\n",
                            "</div>"
                        ],
                        "text/plain": [
                            "<IPython.core.display.HTML object>"
                        ]
                    },
                    "metadata": {},
                    "output_type": "display_data"
                }
            ],
            "source": [
                "https_request('GET', 'mod95-be3.onrender.com', '/hello.html')"
            ]
        },
        {
            "cell_type": "markdown",
            "metadata": {},
            "source": [
                "### __[1.2]__ - Comment peut-on obtenir uniquement les entêtes de cette même ressource ?"
            ]
        },
        {
            "cell_type": "code",
            "execution_count": 6,
            "metadata": {
                "collapsed": false,
                "util.bundle": "correcteur"
            },
            "outputs": [
                {
                    "data": {
                        "text/html": [
                            "<code style='font-family:Consolas,monospace; display:block; margin-top: 5px; border-bottom:1px solid #ccc'><span style='font-weight:bold;color:#008'>200</span> - OK</code>"
                        ],
                        "text/plain": [
                            "<IPython.core.display.HTML object>"
                        ]
                    },
                    "metadata": {},
                    "output_type": "display_data"
                },
                {
                    "data": {
                        "text/html": [
                            "<code style='display:block; margin-top:-0.7em; font-family:Consolas,monospace'><b>Date:</b> Sun, 15 Dec 2024 15:00:08 GMT</code>"
                        ],
                        "text/plain": [
                            "<IPython.core.display.HTML object>"
                        ]
                    },
                    "metadata": {},
                    "output_type": "display_data"
                },
                {
                    "data": {
                        "text/html": [
                            "<code style='display:block; margin-top:-0.7em; font-family:Consolas,monospace'><b>Content-Type:</b> text/html; charset=UTF-8</code>"
                        ],
                        "text/plain": [
                            "<IPython.core.display.HTML object>"
                        ]
                    },
                    "metadata": {},
                    "output_type": "display_data"
                },
                {
                    "data": {
                        "text/html": [
                            "<code style='display:block; margin-top:-0.7em; font-family:Consolas,monospace'><b>Connection:</b> keep-alive</code>"
                        ],
                        "text/plain": [
                            "<IPython.core.display.HTML object>"
                        ]
                    },
                    "metadata": {},
                    "output_type": "display_data"
                },
                {
                    "data": {
                        "text/html": [
                            "<code style='display:block; margin-top:-0.7em; font-family:Consolas,monospace'><b>CF-Ray:</b> 8f274d31aee9e1e1-MRS</code>"
                        ],
                        "text/plain": [
                            "<IPython.core.display.HTML object>"
                        ]
                    },
                    "metadata": {},
                    "output_type": "display_data"
                },
                {
                    "data": {
                        "text/html": [
                            "<code style='display:block; margin-top:-0.7em; font-family:Consolas,monospace'><b>CF-Cache-Status:</b> DYNAMIC</code>"
                        ],
                        "text/plain": [
                            "<IPython.core.display.HTML object>"
                        ]
                    },
                    "metadata": {},
                    "output_type": "display_data"
                },
                {
                    "data": {
                        "text/html": [
                            "<code style='display:block; margin-top:-0.7em; font-family:Consolas,monospace'><b>Cache-Control:</b> public, max-age=0</code>"
                        ],
                        "text/plain": [
                            "<IPython.core.display.HTML object>"
                        ]
                    },
                    "metadata": {},
                    "output_type": "display_data"
                },
                {
                    "data": {
                        "text/html": [
                            "<code style='display:block; margin-top:-0.7em; font-family:Consolas,monospace'><b>ETag:</b> W/\"b6-187dd542520\"</code>"
                        ],
                        "text/plain": [
                            "<IPython.core.display.HTML object>"
                        ]
                    },
                    "metadata": {},
                    "output_type": "display_data"
                },
                {
                    "data": {
                        "text/html": [
                            "<code style='display:block; margin-top:-0.7em; font-family:Consolas,monospace'><b>Last-Modified:</b> Tue, 02 May 2023 16:38:12 GMT</code>"
                        ],
                        "text/plain": [
                            "<IPython.core.display.HTML object>"
                        ]
                    },
                    "metadata": {},
                    "output_type": "display_data"
                },
                {
                    "data": {
                        "text/html": [
                            "<code style='display:block; margin-top:-0.7em; font-family:Consolas,monospace'><b>Vary:</b> Accept-Encoding</code>"
                        ],
                        "text/plain": [
                            "<IPython.core.display.HTML object>"
                        ]
                    },
                    "metadata": {},
                    "output_type": "display_data"
                },
                {
                    "data": {
                        "text/html": [
                            "<code style='display:block; margin-top:-0.7em; font-family:Consolas,monospace'><b>rndr-id:</b> 83b4a15a-6abb-4e1d</code>"
                        ],
                        "text/plain": [
                            "<IPython.core.display.HTML object>"
                        ]
                    },
                    "metadata": {},
                    "output_type": "display_data"
                },
                {
                    "data": {
                        "text/html": [
                            "<code style='display:block; margin-top:-0.7em; font-family:Consolas,monospace'><b>x-powered-by:</b> Express</code>"
                        ],
                        "text/plain": [
                            "<IPython.core.display.HTML object>"
                        ]
                    },
                    "metadata": {},
                    "output_type": "display_data"
                },
                {
                    "data": {
                        "text/html": [
                            "<code style='display:block; margin-top:-0.7em; font-family:Consolas,monospace'><b>x-render-origin-server:</b> Render</code>"
                        ],
                        "text/plain": [
                            "<IPython.core.display.HTML object>"
                        ]
                    },
                    "metadata": {},
                    "output_type": "display_data"
                },
                {
                    "data": {
                        "text/html": [
                            "<code style='display:block; margin-top:-0.7em; font-family:Consolas,monospace'><b>Server:</b> cloudflare</code>"
                        ],
                        "text/plain": [
                            "<IPython.core.display.HTML object>"
                        ]
                    },
                    "metadata": {},
                    "output_type": "display_data"
                },
                {
                    "data": {
                        "text/html": [
                            "<code style='display:block; margin-top:-0.7em; font-family:Consolas,monospace'><b>alt-svc:</b> h3=\":443\"; ma=86400</code>"
                        ],
                        "text/plain": [
                            "<IPython.core.display.HTML object>"
                        ]
                    },
                    "metadata": {},
                    "output_type": "display_data"
                }
            ],
            "source": [
                "https_request('HEAD', 'mod95-be3.onrender.com', '/hello.html')"
            ]
        },
        {
            "cell_type": "markdown",
            "metadata": {},
            "source": [
                "### __[1.3]__ - Expliquer à quoi sert chacune des entêtes de la réponse que vous obtenez."
            ]
        },
        {
            "cell_type": "markdown",
            "metadata": {},
            "source": [
                "1. **Status Code**: `200 - OK`\n",
                "   - Indique que la requête a été traitée avec succès\n",
                "   - Le serveur a répondu normalement sans erreur\n",
                "\n",
                "2. **Date**: `Sat, 14 Dec 2024 12:20:03 GMT`\n",
                "   - Horodatage précis de la réponse du serveur\n",
                "   - Permet de synchroniser et de dater la réponse\n",
                "\n",
                "3. **Content-Type**: `text/html; charset=UTF-8`\n",
                "   - Spécifie que la ressource est un document HTML\n",
                "   - Précise l'encodage des caractères en UTF-8\n",
                "   - Permet au navigateur de savoir comment interpréter et afficher le document\n",
                "\n",
                "4. **Connection**: `keep-alive`\n",
                "   - Maintient la connexion TCP ouverte\n",
                "   - Permet de réutiliser la même connexion pour plusieurs requêtes\n",
                "   - Améliore les performances en réduisant l'overhead de création de connexion\n",
                "\n",
                "5. **CF-Ray**: `8f1e25511c740d8b-MRS`\n",
                "   - Identifiant unique de la requête chez Cloudflare\n",
                "   - Utile pour le débogage et le suivi des requêtes\n",
                "\n",
                "6. **CF-Cache-Status**: `DYNAMIC`\n",
                "   - Indique le statut de cache de Cloudflare\n",
                "   - `DYNAMIC` signifie que la ressource n'est pas mise en cache statiquement\n",
                "\n",
                "7. **Cache-Control**: `public, max-age=0`\n",
                "   - Définit les politiques de mise en cache\n",
                "   - `public` : la ressource peut être mise en cache par n'importe quel cache\n",
                "   - `max-age=0` : la ressource est considérée comme immédiatement périmée\n",
                "\n",
                "8. **ETag**: `W/\"b6-187dd542520\"`\n",
                "   - Identifiant unique de la version de la ressource\n",
                "   - Permet des vérifications rapides de modification\n",
                "   - Le `W/` indique un ETag \"weak\" (moins strict)\n",
                "\n",
                "9. **Last-Modified**: `Tue, 02 May 2023 16:38:12 GMT`\n",
                "   - Date de dernière modification du fichier\n",
                "   - Permet aux clients de savoir quand la ressource a été mise à jour\n",
                "   - Utile pour la gestion du cache\n",
                "\n",
                "10. **Vary**: `Accept-Encoding`\n",
                "    - Indique que la réponse peut varier selon l'encodage accepté par le client\n",
                "    - Permet des réponses différentes selon les capacités du navigateur\n",
                "\n",
                "11. **rndr-id**: `2346b771-7bf3-4afb`\n",
                "    - Identifiant de la requête côté Render (plateforme d'hébergement)\n",
                "    - Utile pour le suivi et le débogage\n",
                "\n",
                "12. **x-powered-by**: `Express`\n",
                "    - Révèle que le serveur utilise le framework Express (Node.js)\n",
                "    - Peut donner des informations sur l'infrastructure\n",
                "\n",
                "13. **x-render-origin-server**: `Render`\n",
                "    - Indique le serveur d'origine sur la plateforme Render\n",
                "    - Informations supplémentaires sur l'hébergement\n",
                "\n",
                "14. **Server**: `cloudflare`\n",
                "    - Identifie Cloudflare comme serveur de proxy/CDN\n",
                "    - Fournit des informations sur l'infrastructure réseau\n",
                "\n",
                "15. **alt-svc**: `h3=\":443\"; ma=86400`\n",
                "    - Propose une alternative de service (HTTP/3)\n",
                "    - `h3` signifie HTTP/3 sur le port 443\n",
                "    - `ma=86400` : durée de validité de 24 heures"
            ]
        },
        {
            "cell_type": "markdown",
            "metadata": {},
            "source": [
                "### __[1.4]__ - Observer maintenant les entêtes obtenues en accédant à <a href=\"http://dmolinarius.github.io/demofiles/mod-95/be-http/hello.html\">hello.html</a>\n",
                "\n",
                "Il s'agit d'un document ayant le même contenu que le précédent, mais hébergé sur un serveur différent.\n"
            ]
        },
        {
            "cell_type": "code",
            "execution_count": 7,
            "metadata": {
                "collapsed": false,
                "util.bundle": "correcteur"
            },
            "outputs": [
                {
                    "data": {
                        "text/html": [
                            "<code style='font-family:Consolas,monospace; display:block; margin-top: 5px; border-bottom:1px solid #ccc'><span style='font-weight:bold;color:#008'>200</span> - OK</code>"
                        ],
                        "text/plain": [
                            "<IPython.core.display.HTML object>"
                        ]
                    },
                    "metadata": {},
                    "output_type": "display_data"
                },
                {
                    "data": {
                        "text/html": [
                            "<code style='display:block; margin-top:-0.7em; font-family:Consolas,monospace'><b>Connection:</b> keep-alive</code>"
                        ],
                        "text/plain": [
                            "<IPython.core.display.HTML object>"
                        ]
                    },
                    "metadata": {},
                    "output_type": "display_data"
                },
                {
                    "data": {
                        "text/html": [
                            "<code style='display:block; margin-top:-0.7em; font-family:Consolas,monospace'><b>Content-Length:</b> 181</code>"
                        ],
                        "text/plain": [
                            "<IPython.core.display.HTML object>"
                        ]
                    },
                    "metadata": {},
                    "output_type": "display_data"
                },
                {
                    "data": {
                        "text/html": [
                            "<code style='display:block; margin-top:-0.7em; font-family:Consolas,monospace'><b>Server:</b> GitHub.com</code>"
                        ],
                        "text/plain": [
                            "<IPython.core.display.HTML object>"
                        ]
                    },
                    "metadata": {},
                    "output_type": "display_data"
                },
                {
                    "data": {
                        "text/html": [
                            "<code style='display:block; margin-top:-0.7em; font-family:Consolas,monospace'><b>Content-Type:</b> text/html; charset=utf-8</code>"
                        ],
                        "text/plain": [
                            "<IPython.core.display.HTML object>"
                        ]
                    },
                    "metadata": {},
                    "output_type": "display_data"
                },
                {
                    "data": {
                        "text/html": [
                            "<code style='display:block; margin-top:-0.7em; font-family:Consolas,monospace'><b>permissions-policy:</b> interest-cohort=()</code>"
                        ],
                        "text/plain": [
                            "<IPython.core.display.HTML object>"
                        ]
                    },
                    "metadata": {},
                    "output_type": "display_data"
                },
                {
                    "data": {
                        "text/html": [
                            "<code style='display:block; margin-top:-0.7em; font-family:Consolas,monospace'><b>Last-Modified:</b> Tue, 05 Nov 2024 17:09:39 GMT</code>"
                        ],
                        "text/plain": [
                            "<IPython.core.display.HTML object>"
                        ]
                    },
                    "metadata": {},
                    "output_type": "display_data"
                },
                {
                    "data": {
                        "text/html": [
                            "<code style='display:block; margin-top:-0.7em; font-family:Consolas,monospace'><b>Access-Control-Allow-Origin:</b> *</code>"
                        ],
                        "text/plain": [
                            "<IPython.core.display.HTML object>"
                        ]
                    },
                    "metadata": {},
                    "output_type": "display_data"
                },
                {
                    "data": {
                        "text/html": [
                            "<code style='display:block; margin-top:-0.7em; font-family:Consolas,monospace'><b>ETag:</b> \"672a5153-b5\"</code>"
                        ],
                        "text/plain": [
                            "<IPython.core.display.HTML object>"
                        ]
                    },
                    "metadata": {},
                    "output_type": "display_data"
                },
                {
                    "data": {
                        "text/html": [
                            "<code style='display:block; margin-top:-0.7em; font-family:Consolas,monospace'><b>expires:</b> Sat, 14 Dec 2024 12:30:03 GMT</code>"
                        ],
                        "text/plain": [
                            "<IPython.core.display.HTML object>"
                        ]
                    },
                    "metadata": {},
                    "output_type": "display_data"
                },
                {
                    "data": {
                        "text/html": [
                            "<code style='display:block; margin-top:-0.7em; font-family:Consolas,monospace'><b>Cache-Control:</b> max-age=600</code>"
                        ],
                        "text/plain": [
                            "<IPython.core.display.HTML object>"
                        ]
                    },
                    "metadata": {},
                    "output_type": "display_data"
                },
                {
                    "data": {
                        "text/html": [
                            "<code style='display:block; margin-top:-0.7em; font-family:Consolas,monospace'><b>x-proxy-cache:</b> MISS</code>"
                        ],
                        "text/plain": [
                            "<IPython.core.display.HTML object>"
                        ]
                    },
                    "metadata": {},
                    "output_type": "display_data"
                },
                {
                    "data": {
                        "text/html": [
                            "<code style='display:block; margin-top:-0.7em; font-family:Consolas,monospace'><b>X-GitHub-Request-Id:</b> 52A6:1A9745:124D341:12786AA:675D77F3</code>"
                        ],
                        "text/plain": [
                            "<IPython.core.display.HTML object>"
                        ]
                    },
                    "metadata": {},
                    "output_type": "display_data"
                },
                {
                    "data": {
                        "text/html": [
                            "<code style='display:block; margin-top:-0.7em; font-family:Consolas,monospace'><b>Accept-Ranges:</b> bytes</code>"
                        ],
                        "text/plain": [
                            "<IPython.core.display.HTML object>"
                        ]
                    },
                    "metadata": {},
                    "output_type": "display_data"
                },
                {
                    "data": {
                        "text/html": [
                            "<code style='display:block; margin-top:-0.7em; font-family:Consolas,monospace'><b>Age:</b> 0</code>"
                        ],
                        "text/plain": [
                            "<IPython.core.display.HTML object>"
                        ]
                    },
                    "metadata": {},
                    "output_type": "display_data"
                },
                {
                    "data": {
                        "text/html": [
                            "<code style='display:block; margin-top:-0.7em; font-family:Consolas,monospace'><b>Date:</b> Sun, 15 Dec 2024 15:00:09 GMT</code>"
                        ],
                        "text/plain": [
                            "<IPython.core.display.HTML object>"
                        ]
                    },
                    "metadata": {},
                    "output_type": "display_data"
                },
                {
                    "data": {
                        "text/html": [
                            "<code style='display:block; margin-top:-0.7em; font-family:Consolas,monospace'><b>Via:</b> 1.1 varnish</code>"
                        ],
                        "text/plain": [
                            "<IPython.core.display.HTML object>"
                        ]
                    },
                    "metadata": {},
                    "output_type": "display_data"
                },
                {
                    "data": {
                        "text/html": [
                            "<code style='display:block; margin-top:-0.7em; font-family:Consolas,monospace'><b>X-Served-By:</b> cache-mrs1050107-MRS</code>"
                        ],
                        "text/plain": [
                            "<IPython.core.display.HTML object>"
                        ]
                    },
                    "metadata": {},
                    "output_type": "display_data"
                },
                {
                    "data": {
                        "text/html": [
                            "<code style='display:block; margin-top:-0.7em; font-family:Consolas,monospace'><b>X-Cache:</b> HIT</code>"
                        ],
                        "text/plain": [
                            "<IPython.core.display.HTML object>"
                        ]
                    },
                    "metadata": {},
                    "output_type": "display_data"
                },
                {
                    "data": {
                        "text/html": [
                            "<code style='display:block; margin-top:-0.7em; font-family:Consolas,monospace'><b>X-Cache-Hits:</b> 0</code>"
                        ],
                        "text/plain": [
                            "<IPython.core.display.HTML object>"
                        ]
                    },
                    "metadata": {},
                    "output_type": "display_data"
                },
                {
                    "data": {
                        "text/html": [
                            "<code style='display:block; margin-top:-0.7em; font-family:Consolas,monospace'><b>X-Timer:</b> S1734274809.960850,VS0,VE116</code>"
                        ],
                        "text/plain": [
                            "<IPython.core.display.HTML object>"
                        ]
                    },
                    "metadata": {},
                    "output_type": "display_data"
                },
                {
                    "data": {
                        "text/html": [
                            "<code style='display:block; margin-top:-0.7em; font-family:Consolas,monospace'><b>Vary:</b> Accept-Encoding</code>"
                        ],
                        "text/plain": [
                            "<IPython.core.display.HTML object>"
                        ]
                    },
                    "metadata": {},
                    "output_type": "display_data"
                },
                {
                    "data": {
                        "text/html": [
                            "<code style='display:block; margin-top:-0.7em; font-family:Consolas,monospace'><b>X-Fastly-Request-ID:</b> 0a1623762ca84630e5f035ad94e48fee8295baba</code>"
                        ],
                        "text/plain": [
                            "<IPython.core.display.HTML object>"
                        ]
                    },
                    "metadata": {},
                    "output_type": "display_data"
                }
            ],
            "source": [
                "http_request('HEAD', 'dmolinarius.github.io', '/demofiles/mod-95/be-http/hello.html')"
            ]
        },
        {
            "cell_type": "markdown",
            "metadata": {},
            "source": [
                "### __[1.5]__ - Expliquer à quoi servent chacune des nouvelles entêtes de la réponse que vous obtenez. A quoi correspondent les entêtes dont le nom commence par X- ?"
            ]
        },
        {
            "cell_type": "markdown",
            "metadata": {},
            "source": [
                "1. **Content-Length**: `181`\n",
                "   - Taille de la réponse en octets\n",
                "\n",
                "2. **Server**: `GitHub.com`\n",
                "   - Identifie le serveur hébergeant la ressource\n",
                "\n",
                "3. **permissions-policy**: `interest-cohort=()`\n",
                "   - Contrôle les fonctionnalités et API accessibles\n",
                "\n",
                "4. **Access-Control-Allow-Origin**: `*`\n",
                "   - Autorise toutes les origines à accéder à la ressource\n",
                "\n",
                "5. **expires**: `Sat, 14 Dec 2024 12:30:03 GMT`\n",
                "   - Date d'expiration de la ressource\n",
                "\n",
                "6. **Cache-Control**: `max-age=600`\n",
                "   - Indique que la ressource peut être mise en cache pendant 600 secondes\n",
                "\n",
                "7. **x-proxy-cache**: `MISS`\n",
                "   - Indique que la ressource n'était pas dans le cache du proxy\n",
                "\n",
                "8. **X-GitHub-Request-Id**: Identifiant unique de la requête GitHub\n",
                "\n",
                "9. **Accept-Ranges**: `bytes`\n",
                "   - Indique que le serveur accepte les requêtes partielles en octets\n",
                "\n",
                "10. **Age**: `0`\n",
                "    - Temps passé depuis que la ressource a été générée par le serveur origin\n",
                "\n",
                "11. **Via**: `1.1 varnish`\n",
                "    - Indique que la requête est passée par un proxy Varnish\n",
                "\n",
                "12. **X-Served-By**: `cache-mrs1050108-MRS`\n",
                "    - Identifie le serveur de cache spécifique\n",
                "\n",
                "13. **X-Cache**: `MISS`\n",
                "    - Confirme que la ressource n'était pas en cache\n",
                "\n",
                "14. **X-Cache-Hits**: `0`\n",
                "    - Nombre de fois où la ressource a été servie depuis le cache\n",
                "\n",
                "15. **X-Timer**: `S1734178804.857956,VS0,VE135`\n",
                "    - Informations de chronométrage de la requête\n",
                "\n",
                "16. **X-Fastly-Request-ID**: Identifiant unique de la requête sur Fastly\n",
                "\n",
                "\n",
                "Les entêtes `X-` sont des extensions non standard qui permettent :\n",
                "- Le débogage\n",
                "- Le suivi des performances\n",
                "- L'ajout d'informations spécifiques à un service\n",
                "- La personnalisation du comportement réseau\n",
                "\n",
                "Historiquement, le préfixe `X-` indiquait un en-tête expérimental. Aujourd'hui, bien que ce ne soit plus une règle stricte, ces en-têtes restent utilisés pour des informations spécifiques à un service."
            ]
        },
        {
            "cell_type": "markdown",
            "metadata": {},
            "source": [
                "## 2. Divers types de ressources.\n",
                "\n",
                "### __[2.1]__ - Effectuer maintenant une requête vers la ressource <a href=\"https://mod95-be3.onrender.com/hello.txt\">hello.txt</a> et observer les entêtes obtenues.<br>\n",
                "Comparer les codes source des deux documents, puis expliciter l'ensemble des similitudes et des différences avec les entêtes correspondant à\n",
                "<a href=\"https://mod95-be3.onrender.com/hello.html\">hello.html</a>.\n"
            ]
        },
        {
            "cell_type": "code",
            "execution_count": 8,
            "metadata": {
                "collapsed": false,
                "util.bundle": "correcteur"
            },
            "outputs": [
                {
                    "data": {
                        "text/html": [
                            "<code style='font-family:Consolas,monospace; display:block; margin-top: 5px; border-bottom:1px solid #ccc'><span style='font-weight:bold;color:#008'>200</span> - OK</code>"
                        ],
                        "text/plain": [
                            "<IPython.core.display.HTML object>"
                        ]
                    },
                    "metadata": {},
                    "output_type": "display_data"
                },
                {
                    "data": {
                        "text/html": [
                            "<code style='display:block; margin-top:-0.7em; font-family:Consolas,monospace'><b>Date:</b> Sun, 15 Dec 2024 15:00:09 GMT</code>"
                        ],
                        "text/plain": [
                            "<IPython.core.display.HTML object>"
                        ]
                    },
                    "metadata": {},
                    "output_type": "display_data"
                },
                {
                    "data": {
                        "text/html": [
                            "<code style='display:block; margin-top:-0.7em; font-family:Consolas,monospace'><b>Content-Type:</b> text/plain; charset=UTF-8</code>"
                        ],
                        "text/plain": [
                            "<IPython.core.display.HTML object>"
                        ]
                    },
                    "metadata": {},
                    "output_type": "display_data"
                },
                {
                    "data": {
                        "text/html": [
                            "<code style='display:block; margin-top:-0.7em; font-family:Consolas,monospace'><b>Transfer-Encoding:</b> chunked</code>"
                        ],
                        "text/plain": [
                            "<IPython.core.display.HTML object>"
                        ]
                    },
                    "metadata": {},
                    "output_type": "display_data"
                },
                {
                    "data": {
                        "text/html": [
                            "<code style='display:block; margin-top:-0.7em; font-family:Consolas,monospace'><b>Connection:</b> keep-alive</code>"
                        ],
                        "text/plain": [
                            "<IPython.core.display.HTML object>"
                        ]
                    },
                    "metadata": {},
                    "output_type": "display_data"
                },
                {
                    "data": {
                        "text/html": [
                            "<code style='display:block; margin-top:-0.7em; font-family:Consolas,monospace'><b>CF-Ray:</b> 8f274d36d9bc12ac-MRS</code>"
                        ],
                        "text/plain": [
                            "<IPython.core.display.HTML object>"
                        ]
                    },
                    "metadata": {},
                    "output_type": "display_data"
                },
                {
                    "data": {
                        "text/html": [
                            "<code style='display:block; margin-top:-0.7em; font-family:Consolas,monospace'><b>CF-Cache-Status:</b> DYNAMIC</code>"
                        ],
                        "text/plain": [
                            "<IPython.core.display.HTML object>"
                        ]
                    },
                    "metadata": {},
                    "output_type": "display_data"
                },
                {
                    "data": {
                        "text/html": [
                            "<code style='display:block; margin-top:-0.7em; font-family:Consolas,monospace'><b>Cache-Control:</b> public, max-age=0</code>"
                        ],
                        "text/plain": [
                            "<IPython.core.display.HTML object>"
                        ]
                    },
                    "metadata": {},
                    "output_type": "display_data"
                },
                {
                    "data": {
                        "text/html": [
                            "<code style='display:block; margin-top:-0.7em; font-family:Consolas,monospace'><b>ETag:</b> W/\"b6-187dd542520\"</code>"
                        ],
                        "text/plain": [
                            "<IPython.core.display.HTML object>"
                        ]
                    },
                    "metadata": {},
                    "output_type": "display_data"
                },
                {
                    "data": {
                        "text/html": [
                            "<code style='display:block; margin-top:-0.7em; font-family:Consolas,monospace'><b>Last-Modified:</b> Tue, 02 May 2023 16:38:12 GMT</code>"
                        ],
                        "text/plain": [
                            "<IPython.core.display.HTML object>"
                        ]
                    },
                    "metadata": {},
                    "output_type": "display_data"
                },
                {
                    "data": {
                        "text/html": [
                            "<code style='display:block; margin-top:-0.7em; font-family:Consolas,monospace'><b>Vary:</b> Accept-Encoding</code>"
                        ],
                        "text/plain": [
                            "<IPython.core.display.HTML object>"
                        ]
                    },
                    "metadata": {},
                    "output_type": "display_data"
                },
                {
                    "data": {
                        "text/html": [
                            "<code style='display:block; margin-top:-0.7em; font-family:Consolas,monospace'><b>rndr-id:</b> 191d8cb9-1ee4-45dd</code>"
                        ],
                        "text/plain": [
                            "<IPython.core.display.HTML object>"
                        ]
                    },
                    "metadata": {},
                    "output_type": "display_data"
                },
                {
                    "data": {
                        "text/html": [
                            "<code style='display:block; margin-top:-0.7em; font-family:Consolas,monospace'><b>x-powered-by:</b> Express</code>"
                        ],
                        "text/plain": [
                            "<IPython.core.display.HTML object>"
                        ]
                    },
                    "metadata": {},
                    "output_type": "display_data"
                },
                {
                    "data": {
                        "text/html": [
                            "<code style='display:block; margin-top:-0.7em; font-family:Consolas,monospace'><b>x-render-origin-server:</b> Render</code>"
                        ],
                        "text/plain": [
                            "<IPython.core.display.HTML object>"
                        ]
                    },
                    "metadata": {},
                    "output_type": "display_data"
                },
                {
                    "data": {
                        "text/html": [
                            "<code style='display:block; margin-top:-0.7em; font-family:Consolas,monospace'><b>Server:</b> cloudflare</code>"
                        ],
                        "text/plain": [
                            "<IPython.core.display.HTML object>"
                        ]
                    },
                    "metadata": {},
                    "output_type": "display_data"
                },
                {
                    "data": {
                        "text/html": [
                            "<code style='display:block; margin-top:-0.7em; font-family:Consolas,monospace'><b>alt-svc:</b> h3=\":443\"; ma=86400</code>"
                        ],
                        "text/plain": [
                            "<IPython.core.display.HTML object>"
                        ]
                    },
                    "metadata": {},
                    "output_type": "display_data"
                },
                {
                    "data": {
                        "text/html": [
                            "<pre style='font-family:Consolas,monospace; padding:5px; border: 1px solid #ccc; border-radius:5px; box-shadow: 5px 5px 5px #ccc; margin:5px 0 10px 0; display: inline-block; min-width: 50%'>&lt;!DOCTYPE html&gt;\n",
                            "&lt;html lang=&quot;fr&quot;&gt;\n",
                            "&lt;meta charset=&quot;utf-8&quot;&gt;\n",
                            "&lt;title&gt;Exemple HTML&lt;/title&gt;\n",
                            "&lt;h1 style=&quot;margin:0 0 0.33em&quot;&gt;Exemple&lt;/h1&gt;\n",
                            "&lt;div&gt;Hello, ceci est un exemple de document HTML&lt;/div&gt;\n",
                            "</pre>"
                        ],
                        "text/plain": [
                            "<IPython.core.display.HTML object>"
                        ]
                    },
                    "metadata": {},
                    "output_type": "display_data"
                }
            ],
            "source": [
                "https_request('GET', 'mod95-be3.onrender.com', '/hello.txt')"
            ]
        },
        {
            "cell_type": "code",
            "execution_count": 9,
            "metadata": {
                "collapsed": false,
                "util.bundle": "correcteur"
            },
            "outputs": [
                {
                    "data": {
                        "text/html": [
                            "<code style='font-family:Consolas,monospace; display:block; margin-top: 5px; border-bottom:1px solid #ccc'><span style='font-weight:bold;color:#008'>200</span> - OK</code>"
                        ],
                        "text/plain": [
                            "<IPython.core.display.HTML object>"
                        ]
                    },
                    "metadata": {},
                    "output_type": "display_data"
                },
                {
                    "data": {
                        "text/html": [
                            "<code style='display:block; margin-top:-0.7em; font-family:Consolas,monospace'><b>Date:</b> Sun, 15 Dec 2024 15:00:09 GMT</code>"
                        ],
                        "text/plain": [
                            "<IPython.core.display.HTML object>"
                        ]
                    },
                    "metadata": {},
                    "output_type": "display_data"
                },
                {
                    "data": {
                        "text/html": [
                            "<code style='display:block; margin-top:-0.7em; font-family:Consolas,monospace'><b>Content-Type:</b> text/html; charset=UTF-8</code>"
                        ],
                        "text/plain": [
                            "<IPython.core.display.HTML object>"
                        ]
                    },
                    "metadata": {},
                    "output_type": "display_data"
                },
                {
                    "data": {
                        "text/html": [
                            "<code style='display:block; margin-top:-0.7em; font-family:Consolas,monospace'><b>Transfer-Encoding:</b> chunked</code>"
                        ],
                        "text/plain": [
                            "<IPython.core.display.HTML object>"
                        ]
                    },
                    "metadata": {},
                    "output_type": "display_data"
                },
                {
                    "data": {
                        "text/html": [
                            "<code style='display:block; margin-top:-0.7em; font-family:Consolas,monospace'><b>Connection:</b> keep-alive</code>"
                        ],
                        "text/plain": [
                            "<IPython.core.display.HTML object>"
                        ]
                    },
                    "metadata": {},
                    "output_type": "display_data"
                },
                {
                    "data": {
                        "text/html": [
                            "<code style='display:block; margin-top:-0.7em; font-family:Consolas,monospace'><b>CF-Ray:</b> 8f274d393e5f0dc0-MRS</code>"
                        ],
                        "text/plain": [
                            "<IPython.core.display.HTML object>"
                        ]
                    },
                    "metadata": {},
                    "output_type": "display_data"
                },
                {
                    "data": {
                        "text/html": [
                            "<code style='display:block; margin-top:-0.7em; font-family:Consolas,monospace'><b>CF-Cache-Status:</b> DYNAMIC</code>"
                        ],
                        "text/plain": [
                            "<IPython.core.display.HTML object>"
                        ]
                    },
                    "metadata": {},
                    "output_type": "display_data"
                },
                {
                    "data": {
                        "text/html": [
                            "<code style='display:block; margin-top:-0.7em; font-family:Consolas,monospace'><b>Cache-Control:</b> public, max-age=0</code>"
                        ],
                        "text/plain": [
                            "<IPython.core.display.HTML object>"
                        ]
                    },
                    "metadata": {},
                    "output_type": "display_data"
                },
                {
                    "data": {
                        "text/html": [
                            "<code style='display:block; margin-top:-0.7em; font-family:Consolas,monospace'><b>ETag:</b> W/\"b6-187dd542520\"</code>"
                        ],
                        "text/plain": [
                            "<IPython.core.display.HTML object>"
                        ]
                    },
                    "metadata": {},
                    "output_type": "display_data"
                },
                {
                    "data": {
                        "text/html": [
                            "<code style='display:block; margin-top:-0.7em; font-family:Consolas,monospace'><b>Last-Modified:</b> Tue, 02 May 2023 16:38:12 GMT</code>"
                        ],
                        "text/plain": [
                            "<IPython.core.display.HTML object>"
                        ]
                    },
                    "metadata": {},
                    "output_type": "display_data"
                },
                {
                    "data": {
                        "text/html": [
                            "<code style='display:block; margin-top:-0.7em; font-family:Consolas,monospace'><b>Vary:</b> Accept-Encoding</code>"
                        ],
                        "text/plain": [
                            "<IPython.core.display.HTML object>"
                        ]
                    },
                    "metadata": {},
                    "output_type": "display_data"
                },
                {
                    "data": {
                        "text/html": [
                            "<code style='display:block; margin-top:-0.7em; font-family:Consolas,monospace'><b>rndr-id:</b> 238f3d1a-b85a-43d5</code>"
                        ],
                        "text/plain": [
                            "<IPython.core.display.HTML object>"
                        ]
                    },
                    "metadata": {},
                    "output_type": "display_data"
                },
                {
                    "data": {
                        "text/html": [
                            "<code style='display:block; margin-top:-0.7em; font-family:Consolas,monospace'><b>x-powered-by:</b> Express</code>"
                        ],
                        "text/plain": [
                            "<IPython.core.display.HTML object>"
                        ]
                    },
                    "metadata": {},
                    "output_type": "display_data"
                },
                {
                    "data": {
                        "text/html": [
                            "<code style='display:block; margin-top:-0.7em; font-family:Consolas,monospace'><b>x-render-origin-server:</b> Render</code>"
                        ],
                        "text/plain": [
                            "<IPython.core.display.HTML object>"
                        ]
                    },
                    "metadata": {},
                    "output_type": "display_data"
                },
                {
                    "data": {
                        "text/html": [
                            "<code style='display:block; margin-top:-0.7em; font-family:Consolas,monospace'><b>Server:</b> cloudflare</code>"
                        ],
                        "text/plain": [
                            "<IPython.core.display.HTML object>"
                        ]
                    },
                    "metadata": {},
                    "output_type": "display_data"
                },
                {
                    "data": {
                        "text/html": [
                            "<code style='display:block; margin-top:-0.7em; font-family:Consolas,monospace'><b>alt-svc:</b> h3=\":443\"; ma=86400</code>"
                        ],
                        "text/plain": [
                            "<IPython.core.display.HTML object>"
                        ]
                    },
                    "metadata": {},
                    "output_type": "display_data"
                },
                {
                    "data": {
                        "text/html": [
                            "<div style='padding:5px; border: 1px solid #ccc; border-radius:5px; box-shadow: 5px 5px 5px #ccc; margin:5px 0 10px 0; display: inline-block; min-width: 50%'><!DOCTYPE html>\n",
                            "<html lang=\"fr\">\n",
                            "<meta charset=\"utf-8\">\n",
                            "<title>Exemple HTML</title>\n",
                            "<h1 style=\"margin:0 0 0.33em\">Exemple</h1>\n",
                            "<div>Hello, ceci est un exemple de document HTML</div>\n",
                            "</div>"
                        ],
                        "text/plain": [
                            "<IPython.core.display.HTML object>"
                        ]
                    },
                    "metadata": {},
                    "output_type": "display_data"
                }
            ],
            "source": [
                "https_request('GET', 'mod95-be3.onrender.com', '/hello.html')"
            ]
        },
        {
            "cell_type": "markdown",
            "metadata": {},
            "source": [
                "\n",
                "#### Similitudes\n",
                "1. **Last-Modified**: Identique pour les deux fichiers\n",
                "   - Date : `Tue, 02 May 2023 16:38:12 GMT`\n",
                "   - Indique que les fichiers ont été modifiés en même temps\n",
                "\n",
                "2. **Serveur**: Même infrastructure\n",
                "   - Serveur : `mod95-be3.onrender.com`\n",
                "   - Technologie : Express (x-powered-by)\n",
                "\n",
                "#### Différences\n",
                "\n",
                "1. **Content-Type**\n",
                "   - `hello.html`: `text/html; charset=UTF-8`\n",
                "   - `hello.txt`: `text/plain; charset=UTF-8`\n",
                "\n",
                "2. **Interprétation par le navigateur**\n",
                "   - `hello.html` sera rendu comme une page web\n",
                "   - `hello.txt` sera affiché comme du texte brut\n",
                "\n",
                "3. **Contenu probable**\n",
                "   - `hello.html` : Probablement un document HTML structuré\n",
                "   - `hello.txt` : Texte simple sans mise en forme\n",
                "\n",
                "#### Implications\n",
                "- Malgré un contenu potentiellement similaire, le type MIME différent change complètement l'affichage\n",
                "- Le navigateur utilise le `Content-Type` pour décider comment interpréter la ressource"
            ]
        },
        {
            "cell_type": "markdown",
            "metadata": {},
            "source": [
                "### \n",
                "__[2.2]__ - Visualiser ces deux ressources à l'aide d'un navigateur et noter la différence (s'il n'y en a pas, changer de navigateur). Commenter."
            ]
        },
        {
            "cell_type": "markdown",
            "metadata": {},
            "source": [
                "#### Différences d'affichage\n",
                "\n",
                "1. **Présentation**\n",
                "   - `hello.html` : \n",
                "     * Rendu comme une page web\n",
                "     * Mise en forme potentielle (couleurs, polices, structure)\n",
                "     * Interprétation des balises HTML si présentes\n",
                "\n",
                "   - `hello.txt` :\n",
                "     * Affiché comme texte brut\n",
                "     * Police monospace standard\n",
                "     * Aucune mise en forme\n",
                "     * Sauts de ligne et espaces conservés tels quels\n",
                "\n",
                "2. **Interaction navigateur**\n",
                "   - `hello.html` : \n",
                "     * Peut contenir des éléments interactifs\n",
                "     * Supporte les liens hypertextes\n",
                "     * Interprète le HTML\n",
                "\n",
                "   - `hello.txt` :\n",
                "     * Aucune interactivité\n",
                "     * Texte statique\n",
                "     * Affichage simple et linéaire\n",
                "\n",
                "#### Conclusion\n",
                "La différence principale réside dans l'interprétation et l'affichage, dictés par le type MIME (`text/html` vs `text/plain`)."
            ]
        },
        {
            "cell_type": "markdown",
            "metadata": {},
            "source": [
                "### __[2.3]__ - Effectuer les requêtes permettant d'obtenir les ressources <a href=\"https://mod95-be3.onrender.com/file1.html\">file1.html</a>, <a href=\"https://mod95-be3.onrender.com/file2.html\">file2.html</a>, <a href=\"https://mod95-be3.onrender.com/file3.html\">file3.html</a>, et essayez de les ouvrir directement dans votre navigateur.\n",
                "\n",
                "Commenter ce que vous observez et les réponses obtenues, en indiquant notamment quel est le type respectif de chacune de ces ressources et comment les navigateurs les affichent. Préciser comment fait le navigateur pour savoir comment afficher chacune de ces ressources, et donner votre avis sur la pertinence de la démarche qui consisterait à essayer d'inférer le type d'une ressource à partir de son URL."
            ]
        },
        {
            "cell_type": "code",
            "execution_count": 10,
            "metadata": {
                "collapsed": false,
                "util.bundle": "correcteur"
            },
            "outputs": [
                {
                    "data": {
                        "text/html": [
                            "<code style='font-family:Consolas,monospace; display:block; margin-top: 5px; border-bottom:1px solid #ccc'><span style='font-weight:bold;color:#008'>200</span> - OK</code>"
                        ],
                        "text/plain": [
                            "<IPython.core.display.HTML object>"
                        ]
                    },
                    "metadata": {},
                    "output_type": "display_data"
                },
                {
                    "data": {
                        "text/html": [
                            "<code style='display:block; margin-top:-0.7em; font-family:Consolas,monospace'><b>Date:</b> Sun, 15 Dec 2024 15:00:10 GMT</code>"
                        ],
                        "text/plain": [
                            "<IPython.core.display.HTML object>"
                        ]
                    },
                    "metadata": {},
                    "output_type": "display_data"
                },
                {
                    "data": {
                        "text/html": [
                            "<code style='display:block; margin-top:-0.7em; font-family:Consolas,monospace'><b>Content-Type:</b> image/jpeg</code>"
                        ],
                        "text/plain": [
                            "<IPython.core.display.HTML object>"
                        ]
                    },
                    "metadata": {},
                    "output_type": "display_data"
                },
                {
                    "data": {
                        "text/html": [
                            "<code style='display:block; margin-top:-0.7em; font-family:Consolas,monospace'><b>Content-Length:</b> 3053</code>"
                        ],
                        "text/plain": [
                            "<IPython.core.display.HTML object>"
                        ]
                    },
                    "metadata": {},
                    "output_type": "display_data"
                },
                {
                    "data": {
                        "text/html": [
                            "<code style='display:block; margin-top:-0.7em; font-family:Consolas,monospace'><b>Connection:</b> keep-alive</code>"
                        ],
                        "text/plain": [
                            "<IPython.core.display.HTML object>"
                        ]
                    },
                    "metadata": {},
                    "output_type": "display_data"
                },
                {
                    "data": {
                        "text/html": [
                            "<code style='display:block; margin-top:-0.7em; font-family:Consolas,monospace'><b>CF-Ray:</b> 8f274d3c0c64e18b-MRS</code>"
                        ],
                        "text/plain": [
                            "<IPython.core.display.HTML object>"
                        ]
                    },
                    "metadata": {},
                    "output_type": "display_data"
                },
                {
                    "data": {
                        "text/html": [
                            "<code style='display:block; margin-top:-0.7em; font-family:Consolas,monospace'><b>CF-Cache-Status:</b> DYNAMIC</code>"
                        ],
                        "text/plain": [
                            "<IPython.core.display.HTML object>"
                        ]
                    },
                    "metadata": {},
                    "output_type": "display_data"
                },
                {
                    "data": {
                        "text/html": [
                            "<code style='display:block; margin-top:-0.7em; font-family:Consolas,monospace'><b>Last-Modified:</b> Tue, 02 May 2023 16:38:12 GMT</code>"
                        ],
                        "text/plain": [
                            "<IPython.core.display.HTML object>"
                        ]
                    },
                    "metadata": {},
                    "output_type": "display_data"
                },
                {
                    "data": {
                        "text/html": [
                            "<code style='display:block; margin-top:-0.7em; font-family:Consolas,monospace'><b>rndr-id:</b> ed68344e-e98d-46dc</code>"
                        ],
                        "text/plain": [
                            "<IPython.core.display.HTML object>"
                        ]
                    },
                    "metadata": {},
                    "output_type": "display_data"
                },
                {
                    "data": {
                        "text/html": [
                            "<code style='display:block; margin-top:-0.7em; font-family:Consolas,monospace'><b>x-powered-by:</b> Express</code>"
                        ],
                        "text/plain": [
                            "<IPython.core.display.HTML object>"
                        ]
                    },
                    "metadata": {},
                    "output_type": "display_data"
                },
                {
                    "data": {
                        "text/html": [
                            "<code style='display:block; margin-top:-0.7em; font-family:Consolas,monospace'><b>x-render-origin-server:</b> Render</code>"
                        ],
                        "text/plain": [
                            "<IPython.core.display.HTML object>"
                        ]
                    },
                    "metadata": {},
                    "output_type": "display_data"
                },
                {
                    "data": {
                        "text/html": [
                            "<code style='display:block; margin-top:-0.7em; font-family:Consolas,monospace'><b>Vary:</b> Accept-Encoding</code>"
                        ],
                        "text/plain": [
                            "<IPython.core.display.HTML object>"
                        ]
                    },
                    "metadata": {},
                    "output_type": "display_data"
                },
                {
                    "data": {
                        "text/html": [
                            "<code style='display:block; margin-top:-0.7em; font-family:Consolas,monospace'><b>Server:</b> cloudflare</code>"
                        ],
                        "text/plain": [
                            "<IPython.core.display.HTML object>"
                        ]
                    },
                    "metadata": {},
                    "output_type": "display_data"
                },
                {
                    "data": {
                        "text/html": [
                            "<code style='display:block; margin-top:-0.7em; font-family:Consolas,monospace'><b>alt-svc:</b> h3=\":443\"; ma=86400</code>"
                        ],
                        "text/plain": [
                            "<IPython.core.display.HTML object>"
                        ]
                    },
                    "metadata": {},
                    "output_type": "display_data"
                },
                {
                    "data": {
                        "image/jpeg": "[encoded data removed]",
                        "text/plain": [
                            "<IPython.core.display.Image object>"
                        ]
                    },
                    "metadata": {},
                    "output_type": "display_data"
                }
            ],
            "source": [
                "https_request('GET', 'mod95-be3.onrender.com', '/file1.html')"
            ]
        },
        {
            "cell_type": "code",
            "execution_count": 11,
            "metadata": {
                "collapsed": false,
                "util.bundle": "correcteur"
            },
            "outputs": [
                {
                    "data": {
                        "text/html": [
                            "<code style='font-family:Consolas,monospace; display:block; margin-top: 5px; border-bottom:1px solid #ccc'><span style='font-weight:bold;color:#008'>200</span> - OK</code>"
                        ],
                        "text/plain": [
                            "<IPython.core.display.HTML object>"
                        ]
                    },
                    "metadata": {},
                    "output_type": "display_data"
                },
                {
                    "data": {
                        "text/html": [
                            "<code style='display:block; margin-top:-0.7em; font-family:Consolas,monospace'><b>Date:</b> Sun, 15 Dec 2024 15:00:10 GMT</code>"
                        ],
                        "text/plain": [
                            "<IPython.core.display.HTML object>"
                        ]
                    },
                    "metadata": {},
                    "output_type": "display_data"
                },
                {
                    "data": {
                        "text/html": [
                            "<code style='display:block; margin-top:-0.7em; font-family:Consolas,monospace'><b>Content-Type:</b> image/gif</code>"
                        ],
                        "text/plain": [
                            "<IPython.core.display.HTML object>"
                        ]
                    },
                    "metadata": {},
                    "output_type": "display_data"
                },
                {
                    "data": {
                        "text/html": [
                            "<code style='display:block; margin-top:-0.7em; font-family:Consolas,monospace'><b>Content-Length:</b> 1493</code>"
                        ],
                        "text/plain": [
                            "<IPython.core.display.HTML object>"
                        ]
                    },
                    "metadata": {},
                    "output_type": "display_data"
                },
                {
                    "data": {
                        "text/html": [
                            "<code style='display:block; margin-top:-0.7em; font-family:Consolas,monospace'><b>Connection:</b> keep-alive</code>"
                        ],
                        "text/plain": [
                            "<IPython.core.display.HTML object>"
                        ]
                    },
                    "metadata": {},
                    "output_type": "display_data"
                },
                {
                    "data": {
                        "text/html": [
                            "<code style='display:block; margin-top:-0.7em; font-family:Consolas,monospace'><b>CF-Ray:</b> 8f274d3e2bdae1a0-MRS</code>"
                        ],
                        "text/plain": [
                            "<IPython.core.display.HTML object>"
                        ]
                    },
                    "metadata": {},
                    "output_type": "display_data"
                },
                {
                    "data": {
                        "text/html": [
                            "<code style='display:block; margin-top:-0.7em; font-family:Consolas,monospace'><b>CF-Cache-Status:</b> DYNAMIC</code>"
                        ],
                        "text/plain": [
                            "<IPython.core.display.HTML object>"
                        ]
                    },
                    "metadata": {},
                    "output_type": "display_data"
                },
                {
                    "data": {
                        "text/html": [
                            "<code style='display:block; margin-top:-0.7em; font-family:Consolas,monospace'><b>Last-Modified:</b> Tue, 02 May 2023 16:38:12 GMT</code>"
                        ],
                        "text/plain": [
                            "<IPython.core.display.HTML object>"
                        ]
                    },
                    "metadata": {},
                    "output_type": "display_data"
                },
                {
                    "data": {
                        "text/html": [
                            "<code style='display:block; margin-top:-0.7em; font-family:Consolas,monospace'><b>rndr-id:</b> 8657f0c4-6531-4c4e</code>"
                        ],
                        "text/plain": [
                            "<IPython.core.display.HTML object>"
                        ]
                    },
                    "metadata": {},
                    "output_type": "display_data"
                },
                {
                    "data": {
                        "text/html": [
                            "<code style='display:block; margin-top:-0.7em; font-family:Consolas,monospace'><b>x-powered-by:</b> Express</code>"
                        ],
                        "text/plain": [
                            "<IPython.core.display.HTML object>"
                        ]
                    },
                    "metadata": {},
                    "output_type": "display_data"
                },
                {
                    "data": {
                        "text/html": [
                            "<code style='display:block; margin-top:-0.7em; font-family:Consolas,monospace'><b>x-render-origin-server:</b> Render</code>"
                        ],
                        "text/plain": [
                            "<IPython.core.display.HTML object>"
                        ]
                    },
                    "metadata": {},
                    "output_type": "display_data"
                },
                {
                    "data": {
                        "text/html": [
                            "<code style='display:block; margin-top:-0.7em; font-family:Consolas,monospace'><b>Vary:</b> Accept-Encoding</code>"
                        ],
                        "text/plain": [
                            "<IPython.core.display.HTML object>"
                        ]
                    },
                    "metadata": {},
                    "output_type": "display_data"
                },
                {
                    "data": {
                        "text/html": [
                            "<code style='display:block; margin-top:-0.7em; font-family:Consolas,monospace'><b>Server:</b> cloudflare</code>"
                        ],
                        "text/plain": [
                            "<IPython.core.display.HTML object>"
                        ]
                    },
                    "metadata": {},
                    "output_type": "display_data"
                },
                {
                    "data": {
                        "text/html": [
                            "<code style='display:block; margin-top:-0.7em; font-family:Consolas,monospace'><b>alt-svc:</b> h3=\":443\"; ma=86400</code>"
                        ],
                        "text/plain": [
                            "<IPython.core.display.HTML object>"
                        ]
                    },
                    "metadata": {},
                    "output_type": "display_data"
                },
                {
                    "data": {
                        "image/gif": "[encoded data removed]",
                        "text/plain": [
                            "<IPython.core.display.Image object>"
                        ]
                    },
                    "metadata": {},
                    "output_type": "display_data"
                }
            ],
            "source": [
                "https_request('GET', 'mod95-be3.onrender.com', '/file2.html')"
            ]
        },
        {
            "cell_type": "code",
            "execution_count": 12,
            "metadata": {
                "collapsed": false,
                "util.bundle": "correcteur"
            },
            "outputs": [
                {
                    "data": {
                        "text/html": [
                            "<code style='font-family:Consolas,monospace; display:block; margin-top: 5px; border-bottom:1px solid #ccc'><span style='font-weight:bold;color:#008'>200</span> - OK</code>"
                        ],
                        "text/plain": [
                            "<IPython.core.display.HTML object>"
                        ]
                    },
                    "metadata": {},
                    "output_type": "display_data"
                },
                {
                    "data": {
                        "text/html": [
                            "<code style='display:block; margin-top:-0.7em; font-family:Consolas,monospace'><b>Date:</b> Sun, 15 Dec 2024 15:00:11 GMT</code>"
                        ],
                        "text/plain": [
                            "<IPython.core.display.HTML object>"
                        ]
                    },
                    "metadata": {},
                    "output_type": "display_data"
                },
                {
                    "data": {
                        "text/html": [
                            "<code style='display:block; margin-top:-0.7em; font-family:Consolas,monospace'><b>Content-Type:</b> application/pdf</code>"
                        ],
                        "text/plain": [
                            "<IPython.core.display.HTML object>"
                        ]
                    },
                    "metadata": {},
                    "output_type": "display_data"
                },
                {
                    "data": {
                        "text/html": [
                            "<code style='display:block; margin-top:-0.7em; font-family:Consolas,monospace'><b>Content-Length:</b> 25319</code>"
                        ],
                        "text/plain": [
                            "<IPython.core.display.HTML object>"
                        ]
                    },
                    "metadata": {},
                    "output_type": "display_data"
                },
                {
                    "data": {
                        "text/html": [
                            "<code style='display:block; margin-top:-0.7em; font-family:Consolas,monospace'><b>Connection:</b> keep-alive</code>"
                        ],
                        "text/plain": [
                            "<IPython.core.display.HTML object>"
                        ]
                    },
                    "metadata": {},
                    "output_type": "display_data"
                },
                {
                    "data": {
                        "text/html": [
                            "<code style='display:block; margin-top:-0.7em; font-family:Consolas,monospace'><b>CF-Ray:</b> 8f274d40ba2ee28d-MRS</code>"
                        ],
                        "text/plain": [
                            "<IPython.core.display.HTML object>"
                        ]
                    },
                    "metadata": {},
                    "output_type": "display_data"
                },
                {
                    "data": {
                        "text/html": [
                            "<code style='display:block; margin-top:-0.7em; font-family:Consolas,monospace'><b>CF-Cache-Status:</b> DYNAMIC</code>"
                        ],
                        "text/plain": [
                            "<IPython.core.display.HTML object>"
                        ]
                    },
                    "metadata": {},
                    "output_type": "display_data"
                },
                {
                    "data": {
                        "text/html": [
                            "<code style='display:block; margin-top:-0.7em; font-family:Consolas,monospace'><b>Last-Modified:</b> Tue, 02 May 2023 16:38:12 GMT</code>"
                        ],
                        "text/plain": [
                            "<IPython.core.display.HTML object>"
                        ]
                    },
                    "metadata": {},
                    "output_type": "display_data"
                },
                {
                    "data": {
                        "text/html": [
                            "<code style='display:block; margin-top:-0.7em; font-family:Consolas,monospace'><b>rndr-id:</b> 7f19f01c-dbc9-43f0</code>"
                        ],
                        "text/plain": [
                            "<IPython.core.display.HTML object>"
                        ]
                    },
                    "metadata": {},
                    "output_type": "display_data"
                },
                {
                    "data": {
                        "text/html": [
                            "<code style='display:block; margin-top:-0.7em; font-family:Consolas,monospace'><b>x-powered-by:</b> Express</code>"
                        ],
                        "text/plain": [
                            "<IPython.core.display.HTML object>"
                        ]
                    },
                    "metadata": {},
                    "output_type": "display_data"
                },
                {
                    "data": {
                        "text/html": [
                            "<code style='display:block; margin-top:-0.7em; font-family:Consolas,monospace'><b>x-render-origin-server:</b> Render</code>"
                        ],
                        "text/plain": [
                            "<IPython.core.display.HTML object>"
                        ]
                    },
                    "metadata": {},
                    "output_type": "display_data"
                },
                {
                    "data": {
                        "text/html": [
                            "<code style='display:block; margin-top:-0.7em; font-family:Consolas,monospace'><b>Vary:</b> Accept-Encoding</code>"
                        ],
                        "text/plain": [
                            "<IPython.core.display.HTML object>"
                        ]
                    },
                    "metadata": {},
                    "output_type": "display_data"
                },
                {
                    "data": {
                        "text/html": [
                            "<code style='display:block; margin-top:-0.7em; font-family:Consolas,monospace'><b>Server:</b> cloudflare</code>"
                        ],
                        "text/plain": [
                            "<IPython.core.display.HTML object>"
                        ]
                    },
                    "metadata": {},
                    "output_type": "display_data"
                },
                {
                    "data": {
                        "text/html": [
                            "<code style='display:block; margin-top:-0.7em; font-family:Consolas,monospace'><b>alt-svc:</b> h3=\":443\"; ma=86400</code>"
                        ],
                        "text/plain": [
                            "<IPython.core.display.HTML object>"
                        ]
                    },
                    "metadata": {},
                    "output_type": "display_data"
                },
                {
                    "data": {
                        "text/html": [
                            "<i style=\"margin-top:-0.4em; font-family:Consolas,monospace; display:inline-block; margin-top:10px; color:#ccc\">Le notebook ne sait pas afficher le type de contenu application/pdf</i>"
                        ],
                        "text/plain": [
                            "<IPython.core.display.HTML object>"
                        ]
                    },
                    "metadata": {},
                    "output_type": "display_data"
                }
            ],
            "source": [
                "https_request('GET', 'mod95-be3.onrender.com', '/file3.html')"
            ]
        },
        {
            "cell_type": "markdown",
            "metadata": {},
            "source": [
                "#### Résultats des requêtes\n",
                "\n",
                "1. **file1.html**\n",
                "   - Type de contenu : Image JPEG\n",
                "   - Content-Type: `image/jpeg`\n",
                "   - Affichage navigateur : Image directement visible\n",
                "\n",
                "2. **file2.html**\n",
                "   - Content-Type: probablement `text/html`\n",
                "   - Serveur : Utilise Express\n",
                "   - Entête `x-powered-by: Express`\n",
                "\n",
                "3. **file3.html**\n",
                "   - Content-Type: probablement `text/html`\n",
                "   - Serveur : Utilise Express\n",
                "   - Entête `x-powered-by: Express`\n",
                "\n",
                "#### Comment le navigateur détermine l'affichage\n",
                "\n",
                "1. **Mécanisme principal** : Content-Type\n",
                "   - Le navigateur utilise l'en-tête `Content-Type` pour décider comment afficher la ressource\n",
                "   - Exemples :\n",
                "     * `image/jpeg` → affichage comme image\n",
                "     * `text/html` → rendu comme page web\n",
                "     * `text/plain` → affichage en texte brut\n",
                "\n",
                "2. **Méthodes de détermination**\n",
                "   - Priorité à l'en-tête `Content-Type`\n",
                "   - Analyse du contenu (MIME sniffing) en second lieu\n",
                "   - Extension du fichier utilisée comme indice secondaire\n",
                "\n",
                "#### Pertinence d'inférer le type de ressource à partir de l'URL\n",
                "\n",
                "**Avis critique** :\n",
                "- **Déconseillé** de se fier uniquement à l'extension\n",
                "- Raisons :\n",
                "  1. L'extension peut être trompeuse\n",
                "  2. Le serveur définit le type MIME réel\n",
                "  3. Risques de sécurité si on se fie uniquement à l'extension\n",
                "  4. Un fichier `.html` peut contenir autre chose qu'un HTML valide\n",
                "  5. Un serveur peut servir n'importe quel type de contenu sous n'importe quelle extension\n",
                "\n",
                "**Recommandation** :\n",
                "- Toujours utiliser l'en-tête `Content-Type`\n",
                "- Ne jamais se fier uniquement à l'extension du fichier"
            ]
        },
        {
            "cell_type": "markdown",
            "metadata": {},
            "source": [
                "## 3. Requêtes conditionnelles.\n",
                "\n",
                "### __[3.1]__ - Afin de faciliter la gestion des caches, HTTP/1.0 possède la directive Last-Modified, tandis que HTTP/1.1 a introduit la notion d'Etag. Noter la date de dernière modification et l'Etag de la ressource <a href=\"https://mod95-be3.onrender.com/hello.html\">hello.html</a>."
            ]
        },
        {
            "cell_type": "code",
            "execution_count": 13,
            "metadata": {
                "collapsed": false,
                "util.bundle": "correcteur"
            },
            "outputs": [
                {
                    "data": {
                        "text/html": [
                            "<code style='font-family:Consolas,monospace; display:block; margin-top: 5px; border-bottom:1px solid #ccc'><span style='font-weight:bold;color:#008'>200</span> - OK</code>"
                        ],
                        "text/plain": [
                            "<IPython.core.display.HTML object>"
                        ]
                    },
                    "metadata": {},
                    "output_type": "display_data"
                },
                {
                    "data": {
                        "text/html": [
                            "<code style='display:block; margin-top:-0.7em; font-family:Consolas,monospace'><b>Date:</b> Sun, 15 Dec 2024 15:00:11 GMT</code>"
                        ],
                        "text/plain": [
                            "<IPython.core.display.HTML object>"
                        ]
                    },
                    "metadata": {},
                    "output_type": "display_data"
                },
                {
                    "data": {
                        "text/html": [
                            "<code style='display:block; margin-top:-0.7em; font-family:Consolas,monospace'><b>Content-Type:</b> text/html; charset=UTF-8</code>"
                        ],
                        "text/plain": [
                            "<IPython.core.display.HTML object>"
                        ]
                    },
                    "metadata": {},
                    "output_type": "display_data"
                },
                {
                    "data": {
                        "text/html": [
                            "<code style='display:block; margin-top:-0.7em; font-family:Consolas,monospace'><b>Transfer-Encoding:</b> chunked</code>"
                        ],
                        "text/plain": [
                            "<IPython.core.display.HTML object>"
                        ]
                    },
                    "metadata": {},
                    "output_type": "display_data"
                },
                {
                    "data": {
                        "text/html": [
                            "<code style='display:block; margin-top:-0.7em; font-family:Consolas,monospace'><b>Connection:</b> keep-alive</code>"
                        ],
                        "text/plain": [
                            "<IPython.core.display.HTML object>"
                        ]
                    },
                    "metadata": {},
                    "output_type": "display_data"
                },
                {
                    "data": {
                        "text/html": [
                            "<code style='display:block; margin-top:-0.7em; font-family:Consolas,monospace'><b>CF-Ray:</b> 8f274d4309d1e1e5-MRS</code>"
                        ],
                        "text/plain": [
                            "<IPython.core.display.HTML object>"
                        ]
                    },
                    "metadata": {},
                    "output_type": "display_data"
                },
                {
                    "data": {
                        "text/html": [
                            "<code style='display:block; margin-top:-0.7em; font-family:Consolas,monospace'><b>CF-Cache-Status:</b> DYNAMIC</code>"
                        ],
                        "text/plain": [
                            "<IPython.core.display.HTML object>"
                        ]
                    },
                    "metadata": {},
                    "output_type": "display_data"
                },
                {
                    "data": {
                        "text/html": [
                            "<code style='display:block; margin-top:-0.7em; font-family:Consolas,monospace'><b>Cache-Control:</b> public, max-age=0</code>"
                        ],
                        "text/plain": [
                            "<IPython.core.display.HTML object>"
                        ]
                    },
                    "metadata": {},
                    "output_type": "display_data"
                },
                {
                    "data": {
                        "text/html": [
                            "<code style='display:block; margin-top:-0.7em; font-family:Consolas,monospace'><b>ETag:</b> W/\"b6-187dd542520\"</code>"
                        ],
                        "text/plain": [
                            "<IPython.core.display.HTML object>"
                        ]
                    },
                    "metadata": {},
                    "output_type": "display_data"
                },
                {
                    "data": {
                        "text/html": [
                            "<code style='display:block; margin-top:-0.7em; font-family:Consolas,monospace'><b>Last-Modified:</b> Tue, 02 May 2023 16:38:12 GMT</code>"
                        ],
                        "text/plain": [
                            "<IPython.core.display.HTML object>"
                        ]
                    },
                    "metadata": {},
                    "output_type": "display_data"
                },
                {
                    "data": {
                        "text/html": [
                            "<code style='display:block; margin-top:-0.7em; font-family:Consolas,monospace'><b>Vary:</b> Accept-Encoding</code>"
                        ],
                        "text/plain": [
                            "<IPython.core.display.HTML object>"
                        ]
                    },
                    "metadata": {},
                    "output_type": "display_data"
                },
                {
                    "data": {
                        "text/html": [
                            "<code style='display:block; margin-top:-0.7em; font-family:Consolas,monospace'><b>rndr-id:</b> 35bbcb30-9c1e-4e2d</code>"
                        ],
                        "text/plain": [
                            "<IPython.core.display.HTML object>"
                        ]
                    },
                    "metadata": {},
                    "output_type": "display_data"
                },
                {
                    "data": {
                        "text/html": [
                            "<code style='display:block; margin-top:-0.7em; font-family:Consolas,monospace'><b>x-powered-by:</b> Express</code>"
                        ],
                        "text/plain": [
                            "<IPython.core.display.HTML object>"
                        ]
                    },
                    "metadata": {},
                    "output_type": "display_data"
                },
                {
                    "data": {
                        "text/html": [
                            "<code style='display:block; margin-top:-0.7em; font-family:Consolas,monospace'><b>x-render-origin-server:</b> Render</code>"
                        ],
                        "text/plain": [
                            "<IPython.core.display.HTML object>"
                        ]
                    },
                    "metadata": {},
                    "output_type": "display_data"
                },
                {
                    "data": {
                        "text/html": [
                            "<code style='display:block; margin-top:-0.7em; font-family:Consolas,monospace'><b>Server:</b> cloudflare</code>"
                        ],
                        "text/plain": [
                            "<IPython.core.display.HTML object>"
                        ]
                    },
                    "metadata": {},
                    "output_type": "display_data"
                },
                {
                    "data": {
                        "text/html": [
                            "<code style='display:block; margin-top:-0.7em; font-family:Consolas,monospace'><b>alt-svc:</b> h3=\":443\"; ma=86400</code>"
                        ],
                        "text/plain": [
                            "<IPython.core.display.HTML object>"
                        ]
                    },
                    "metadata": {},
                    "output_type": "display_data"
                },
                {
                    "data": {
                        "text/html": [
                            "<div style='padding:5px; border: 1px solid #ccc; border-radius:5px; box-shadow: 5px 5px 5px #ccc; margin:5px 0 10px 0; display: inline-block; min-width: 50%'><!DOCTYPE html>\n",
                            "<html lang=\"fr\">\n",
                            "<meta charset=\"utf-8\">\n",
                            "<title>Exemple HTML</title>\n",
                            "<h1 style=\"margin:0 0 0.33em\">Exemple</h1>\n",
                            "<div>Hello, ceci est un exemple de document HTML</div>\n",
                            "</div>"
                        ],
                        "text/plain": [
                            "<IPython.core.display.HTML object>"
                        ]
                    },
                    "metadata": {},
                    "output_type": "display_data"
                }
            ],
            "source": [
                "https_request('GET', 'mod95-be3.onrender.com', '/hello.html')"
            ]
        },
        {
            "cell_type": "markdown",
            "metadata": {},
            "source": [
                "### __[3.2]__ - Effectuer une requête GET conditionnelle vers cette même ressource, dont la directive If-Modified-Since correspond à la date de dernière modification du document. En effectuer une autre avec une date antérieure. Commenter les résultats observés et conclure sur le fonctionnement et l'utilité de cette directive."
            ]
        },
        {
            "cell_type": "code",
            "execution_count": 14,
            "metadata": {
                "collapsed": false,
                "util.bundle": "correcteur"
            },
            "outputs": [
                {
                    "data": {
                        "text/html": [
                            "<code style='font-family:Consolas,monospace; display:block; margin-top: 5px; border-bottom:1px solid #ccc'><span style='font-weight:bold;color:#008'>304</span> - Not Modified</code>"
                        ],
                        "text/plain": [
                            "<IPython.core.display.HTML object>"
                        ]
                    },
                    "metadata": {},
                    "output_type": "display_data"
                },
                {
                    "data": {
                        "text/html": [
                            "<code style='display:block; margin-top:-0.7em; font-family:Consolas,monospace'><b>Date:</b> Sun, 15 Dec 2024 15:00:11 GMT</code>"
                        ],
                        "text/plain": [
                            "<IPython.core.display.HTML object>"
                        ]
                    },
                    "metadata": {},
                    "output_type": "display_data"
                },
                {
                    "data": {
                        "text/html": [
                            "<code style='display:block; margin-top:-0.7em; font-family:Consolas,monospace'><b>Connection:</b> keep-alive</code>"
                        ],
                        "text/plain": [
                            "<IPython.core.display.HTML object>"
                        ]
                    },
                    "metadata": {},
                    "output_type": "display_data"
                },
                {
                    "data": {
                        "text/html": [
                            "<code style='display:block; margin-top:-0.7em; font-family:Consolas,monospace'><b>CF-Ray:</b> 8f274d453a6a0d82-MRS</code>"
                        ],
                        "text/plain": [
                            "<IPython.core.display.HTML object>"
                        ]
                    },
                    "metadata": {},
                    "output_type": "display_data"
                },
                {
                    "data": {
                        "text/html": [
                            "<code style='display:block; margin-top:-0.7em; font-family:Consolas,monospace'><b>CF-Cache-Status:</b> DYNAMIC</code>"
                        ],
                        "text/plain": [
                            "<IPython.core.display.HTML object>"
                        ]
                    },
                    "metadata": {},
                    "output_type": "display_data"
                },
                {
                    "data": {
                        "text/html": [
                            "<code style='display:block; margin-top:-0.7em; font-family:Consolas,monospace'><b>Accept-Ranges:</b> bytes</code>"
                        ],
                        "text/plain": [
                            "<IPython.core.display.HTML object>"
                        ]
                    },
                    "metadata": {},
                    "output_type": "display_data"
                },
                {
                    "data": {
                        "text/html": [
                            "<code style='display:block; margin-top:-0.7em; font-family:Consolas,monospace'><b>Cache-Control:</b> public, max-age=0</code>"
                        ],
                        "text/plain": [
                            "<IPython.core.display.HTML object>"
                        ]
                    },
                    "metadata": {},
                    "output_type": "display_data"
                },
                {
                    "data": {
                        "text/html": [
                            "<code style='display:block; margin-top:-0.7em; font-family:Consolas,monospace'><b>ETag:</b> W/\"b6-187dd542520\"</code>"
                        ],
                        "text/plain": [
                            "<IPython.core.display.HTML object>"
                        ]
                    },
                    "metadata": {},
                    "output_type": "display_data"
                },
                {
                    "data": {
                        "text/html": [
                            "<code style='display:block; margin-top:-0.7em; font-family:Consolas,monospace'><b>Last-Modified:</b> Tue, 02 May 2023 16:38:12 GMT</code>"
                        ],
                        "text/plain": [
                            "<IPython.core.display.HTML object>"
                        ]
                    },
                    "metadata": {},
                    "output_type": "display_data"
                },
                {
                    "data": {
                        "text/html": [
                            "<code style='display:block; margin-top:-0.7em; font-family:Consolas,monospace'><b>rndr-id:</b> 280015a4-818f-436e</code>"
                        ],
                        "text/plain": [
                            "<IPython.core.display.HTML object>"
                        ]
                    },
                    "metadata": {},
                    "output_type": "display_data"
                },
                {
                    "data": {
                        "text/html": [
                            "<code style='display:block; margin-top:-0.7em; font-family:Consolas,monospace'><b>x-powered-by:</b> Express</code>"
                        ],
                        "text/plain": [
                            "<IPython.core.display.HTML object>"
                        ]
                    },
                    "metadata": {},
                    "output_type": "display_data"
                },
                {
                    "data": {
                        "text/html": [
                            "<code style='display:block; margin-top:-0.7em; font-family:Consolas,monospace'><b>x-render-origin-server:</b> Render</code>"
                        ],
                        "text/plain": [
                            "<IPython.core.display.HTML object>"
                        ]
                    },
                    "metadata": {},
                    "output_type": "display_data"
                },
                {
                    "data": {
                        "text/html": [
                            "<code style='display:block; margin-top:-0.7em; font-family:Consolas,monospace'><b>Vary:</b> Accept-Encoding</code>"
                        ],
                        "text/plain": [
                            "<IPython.core.display.HTML object>"
                        ]
                    },
                    "metadata": {},
                    "output_type": "display_data"
                },
                {
                    "data": {
                        "text/html": [
                            "<code style='display:block; margin-top:-0.7em; font-family:Consolas,monospace'><b>Server:</b> cloudflare</code>"
                        ],
                        "text/plain": [
                            "<IPython.core.display.HTML object>"
                        ]
                    },
                    "metadata": {},
                    "output_type": "display_data"
                },
                {
                    "data": {
                        "text/html": [
                            "<code style='display:block; margin-top:-0.7em; font-family:Consolas,monospace'><b>alt-svc:</b> h3=\":443\"; ma=86400</code>"
                        ],
                        "text/plain": [
                            "<IPython.core.display.HTML object>"
                        ]
                    },
                    "metadata": {},
                    "output_type": "display_data"
                }
            ],
            "source": [
                "https_request('GET', 'mod95-be3.onrender.com', '/hello.html', \n",
                "    headers={'If-Modified-Since': 'Tue, 02 May 2023 16:38:12 GMT'})\n"
            ]
        },
        {
            "cell_type": "code",
            "execution_count": 15,
            "metadata": {
                "collapsed": false,
                "util.bundle": "correcteur"
            },
            "outputs": [
                {
                    "data": {
                        "text/html": [
                            "<code style='font-family:Consolas,monospace; display:block; margin-top: 5px; border-bottom:1px solid #ccc'><span style='font-weight:bold;color:#008'>200</span> - OK</code>"
                        ],
                        "text/plain": [
                            "<IPython.core.display.HTML object>"
                        ]
                    },
                    "metadata": {},
                    "output_type": "display_data"
                },
                {
                    "data": {
                        "text/html": [
                            "<code style='display:block; margin-top:-0.7em; font-family:Consolas,monospace'><b>Date:</b> Sun, 15 Dec 2024 15:00:12 GMT</code>"
                        ],
                        "text/plain": [
                            "<IPython.core.display.HTML object>"
                        ]
                    },
                    "metadata": {},
                    "output_type": "display_data"
                },
                {
                    "data": {
                        "text/html": [
                            "<code style='display:block; margin-top:-0.7em; font-family:Consolas,monospace'><b>Content-Type:</b> text/html; charset=UTF-8</code>"
                        ],
                        "text/plain": [
                            "<IPython.core.display.HTML object>"
                        ]
                    },
                    "metadata": {},
                    "output_type": "display_data"
                },
                {
                    "data": {
                        "text/html": [
                            "<code style='display:block; margin-top:-0.7em; font-family:Consolas,monospace'><b>Transfer-Encoding:</b> chunked</code>"
                        ],
                        "text/plain": [
                            "<IPython.core.display.HTML object>"
                        ]
                    },
                    "metadata": {},
                    "output_type": "display_data"
                },
                {
                    "data": {
                        "text/html": [
                            "<code style='display:block; margin-top:-0.7em; font-family:Consolas,monospace'><b>Connection:</b> keep-alive</code>"
                        ],
                        "text/plain": [
                            "<IPython.core.display.HTML object>"
                        ]
                    },
                    "metadata": {},
                    "output_type": "display_data"
                },
                {
                    "data": {
                        "text/html": [
                            "<code style='display:block; margin-top:-0.7em; font-family:Consolas,monospace'><b>CF-Ray:</b> 8f274d484de1e185-MRS</code>"
                        ],
                        "text/plain": [
                            "<IPython.core.display.HTML object>"
                        ]
                    },
                    "metadata": {},
                    "output_type": "display_data"
                },
                {
                    "data": {
                        "text/html": [
                            "<code style='display:block; margin-top:-0.7em; font-family:Consolas,monospace'><b>CF-Cache-Status:</b> DYNAMIC</code>"
                        ],
                        "text/plain": [
                            "<IPython.core.display.HTML object>"
                        ]
                    },
                    "metadata": {},
                    "output_type": "display_data"
                },
                {
                    "data": {
                        "text/html": [
                            "<code style='display:block; margin-top:-0.7em; font-family:Consolas,monospace'><b>Cache-Control:</b> public, max-age=0</code>"
                        ],
                        "text/plain": [
                            "<IPython.core.display.HTML object>"
                        ]
                    },
                    "metadata": {},
                    "output_type": "display_data"
                },
                {
                    "data": {
                        "text/html": [
                            "<code style='display:block; margin-top:-0.7em; font-family:Consolas,monospace'><b>ETag:</b> W/\"b6-187dd542520\"</code>"
                        ],
                        "text/plain": [
                            "<IPython.core.display.HTML object>"
                        ]
                    },
                    "metadata": {},
                    "output_type": "display_data"
                },
                {
                    "data": {
                        "text/html": [
                            "<code style='display:block; margin-top:-0.7em; font-family:Consolas,monospace'><b>Last-Modified:</b> Tue, 02 May 2023 16:38:12 GMT</code>"
                        ],
                        "text/plain": [
                            "<IPython.core.display.HTML object>"
                        ]
                    },
                    "metadata": {},
                    "output_type": "display_data"
                },
                {
                    "data": {
                        "text/html": [
                            "<code style='display:block; margin-top:-0.7em; font-family:Consolas,monospace'><b>Vary:</b> Accept-Encoding</code>"
                        ],
                        "text/plain": [
                            "<IPython.core.display.HTML object>"
                        ]
                    },
                    "metadata": {},
                    "output_type": "display_data"
                },
                {
                    "data": {
                        "text/html": [
                            "<code style='display:block; margin-top:-0.7em; font-family:Consolas,monospace'><b>rndr-id:</b> 3ab0072e-774a-4882</code>"
                        ],
                        "text/plain": [
                            "<IPython.core.display.HTML object>"
                        ]
                    },
                    "metadata": {},
                    "output_type": "display_data"
                },
                {
                    "data": {
                        "text/html": [
                            "<code style='display:block; margin-top:-0.7em; font-family:Consolas,monospace'><b>x-powered-by:</b> Express</code>"
                        ],
                        "text/plain": [
                            "<IPython.core.display.HTML object>"
                        ]
                    },
                    "metadata": {},
                    "output_type": "display_data"
                },
                {
                    "data": {
                        "text/html": [
                            "<code style='display:block; margin-top:-0.7em; font-family:Consolas,monospace'><b>x-render-origin-server:</b> Render</code>"
                        ],
                        "text/plain": [
                            "<IPython.core.display.HTML object>"
                        ]
                    },
                    "metadata": {},
                    "output_type": "display_data"
                },
                {
                    "data": {
                        "text/html": [
                            "<code style='display:block; margin-top:-0.7em; font-family:Consolas,monospace'><b>Server:</b> cloudflare</code>"
                        ],
                        "text/plain": [
                            "<IPython.core.display.HTML object>"
                        ]
                    },
                    "metadata": {},
                    "output_type": "display_data"
                },
                {
                    "data": {
                        "text/html": [
                            "<code style='display:block; margin-top:-0.7em; font-family:Consolas,monospace'><b>alt-svc:</b> h3=\":443\"; ma=86400</code>"
                        ],
                        "text/plain": [
                            "<IPython.core.display.HTML object>"
                        ]
                    },
                    "metadata": {},
                    "output_type": "display_data"
                },
                {
                    "data": {
                        "text/html": [
                            "<div style='padding:5px; border: 1px solid #ccc; border-radius:5px; box-shadow: 5px 5px 5px #ccc; margin:5px 0 10px 0; display: inline-block; min-width: 50%'><!DOCTYPE html>\n",
                            "<html lang=\"fr\">\n",
                            "<meta charset=\"utf-8\">\n",
                            "<title>Exemple HTML</title>\n",
                            "<h1 style=\"margin:0 0 0.33em\">Exemple</h1>\n",
                            "<div>Hello, ceci est un exemple de document HTML</div>\n",
                            "</div>"
                        ],
                        "text/plain": [
                            "<IPython.core.display.HTML object>"
                        ]
                    },
                    "metadata": {},
                    "output_type": "display_data"
                }
            ],
            "source": [
                "https_request('GET', 'mod95-be3.onrender.com', '/hello.html', \n",
                "    headers={'If-Modified-Since': 'Tue, 02 May 2023 16:37:12 GMT'})\n"
            ]
        },
        {
            "cell_type": "markdown",
            "metadata": {},
            "source": [
                "#### Principe\n",
                "- L'en-tête `If-Modified-Since` permet de vérifier si une ressource a été modifiée depuis une date donnée\n",
                "- Le serveur compare la date fournie avec la date de dernière modification de la ressource\n",
                "\n",
                "#### Scénarios possibles\n",
                "1. **Ressource non modifiée** :\n",
                "   - Si la ressource n'a pas changé depuis la date indiquée\n",
                "   - Le serveur répond avec un code `304 Not Modified`\n",
                "   - Aucun contenu n'est renvoyé\n",
                "   - Le client peut utiliser sa version en cache\n",
                "\n",
                "2. **Ressource modifiée** :\n",
                "   - Si la ressource a été modifiée depuis la date indiquée\n",
                "   - Le serveur répond avec un code `200 OK`\n",
                "   - Le contenu complet de la ressource est renvoyé"
            ]
        },
        {
            "cell_type": "markdown",
            "metadata": {},
            "source": [
                "### \n",
                "__[3.3]__ - Effectuer le même exercice avec une requête conditionnelle basée sur l'Etag. A votre avis, pourquoi y a-t-il eu cette nouvelle possibilité en HTTP/1.1 ?\n",
                "</div>"
            ]
        },
        {
            "cell_type": "code",
            "execution_count": 16,
            "metadata": {
                "collapsed": false,
                "util.bundle": "correcteur"
            },
            "outputs": [
                {
                    "data": {
                        "text/html": [
                            "<code style='font-family:Consolas,monospace; display:block; margin-top: 5px; border-bottom:1px solid #ccc'><span style='font-weight:bold;color:#008'>304</span> - Not Modified</code>"
                        ],
                        "text/plain": [
                            "<IPython.core.display.HTML object>"
                        ]
                    },
                    "metadata": {},
                    "output_type": "display_data"
                },
                {
                    "data": {
                        "text/html": [
                            "<code style='display:block; margin-top:-0.7em; font-family:Consolas,monospace'><b>Date:</b> Sun, 15 Dec 2024 15:00:12 GMT</code>"
                        ],
                        "text/plain": [
                            "<IPython.core.display.HTML object>"
                        ]
                    },
                    "metadata": {},
                    "output_type": "display_data"
                },
                {
                    "data": {
                        "text/html": [
                            "<code style='display:block; margin-top:-0.7em; font-family:Consolas,monospace'><b>Connection:</b> keep-alive</code>"
                        ],
                        "text/plain": [
                            "<IPython.core.display.HTML object>"
                        ]
                    },
                    "metadata": {},
                    "output_type": "display_data"
                },
                {
                    "data": {
                        "text/html": [
                            "<code style='display:block; margin-top:-0.7em; font-family:Consolas,monospace'><b>CF-Ray:</b> 8f274d4a5ea50daa-MRS</code>"
                        ],
                        "text/plain": [
                            "<IPython.core.display.HTML object>"
                        ]
                    },
                    "metadata": {},
                    "output_type": "display_data"
                },
                {
                    "data": {
                        "text/html": [
                            "<code style='display:block; margin-top:-0.7em; font-family:Consolas,monospace'><b>CF-Cache-Status:</b> DYNAMIC</code>"
                        ],
                        "text/plain": [
                            "<IPython.core.display.HTML object>"
                        ]
                    },
                    "metadata": {},
                    "output_type": "display_data"
                },
                {
                    "data": {
                        "text/html": [
                            "<code style='display:block; margin-top:-0.7em; font-family:Consolas,monospace'><b>Accept-Ranges:</b> bytes</code>"
                        ],
                        "text/plain": [
                            "<IPython.core.display.HTML object>"
                        ]
                    },
                    "metadata": {},
                    "output_type": "display_data"
                },
                {
                    "data": {
                        "text/html": [
                            "<code style='display:block; margin-top:-0.7em; font-family:Consolas,monospace'><b>Cache-Control:</b> public, max-age=0</code>"
                        ],
                        "text/plain": [
                            "<IPython.core.display.HTML object>"
                        ]
                    },
                    "metadata": {},
                    "output_type": "display_data"
                },
                {
                    "data": {
                        "text/html": [
                            "<code style='display:block; margin-top:-0.7em; font-family:Consolas,monospace'><b>ETag:</b> W/\"b6-187dd542520\"</code>"
                        ],
                        "text/plain": [
                            "<IPython.core.display.HTML object>"
                        ]
                    },
                    "metadata": {},
                    "output_type": "display_data"
                },
                {
                    "data": {
                        "text/html": [
                            "<code style='display:block; margin-top:-0.7em; font-family:Consolas,monospace'><b>Last-Modified:</b> Tue, 02 May 2023 16:38:12 GMT</code>"
                        ],
                        "text/plain": [
                            "<IPython.core.display.HTML object>"
                        ]
                    },
                    "metadata": {},
                    "output_type": "display_data"
                },
                {
                    "data": {
                        "text/html": [
                            "<code style='display:block; margin-top:-0.7em; font-family:Consolas,monospace'><b>rndr-id:</b> fce8f0a2-6703-4ef2</code>"
                        ],
                        "text/plain": [
                            "<IPython.core.display.HTML object>"
                        ]
                    },
                    "metadata": {},
                    "output_type": "display_data"
                },
                {
                    "data": {
                        "text/html": [
                            "<code style='display:block; margin-top:-0.7em; font-family:Consolas,monospace'><b>x-powered-by:</b> Express</code>"
                        ],
                        "text/plain": [
                            "<IPython.core.display.HTML object>"
                        ]
                    },
                    "metadata": {},
                    "output_type": "display_data"
                },
                {
                    "data": {
                        "text/html": [
                            "<code style='display:block; margin-top:-0.7em; font-family:Consolas,monospace'><b>x-render-origin-server:</b> Render</code>"
                        ],
                        "text/plain": [
                            "<IPython.core.display.HTML object>"
                        ]
                    },
                    "metadata": {},
                    "output_type": "display_data"
                },
                {
                    "data": {
                        "text/html": [
                            "<code style='display:block; margin-top:-0.7em; font-family:Consolas,monospace'><b>Vary:</b> Accept-Encoding</code>"
                        ],
                        "text/plain": [
                            "<IPython.core.display.HTML object>"
                        ]
                    },
                    "metadata": {},
                    "output_type": "display_data"
                },
                {
                    "data": {
                        "text/html": [
                            "<code style='display:block; margin-top:-0.7em; font-family:Consolas,monospace'><b>Server:</b> cloudflare</code>"
                        ],
                        "text/plain": [
                            "<IPython.core.display.HTML object>"
                        ]
                    },
                    "metadata": {},
                    "output_type": "display_data"
                },
                {
                    "data": {
                        "text/html": [
                            "<code style='display:block; margin-top:-0.7em; font-family:Consolas,monospace'><b>alt-svc:</b> h3=\":443\"; ma=86400</code>"
                        ],
                        "text/plain": [
                            "<IPython.core.display.HTML object>"
                        ]
                    },
                    "metadata": {},
                    "output_type": "display_data"
                }
            ],
            "source": [
                "https_request('GET', 'mod95-be3.onrender.com', '/hello.html', \n",
                "    headers={'If-None-Match': 'W/\"b6-187dd542520\"'})"
            ]
        },
        {
            "cell_type": "code",
            "execution_count": 17,
            "metadata": {
                "collapsed": false,
                "util.bundle": "correcteur"
            },
            "outputs": [
                {
                    "data": {
                        "text/html": [
                            "<code style='font-family:Consolas,monospace; display:block; margin-top: 5px; border-bottom:1px solid #ccc'><span style='font-weight:bold;color:#008'>200</span> - OK</code>"
                        ],
                        "text/plain": [
                            "<IPython.core.display.HTML object>"
                        ]
                    },
                    "metadata": {},
                    "output_type": "display_data"
                },
                {
                    "data": {
                        "text/html": [
                            "<code style='display:block; margin-top:-0.7em; font-family:Consolas,monospace'><b>Date:</b> Sun, 15 Dec 2024 15:00:12 GMT</code>"
                        ],
                        "text/plain": [
                            "<IPython.core.display.HTML object>"
                        ]
                    },
                    "metadata": {},
                    "output_type": "display_data"
                },
                {
                    "data": {
                        "text/html": [
                            "<code style='display:block; margin-top:-0.7em; font-family:Consolas,monospace'><b>Content-Type:</b> text/html; charset=UTF-8</code>"
                        ],
                        "text/plain": [
                            "<IPython.core.display.HTML object>"
                        ]
                    },
                    "metadata": {},
                    "output_type": "display_data"
                },
                {
                    "data": {
                        "text/html": [
                            "<code style='display:block; margin-top:-0.7em; font-family:Consolas,monospace'><b>Transfer-Encoding:</b> chunked</code>"
                        ],
                        "text/plain": [
                            "<IPython.core.display.HTML object>"
                        ]
                    },
                    "metadata": {},
                    "output_type": "display_data"
                },
                {
                    "data": {
                        "text/html": [
                            "<code style='display:block; margin-top:-0.7em; font-family:Consolas,monospace'><b>Connection:</b> keep-alive</code>"
                        ],
                        "text/plain": [
                            "<IPython.core.display.HTML object>"
                        ]
                    },
                    "metadata": {},
                    "output_type": "display_data"
                },
                {
                    "data": {
                        "text/html": [
                            "<code style='display:block; margin-top:-0.7em; font-family:Consolas,monospace'><b>CF-Ray:</b> 8f274d4c5ba741c4-MRS</code>"
                        ],
                        "text/plain": [
                            "<IPython.core.display.HTML object>"
                        ]
                    },
                    "metadata": {},
                    "output_type": "display_data"
                },
                {
                    "data": {
                        "text/html": [
                            "<code style='display:block; margin-top:-0.7em; font-family:Consolas,monospace'><b>CF-Cache-Status:</b> DYNAMIC</code>"
                        ],
                        "text/plain": [
                            "<IPython.core.display.HTML object>"
                        ]
                    },
                    "metadata": {},
                    "output_type": "display_data"
                },
                {
                    "data": {
                        "text/html": [
                            "<code style='display:block; margin-top:-0.7em; font-family:Consolas,monospace'><b>Cache-Control:</b> public, max-age=0</code>"
                        ],
                        "text/plain": [
                            "<IPython.core.display.HTML object>"
                        ]
                    },
                    "metadata": {},
                    "output_type": "display_data"
                },
                {
                    "data": {
                        "text/html": [
                            "<code style='display:block; margin-top:-0.7em; font-family:Consolas,monospace'><b>ETag:</b> W/\"b6-187dd542520\"</code>"
                        ],
                        "text/plain": [
                            "<IPython.core.display.HTML object>"
                        ]
                    },
                    "metadata": {},
                    "output_type": "display_data"
                },
                {
                    "data": {
                        "text/html": [
                            "<code style='display:block; margin-top:-0.7em; font-family:Consolas,monospace'><b>Last-Modified:</b> Tue, 02 May 2023 16:38:12 GMT</code>"
                        ],
                        "text/plain": [
                            "<IPython.core.display.HTML object>"
                        ]
                    },
                    "metadata": {},
                    "output_type": "display_data"
                },
                {
                    "data": {
                        "text/html": [
                            "<code style='display:block; margin-top:-0.7em; font-family:Consolas,monospace'><b>Vary:</b> Accept-Encoding</code>"
                        ],
                        "text/plain": [
                            "<IPython.core.display.HTML object>"
                        ]
                    },
                    "metadata": {},
                    "output_type": "display_data"
                },
                {
                    "data": {
                        "text/html": [
                            "<code style='display:block; margin-top:-0.7em; font-family:Consolas,monospace'><b>rndr-id:</b> e9f6604b-aa53-4490</code>"
                        ],
                        "text/plain": [
                            "<IPython.core.display.HTML object>"
                        ]
                    },
                    "metadata": {},
                    "output_type": "display_data"
                },
                {
                    "data": {
                        "text/html": [
                            "<code style='display:block; margin-top:-0.7em; font-family:Consolas,monospace'><b>x-powered-by:</b> Express</code>"
                        ],
                        "text/plain": [
                            "<IPython.core.display.HTML object>"
                        ]
                    },
                    "metadata": {},
                    "output_type": "display_data"
                },
                {
                    "data": {
                        "text/html": [
                            "<code style='display:block; margin-top:-0.7em; font-family:Consolas,monospace'><b>x-render-origin-server:</b> Render</code>"
                        ],
                        "text/plain": [
                            "<IPython.core.display.HTML object>"
                        ]
                    },
                    "metadata": {},
                    "output_type": "display_data"
                },
                {
                    "data": {
                        "text/html": [
                            "<code style='display:block; margin-top:-0.7em; font-family:Consolas,monospace'><b>Server:</b> cloudflare</code>"
                        ],
                        "text/plain": [
                            "<IPython.core.display.HTML object>"
                        ]
                    },
                    "metadata": {},
                    "output_type": "display_data"
                },
                {
                    "data": {
                        "text/html": [
                            "<code style='display:block; margin-top:-0.7em; font-family:Consolas,monospace'><b>alt-svc:</b> h3=\":443\"; ma=86400</code>"
                        ],
                        "text/plain": [
                            "<IPython.core.display.HTML object>"
                        ]
                    },
                    "metadata": {},
                    "output_type": "display_data"
                },
                {
                    "data": {
                        "text/html": [
                            "<div style='padding:5px; border: 1px solid #ccc; border-radius:5px; box-shadow: 5px 5px 5px #ccc; margin:5px 0 10px 0; display: inline-block; min-width: 50%'><!DOCTYPE html>\n",
                            "<html lang=\"fr\">\n",
                            "<meta charset=\"utf-8\">\n",
                            "<title>Exemple HTML</title>\n",
                            "<h1 style=\"margin:0 0 0.33em\">Exemple</h1>\n",
                            "<div>Hello, ceci est un exemple de document HTML</div>\n",
                            "</div>"
                        ],
                        "text/plain": [
                            "<IPython.core.display.HTML object>"
                        ]
                    },
                    "metadata": {},
                    "output_type": "display_data"
                }
            ],
            "source": [
                "https_request('GET', 'mod95-be3.onrender.com', '/hello.html', \n",
                "    headers={'If-None-Match': 'W/\"b6-187dd542519\"'})"
            ]
        },
        {
            "cell_type": "markdown",
            "metadata": {},
            "source": [
                "#### Principe\n",
                "- L'en-tête `If-None-Match` utilise l'ETag (Entity Tag) pour vérifier si une ressource a changé\n",
                "- L'ETag est un identifiant unique généré pour une version spécifique de ressource\n",
                "\n",
                "#### Caractéristiques des ETags\n",
                "1. **ETag \"weak\"** : Commence par `W/`\n",
                "   - Indique une comparaison moins stricte\n",
                "   - Signifie que le contenu est équivalent mais pas nécessairement identique\n",
                "\n",
                "2. **ETag \"strong\"** : Sans préfixe `W/`\n",
                "   - Comparaison byte-to-byte\n",
                "   - Garantit une identité exacte\n",
                "\n",
                "#### Scénarios\n",
                "1. **Ressource inchangée** :\n",
                "   - Si l'ETag correspond\n",
                "   - Réponse `304 Not Modified`\n",
                "   - Aucun contenu renvoyé\n",
                "\n",
                "2. **Ressource modifiée** :\n",
                "   - Si l'ETag ne correspond pas\n",
                "   - Réponse `200 OK`\n",
                "   - Contenu complet renvoyé"
            ]
        },
        {
            "cell_type": "markdown",
            "metadata": {},
            "source": [
                "## 4. Redirections.\n",
                "\n",
                "### __[4.1]__ - Examiner la réponse obtenue lors d'une requête vers  <a href=\"https://mod95-be3.onrender.com/moved\">cette ressource</a> et décrire le comportement d'un navigateur lorsqu'il reçoit ce type de réponse."
            ]
        },
        {
            "cell_type": "code",
            "execution_count": 18,
            "metadata": {
                "collapsed": false,
                "util.bundle": "correcteur"
            },
            "outputs": [
                {
                    "data": {
                        "text/html": [
                            "<code style='font-family:Consolas,monospace; display:block; margin-top: 5px; border-bottom:1px solid #ccc'><span style='font-weight:bold;color:#008'>301</span> - Moved Permanently</code>"
                        ],
                        "text/plain": [
                            "<IPython.core.display.HTML object>"
                        ]
                    },
                    "metadata": {},
                    "output_type": "display_data"
                },
                {
                    "data": {
                        "text/html": [
                            "<code style='display:block; margin-top:-0.7em; font-family:Consolas,monospace'><b>Date:</b> Sun, 15 Dec 2024 15:00:13 GMT</code>"
                        ],
                        "text/plain": [
                            "<IPython.core.display.HTML object>"
                        ]
                    },
                    "metadata": {},
                    "output_type": "display_data"
                },
                {
                    "data": {
                        "text/html": [
                            "<code style='display:block; margin-top:-0.7em; font-family:Consolas,monospace'><b>Content-Type:</b> text/html; charset=utf-8</code>"
                        ],
                        "text/plain": [
                            "<IPython.core.display.HTML object>"
                        ]
                    },
                    "metadata": {},
                    "output_type": "display_data"
                },
                {
                    "data": {
                        "text/html": [
                            "<code style='display:block; margin-top:-0.7em; font-family:Consolas,monospace'><b>Transfer-Encoding:</b> chunked</code>"
                        ],
                        "text/plain": [
                            "<IPython.core.display.HTML object>"
                        ]
                    },
                    "metadata": {},
                    "output_type": "display_data"
                },
                {
                    "data": {
                        "text/html": [
                            "<code style='display:block; margin-top:-0.7em; font-family:Consolas,monospace'><b>Connection:</b> keep-alive</code>"
                        ],
                        "text/plain": [
                            "<IPython.core.display.HTML object>"
                        ]
                    },
                    "metadata": {},
                    "output_type": "display_data"
                },
                {
                    "data": {
                        "text/html": [
                            "<code style='display:block; margin-top:-0.7em; font-family:Consolas,monospace'><b>Location:</b> http://www.ec-lyon.fr</code>"
                        ],
                        "text/plain": [
                            "<IPython.core.display.HTML object>"
                        ]
                    },
                    "metadata": {},
                    "output_type": "display_data"
                },
                {
                    "data": {
                        "text/html": [
                            "<code style='display:block; margin-top:-0.7em; font-family:Consolas,monospace'><b>CF-Ray:</b> 8f274d4f18b90da9-MRS</code>"
                        ],
                        "text/plain": [
                            "<IPython.core.display.HTML object>"
                        ]
                    },
                    "metadata": {},
                    "output_type": "display_data"
                },
                {
                    "data": {
                        "text/html": [
                            "<code style='display:block; margin-top:-0.7em; font-family:Consolas,monospace'><b>CF-Cache-Status:</b> DYNAMIC</code>"
                        ],
                        "text/plain": [
                            "<IPython.core.display.HTML object>"
                        ]
                    },
                    "metadata": {},
                    "output_type": "display_data"
                },
                {
                    "data": {
                        "text/html": [
                            "<code style='display:block; margin-top:-0.7em; font-family:Consolas,monospace'><b>ETag:</b> W/\"133-TSfWvMV3cNLRLEQ7G7Mt83/meP0\"</code>"
                        ],
                        "text/plain": [
                            "<IPython.core.display.HTML object>"
                        ]
                    },
                    "metadata": {},
                    "output_type": "display_data"
                },
                {
                    "data": {
                        "text/html": [
                            "<code style='display:block; margin-top:-0.7em; font-family:Consolas,monospace'><b>Vary:</b> Accept-Encoding</code>"
                        ],
                        "text/plain": [
                            "<IPython.core.display.HTML object>"
                        ]
                    },
                    "metadata": {},
                    "output_type": "display_data"
                },
                {
                    "data": {
                        "text/html": [
                            "<code style='display:block; margin-top:-0.7em; font-family:Consolas,monospace'><b>rndr-id:</b> c5e4c58e-0187-4870</code>"
                        ],
                        "text/plain": [
                            "<IPython.core.display.HTML object>"
                        ]
                    },
                    "metadata": {},
                    "output_type": "display_data"
                },
                {
                    "data": {
                        "text/html": [
                            "<code style='display:block; margin-top:-0.7em; font-family:Consolas,monospace'><b>x-powered-by:</b> Express</code>"
                        ],
                        "text/plain": [
                            "<IPython.core.display.HTML object>"
                        ]
                    },
                    "metadata": {},
                    "output_type": "display_data"
                },
                {
                    "data": {
                        "text/html": [
                            "<code style='display:block; margin-top:-0.7em; font-family:Consolas,monospace'><b>x-render-origin-server:</b> Render</code>"
                        ],
                        "text/plain": [
                            "<IPython.core.display.HTML object>"
                        ]
                    },
                    "metadata": {},
                    "output_type": "display_data"
                },
                {
                    "data": {
                        "text/html": [
                            "<code style='display:block; margin-top:-0.7em; font-family:Consolas,monospace'><b>Server:</b> cloudflare</code>"
                        ],
                        "text/plain": [
                            "<IPython.core.display.HTML object>"
                        ]
                    },
                    "metadata": {},
                    "output_type": "display_data"
                },
                {
                    "data": {
                        "text/html": [
                            "<code style='display:block; margin-top:-0.7em; font-family:Consolas,monospace'><b>alt-svc:</b> h3=\":443\"; ma=86400</code>"
                        ],
                        "text/plain": [
                            "<IPython.core.display.HTML object>"
                        ]
                    },
                    "metadata": {},
                    "output_type": "display_data"
                },
                {
                    "data": {
                        "text/html": [
                            "<div style='padding:5px; border: 1px solid #ccc; border-radius:5px; box-shadow: 5px 5px 5px #ccc; margin:5px 0 10px 0; display: inline-block; min-width: 50%'><!DOCTYPE html>\r\n",
                            "<html lang=\"fr\">\r\n",
                            "<meta charset=\"utf-8\">\r\n",
                            "\r\n",
                            "<div style=\"font-family: Consolas,monospace\">\r\n",
                            "<h1 style=\"margin-top:0; padding:0.1em 0.5em;background-color:#aaa;color:white\">301 - Moved Permanently</h1>\r\n",
                            "<p>Il faut aller voir <a href=\"http://www.ec-lyon.fr\">http://www.ec-lyon.fr</a>\r\n",
                            "</div>\r\n",
                            "</div>"
                        ],
                        "text/plain": [
                            "<IPython.core.display.HTML object>"
                        ]
                    },
                    "metadata": {},
                    "output_type": "display_data"
                }
            ],
            "source": [
                "https_request('GET', 'mod95-be3.onrender.com', '/moved')"
            ]
        },
        {
            "cell_type": "markdown",
            "metadata": {},
            "source": [
                "#### Comportement de la redirection 301\n",
                "\n",
                "La redirection **301 (Moved Permanently)** est un mécanisme HTTP pour la gestion des ressources déplacées. Lorsqu'un serveur répond avec ce code de statut, il indique au client (navigateur) que la ressource demandée a été définitivement déplacée vers une nouvelle URL. \n",
                "\n",
                "Les caractéristiques principales de cette redirection sont :\n",
                "- **Redirection automatique** : Le navigateur redirige automatiquement vers la nouvelle URL\n",
                "- **Mise en cache permanente** : Le client mémorise cette redirection pour les futures requêtes\n",
                "- **Préservation de la méthode HTTP** : La méthode originale (GET, POST, etc.) est conservée\n",
                "- **Mise à jour de la barre d'adresse** : L'URL dans la barre d'adresse est mise à jour avec la nouvelle destination\n",
                "\n",
                "Cette méthode est particulièrement utile lors de la restructuration de sites web, du changement de nom de domaine, ou de la consolidation de ressources web."
            ]
        },
        {
            "cell_type": "markdown",
            "metadata": {},
            "source": [
                "### __[4.2]__ - Essayer maintenant <a href=\"https://mod95-be3.onrender.com/perm\">cette nouvelle ressource</a>. Quelle sont les différences avec la précédente ? Consulter par exemple la <a href=\"https://en.wikipedia.org/wiki/List_of_HTTP_status_codes#4xx_Client_errors\">liste des statuts HTTP</a> et préciser en quoi le comportement attendu des clients est différent.\n"
            ]
        },
        {
            "cell_type": "code",
            "execution_count": 19,
            "metadata": {
                "collapsed": false,
                "util.bundle": "correcteur"
            },
            "outputs": [
                {
                    "data": {
                        "text/html": [
                            "<code style='font-family:Consolas,monospace; display:block; margin-top: 5px; border-bottom:1px solid #ccc'><span style='font-weight:bold;color:#008'>308</span> - Permanent Redirect</code>"
                        ],
                        "text/plain": [
                            "<IPython.core.display.HTML object>"
                        ]
                    },
                    "metadata": {},
                    "output_type": "display_data"
                },
                {
                    "data": {
                        "text/html": [
                            "<code style='display:block; margin-top:-0.7em; font-family:Consolas,monospace'><b>Date:</b> Sun, 15 Dec 2024 15:00:13 GMT</code>"
                        ],
                        "text/plain": [
                            "<IPython.core.display.HTML object>"
                        ]
                    },
                    "metadata": {},
                    "output_type": "display_data"
                },
                {
                    "data": {
                        "text/html": [
                            "<code style='display:block; margin-top:-0.7em; font-family:Consolas,monospace'><b>Content-Type:</b> text/html; charset=utf-8</code>"
                        ],
                        "text/plain": [
                            "<IPython.core.display.HTML object>"
                        ]
                    },
                    "metadata": {},
                    "output_type": "display_data"
                },
                {
                    "data": {
                        "text/html": [
                            "<code style='display:block; margin-top:-0.7em; font-family:Consolas,monospace'><b>Transfer-Encoding:</b> chunked</code>"
                        ],
                        "text/plain": [
                            "<IPython.core.display.HTML object>"
                        ]
                    },
                    "metadata": {},
                    "output_type": "display_data"
                },
                {
                    "data": {
                        "text/html": [
                            "<code style='display:block; margin-top:-0.7em; font-family:Consolas,monospace'><b>Connection:</b> keep-alive</code>"
                        ],
                        "text/plain": [
                            "<IPython.core.display.HTML object>"
                        ]
                    },
                    "metadata": {},
                    "output_type": "display_data"
                },
                {
                    "data": {
                        "text/html": [
                            "<code style='display:block; margin-top:-0.7em; font-family:Consolas,monospace'><b>Location:</b> http://www.ec-lyon.fr</code>"
                        ],
                        "text/plain": [
                            "<IPython.core.display.HTML object>"
                        ]
                    },
                    "metadata": {},
                    "output_type": "display_data"
                },
                {
                    "data": {
                        "text/html": [
                            "<code style='display:block; margin-top:-0.7em; font-family:Consolas,monospace'><b>CF-Ray:</b> 8f274d523853e1a2-MRS</code>"
                        ],
                        "text/plain": [
                            "<IPython.core.display.HTML object>"
                        ]
                    },
                    "metadata": {},
                    "output_type": "display_data"
                },
                {
                    "data": {
                        "text/html": [
                            "<code style='display:block; margin-top:-0.7em; font-family:Consolas,monospace'><b>CF-Cache-Status:</b> DYNAMIC</code>"
                        ],
                        "text/plain": [
                            "<IPython.core.display.HTML object>"
                        ]
                    },
                    "metadata": {},
                    "output_type": "display_data"
                },
                {
                    "data": {
                        "text/html": [
                            "<code style='display:block; margin-top:-0.7em; font-family:Consolas,monospace'><b>ETag:</b> W/\"134-tOlb5ZHWcJ2daMDRK3Sn6XB6s7M\"</code>"
                        ],
                        "text/plain": [
                            "<IPython.core.display.HTML object>"
                        ]
                    },
                    "metadata": {},
                    "output_type": "display_data"
                },
                {
                    "data": {
                        "text/html": [
                            "<code style='display:block; margin-top:-0.7em; font-family:Consolas,monospace'><b>Vary:</b> Accept-Encoding</code>"
                        ],
                        "text/plain": [
                            "<IPython.core.display.HTML object>"
                        ]
                    },
                    "metadata": {},
                    "output_type": "display_data"
                },
                {
                    "data": {
                        "text/html": [
                            "<code style='display:block; margin-top:-0.7em; font-family:Consolas,monospace'><b>rndr-id:</b> 76674392-ab2b-41ca</code>"
                        ],
                        "text/plain": [
                            "<IPython.core.display.HTML object>"
                        ]
                    },
                    "metadata": {},
                    "output_type": "display_data"
                },
                {
                    "data": {
                        "text/html": [
                            "<code style='display:block; margin-top:-0.7em; font-family:Consolas,monospace'><b>x-powered-by:</b> Express</code>"
                        ],
                        "text/plain": [
                            "<IPython.core.display.HTML object>"
                        ]
                    },
                    "metadata": {},
                    "output_type": "display_data"
                },
                {
                    "data": {
                        "text/html": [
                            "<code style='display:block; margin-top:-0.7em; font-family:Consolas,monospace'><b>x-render-origin-server:</b> Render</code>"
                        ],
                        "text/plain": [
                            "<IPython.core.display.HTML object>"
                        ]
                    },
                    "metadata": {},
                    "output_type": "display_data"
                },
                {
                    "data": {
                        "text/html": [
                            "<code style='display:block; margin-top:-0.7em; font-family:Consolas,monospace'><b>Server:</b> cloudflare</code>"
                        ],
                        "text/plain": [
                            "<IPython.core.display.HTML object>"
                        ]
                    },
                    "metadata": {},
                    "output_type": "display_data"
                },
                {
                    "data": {
                        "text/html": [
                            "<code style='display:block; margin-top:-0.7em; font-family:Consolas,monospace'><b>alt-svc:</b> h3=\":443\"; ma=86400</code>"
                        ],
                        "text/plain": [
                            "<IPython.core.display.HTML object>"
                        ]
                    },
                    "metadata": {},
                    "output_type": "display_data"
                },
                {
                    "data": {
                        "text/html": [
                            "<div style='padding:5px; border: 1px solid #ccc; border-radius:5px; box-shadow: 5px 5px 5px #ccc; margin:5px 0 10px 0; display: inline-block; min-width: 50%'><!DOCTYPE html>\r\n",
                            "<html lang=\"fr\">\r\n",
                            "<meta charset=\"utf-8\">\r\n",
                            "\r\n",
                            "<div style=\"font-family: Consolas,monospace\">\r\n",
                            "<h1 style=\"margin-top:0; padding:0.1em 0.5em;background-color:#aaa;color:white\">308 - Permanent Redirect</h1>\r\n",
                            "<p>Il faut aller voir <a href=\"http://www.ec-lyon.fr\">http://www.ec-lyon.fr</a>\r\n",
                            "</div>\r\n",
                            "</div>"
                        ],
                        "text/plain": [
                            "<IPython.core.display.HTML object>"
                        ]
                    },
                    "metadata": {},
                    "output_type": "display_data"
                }
            ],
            "source": [
                "https_request('GET', 'mod95-be3.onrender.com', '/perm')"
            ]
        },
        {
            "cell_type": "markdown",
            "metadata": {},
            "source": [
                "#### Différences entre 301 et 308 : Nuances de la redirection permanente\n",
                "\n",
                "La redirection **308 (Permanent Redirect)** est similaire au code 301, mais avec une différence cruciale :\n",
                "\n",
                "- **Préservation stricte de la méthode HTTP** : Contrairement au 301, le 308 garantit que la méthode de requête originale sera *strictement* conservée lors de la redirection.\n",
                "\n",
                "Exemple pratique :\n",
                "- Pour une requête POST vers `/perm`, le client DOIT refaire un POST vers la nouvelle URL\n",
                "- Avec un 301, certains clients pourraient transformer un POST en GET par défaut\n",
                "- Le 308 impose une conformité plus stricte au protocole HTTP\n",
                "\n",
                "Cas d'utilisation typiques :\n",
                "- Redirections d'API nécessitant une préservation exacte du type de requête\n",
                "- Migrations de ressources où la sémantique de la requête doit être maintenue intégralement\n",
                "\n",
                "Dans cet exemple, la redirection pointe vers `http://www.ec-lyon.fr`, indiquant un changement permanent de ressource avec une garantie de préservation de la méthode HTTP."
            ]
        },
        {
            "cell_type": "markdown",
            "metadata": {},
            "source": [
                "### __[4.3]__ - Ce type de redirection est utilisé par les raccourcisseurs d'URLs. Vérifier ceci en envoyant une requête vers la ressource <a href=\"http://bit.ly/2Oz8wbC\">http://bit.ly/2Oz8wbC</a>. Commenter le résultat obtenu et expliquer pourquoi ce type de réponse est approprié pour ces services."
            ]
        },
        {
            "cell_type": "code",
            "execution_count": 20,
            "metadata": {
                "collapsed": false,
                "util.bundle": "correcteur"
            },
            "outputs": [
                {
                    "data": {
                        "text/html": [
                            "<code style='font-family:Consolas,monospace; display:block; margin-top: 5px; border-bottom:1px solid #ccc'><span style='font-weight:bold;color:#008'>301</span> - Moved Permanently</code>"
                        ],
                        "text/plain": [
                            "<IPython.core.display.HTML object>"
                        ]
                    },
                    "metadata": {},
                    "output_type": "display_data"
                },
                {
                    "data": {
                        "text/html": [
                            "<code style='display:block; margin-top:-0.7em; font-family:Consolas,monospace'><b>Server:</b> nginx</code>"
                        ],
                        "text/plain": [
                            "<IPython.core.display.HTML object>"
                        ]
                    },
                    "metadata": {},
                    "output_type": "display_data"
                },
                {
                    "data": {
                        "text/html": [
                            "<code style='display:block; margin-top:-0.7em; font-family:Consolas,monospace'><b>Date:</b> Sun, 15 Dec 2024 15:00:14 GMT</code>"
                        ],
                        "text/plain": [
                            "<IPython.core.display.HTML object>"
                        ]
                    },
                    "metadata": {},
                    "output_type": "display_data"
                },
                {
                    "data": {
                        "text/html": [
                            "<code style='display:block; margin-top:-0.7em; font-family:Consolas,monospace'><b>Content-Type:</b> text/html; charset=utf-8</code>"
                        ],
                        "text/plain": [
                            "<IPython.core.display.HTML object>"
                        ]
                    },
                    "metadata": {},
                    "output_type": "display_data"
                },
                {
                    "data": {
                        "text/html": [
                            "<code style='display:block; margin-top:-0.7em; font-family:Consolas,monospace'><b>Content-Length:</b> 75</code>"
                        ],
                        "text/plain": [
                            "<IPython.core.display.HTML object>"
                        ]
                    },
                    "metadata": {},
                    "output_type": "display_data"
                },
                {
                    "data": {
                        "text/html": [
                            "<code style='display:block; margin-top:-0.7em; font-family:Consolas,monospace'><b>Cache-Control:</b> private, max-age=90</code>"
                        ],
                        "text/plain": [
                            "<IPython.core.display.HTML object>"
                        ]
                    },
                    "metadata": {},
                    "output_type": "display_data"
                },
                {
                    "data": {
                        "text/html": [
                            "<code style='display:block; margin-top:-0.7em; font-family:Consolas,monospace'><b>Content-Security-Policy:</b> referrer always;</code>"
                        ],
                        "text/plain": [
                            "<IPython.core.display.HTML object>"
                        ]
                    },
                    "metadata": {},
                    "output_type": "display_data"
                },
                {
                    "data": {
                        "text/html": [
                            "<code style='display:block; margin-top:-0.7em; font-family:Consolas,monospace'><b>Location:</b> http://www.ec-lyon.fr/</code>"
                        ],
                        "text/plain": [
                            "<IPython.core.display.HTML object>"
                        ]
                    },
                    "metadata": {},
                    "output_type": "display_data"
                },
                {
                    "data": {
                        "text/html": [
                            "<code style='display:block; margin-top:-0.7em; font-family:Consolas,monospace'><b>Referrer-Policy:</b> unsafe-url</code>"
                        ],
                        "text/plain": [
                            "<IPython.core.display.HTML object>"
                        ]
                    },
                    "metadata": {},
                    "output_type": "display_data"
                },
                {
                    "data": {
                        "text/html": [
                            "<code style='display:block; margin-top:-0.7em; font-family:Consolas,monospace'><b>Set-Cookie:</b> _bit=obff0e-f77b39fc26e183ab04-00t; Domain=bit.ly; Expires=Fri, 13 Jun 2025 15:00:14 GMT</code>"
                        ],
                        "text/plain": [
                            "<IPython.core.display.HTML object>"
                        ]
                    },
                    "metadata": {},
                    "output_type": "display_data"
                },
                {
                    "data": {
                        "text/html": [
                            "<code style='display:block; margin-top:-0.7em; font-family:Consolas,monospace'><b>Via:</b> 1.1 google</code>"
                        ],
                        "text/plain": [
                            "<IPython.core.display.HTML object>"
                        ]
                    },
                    "metadata": {},
                    "output_type": "display_data"
                },
                {
                    "data": {
                        "text/html": [
                            "<div style='padding:5px; border: 1px solid #ccc; border-radius:5px; box-shadow: 5px 5px 5px #ccc; margin:5px 0 10px 0; display: inline-block; min-width: 50%'><html>\n",
                            "<body><a href=\"http://www.ec-lyon.fr/\">moved here</a></body>\n",
                            "</html></div>"
                        ],
                        "text/plain": [
                            "<IPython.core.display.HTML object>"
                        ]
                    },
                    "metadata": {},
                    "output_type": "display_data"
                }
            ],
            "source": [
                "http_request('GET', 'bit.ly', '/2Oz8wbC')"
            ]
        },
        {
            "cell_type": "markdown",
            "metadata": {},
            "source": [
                "#### Redirections et raccourcisseurs d'URLs\n",
                "\n",
                "Les raccourcisseurs d'URLs comme bit.ly utilisent principalement les redirections (301 Moved Permanently) pour plusieurs raisons stratégiques :\n",
                "\n",
                "1. **Transformation d'URLs longues**\n",
                "   - Convertit des URLs complexes et longues en liens courts et mémorables\n",
                "   - Exemple : `https://www.tres-long-site.com/page/avec/beaucoup/de/parametres` → `bit.ly/abcdef`\n",
                "\n",
                "2. **Avantages techniques**\n",
                "   - **Mise en cache** : Le code 301 permet aux navigateurs et aux serveurs de mettre en cache la redirection\n",
                "   - **Économie de bande passante** : Minimise les requêtes répétées\n",
                "   - **Traçabilité** : Permet de collecter des statistiques sur les clics\n",
                "\n",
                "3. **Flexibilité**\n",
                "   - Possibilité de modifier la destination sans changer le lien court\n",
                "   - Ajout de paramètres de suivi ou de tracking\n",
                "   - Redirection vers différentes destinations selon le contexte\n",
                "\n",
                "4. **Sécurité**\n",
                "   - Permet de vérifier la destination avant de rediriger\n",
                "   - Possibilité de bloquer des liens malveillants"
            ]
        },
        {
            "cell_type": "markdown",
            "metadata": {},
            "source": [
                "###  __[4.4]__ - Voici encore <a href=\"https://mod95-be3.onrender.com/found\">une ressource</a> et <a href=\"https://mod95-be3.onrender.com/temp\">une dernière</a> effectuant chacune une redirection. En vous référant encore une fois à la documentation, expliquer les différences de comportement attendues de la part d'un client recevant chacune de ces réponses, l'une par rapport à l'autre, puis par rapport aux deux codes de redirection observés précédemment."
            ]
        },
        {
            "cell_type": "code",
            "execution_count": 21,
            "metadata": {
                "collapsed": false,
                "util.bundle": "correcteur"
            },
            "outputs": [
                {
                    "data": {
                        "text/html": [
                            "<code style='font-family:Consolas,monospace; display:block; margin-top: 5px; border-bottom:1px solid #ccc'><span style='font-weight:bold;color:#008'>302</span> - Found</code>"
                        ],
                        "text/plain": [
                            "<IPython.core.display.HTML object>"
                        ]
                    },
                    "metadata": {},
                    "output_type": "display_data"
                },
                {
                    "data": {
                        "text/html": [
                            "<code style='display:block; margin-top:-0.7em; font-family:Consolas,monospace'><b>Date:</b> Sun, 15 Dec 2024 15:00:14 GMT</code>"
                        ],
                        "text/plain": [
                            "<IPython.core.display.HTML object>"
                        ]
                    },
                    "metadata": {},
                    "output_type": "display_data"
                },
                {
                    "data": {
                        "text/html": [
                            "<code style='display:block; margin-top:-0.7em; font-family:Consolas,monospace'><b>Content-Type:</b> text/html; charset=utf-8</code>"
                        ],
                        "text/plain": [
                            "<IPython.core.display.HTML object>"
                        ]
                    },
                    "metadata": {},
                    "output_type": "display_data"
                },
                {
                    "data": {
                        "text/html": [
                            "<code style='display:block; margin-top:-0.7em; font-family:Consolas,monospace'><b>Transfer-Encoding:</b> chunked</code>"
                        ],
                        "text/plain": [
                            "<IPython.core.display.HTML object>"
                        ]
                    },
                    "metadata": {},
                    "output_type": "display_data"
                },
                {
                    "data": {
                        "text/html": [
                            "<code style='display:block; margin-top:-0.7em; font-family:Consolas,monospace'><b>Connection:</b> keep-alive</code>"
                        ],
                        "text/plain": [
                            "<IPython.core.display.HTML object>"
                        ]
                    },
                    "metadata": {},
                    "output_type": "display_data"
                },
                {
                    "data": {
                        "text/html": [
                            "<code style='display:block; margin-top:-0.7em; font-family:Consolas,monospace'><b>Location:</b> http://www.ec-lyon.fr</code>"
                        ],
                        "text/plain": [
                            "<IPython.core.display.HTML object>"
                        ]
                    },
                    "metadata": {},
                    "output_type": "display_data"
                },
                {
                    "data": {
                        "text/html": [
                            "<code style='display:block; margin-top:-0.7em; font-family:Consolas,monospace'><b>CF-Ray:</b> 8f274d576c28e224-MRS</code>"
                        ],
                        "text/plain": [
                            "<IPython.core.display.HTML object>"
                        ]
                    },
                    "metadata": {},
                    "output_type": "display_data"
                },
                {
                    "data": {
                        "text/html": [
                            "<code style='display:block; margin-top:-0.7em; font-family:Consolas,monospace'><b>CF-Cache-Status:</b> DYNAMIC</code>"
                        ],
                        "text/plain": [
                            "<IPython.core.display.HTML object>"
                        ]
                    },
                    "metadata": {},
                    "output_type": "display_data"
                },
                {
                    "data": {
                        "text/html": [
                            "<code style='display:block; margin-top:-0.7em; font-family:Consolas,monospace'><b>ETag:</b> W/\"133-sEUfxJg3y3i6cDyuv2UQUl0iT14\"</code>"
                        ],
                        "text/plain": [
                            "<IPython.core.display.HTML object>"
                        ]
                    },
                    "metadata": {},
                    "output_type": "display_data"
                },
                {
                    "data": {
                        "text/html": [
                            "<code style='display:block; margin-top:-0.7em; font-family:Consolas,monospace'><b>Vary:</b> Accept-Encoding</code>"
                        ],
                        "text/plain": [
                            "<IPython.core.display.HTML object>"
                        ]
                    },
                    "metadata": {},
                    "output_type": "display_data"
                },
                {
                    "data": {
                        "text/html": [
                            "<code style='display:block; margin-top:-0.7em; font-family:Consolas,monospace'><b>rndr-id:</b> c5c66574-5b81-4383</code>"
                        ],
                        "text/plain": [
                            "<IPython.core.display.HTML object>"
                        ]
                    },
                    "metadata": {},
                    "output_type": "display_data"
                },
                {
                    "data": {
                        "text/html": [
                            "<code style='display:block; margin-top:-0.7em; font-family:Consolas,monospace'><b>x-powered-by:</b> Express</code>"
                        ],
                        "text/plain": [
                            "<IPython.core.display.HTML object>"
                        ]
                    },
                    "metadata": {},
                    "output_type": "display_data"
                },
                {
                    "data": {
                        "text/html": [
                            "<code style='display:block; margin-top:-0.7em; font-family:Consolas,monospace'><b>x-render-origin-server:</b> Render</code>"
                        ],
                        "text/plain": [
                            "<IPython.core.display.HTML object>"
                        ]
                    },
                    "metadata": {},
                    "output_type": "display_data"
                },
                {
                    "data": {
                        "text/html": [
                            "<code style='display:block; margin-top:-0.7em; font-family:Consolas,monospace'><b>Server:</b> cloudflare</code>"
                        ],
                        "text/plain": [
                            "<IPython.core.display.HTML object>"
                        ]
                    },
                    "metadata": {},
                    "output_type": "display_data"
                },
                {
                    "data": {
                        "text/html": [
                            "<code style='display:block; margin-top:-0.7em; font-family:Consolas,monospace'><b>alt-svc:</b> h3=\":443\"; ma=86400</code>"
                        ],
                        "text/plain": [
                            "<IPython.core.display.HTML object>"
                        ]
                    },
                    "metadata": {},
                    "output_type": "display_data"
                },
                {
                    "data": {
                        "text/html": [
                            "<div style='padding:5px; border: 1px solid #ccc; border-radius:5px; box-shadow: 5px 5px 5px #ccc; margin:5px 0 10px 0; display: inline-block; min-width: 50%'><!DOCTYPE html>\r\n",
                            "<html lang=\"fr\">\r\n",
                            "<meta charset=\"utf-8\">\r\n",
                            "\r\n",
                            "<div style=\"font-family: Consolas,monospace\">\r\n",
                            "<h1 style=\"margin-top:0; padding:0.1em 0.5em;background-color:#aaa;color:white\">302 - Moved Temporarily</h1>\r\n",
                            "<p>Il faut aller voir <a href=\"http://www.ec-lyon.fr\">http://www.ec-lyon.fr</a>\r\n",
                            "</div>\r\n",
                            "</div>"
                        ],
                        "text/plain": [
                            "<IPython.core.display.HTML object>"
                        ]
                    },
                    "metadata": {},
                    "output_type": "display_data"
                }
            ],
            "source": [
                "https_request('GET', 'mod95-be3.onrender.com', '/found')"
            ]
        },
        {
            "cell_type": "code",
            "execution_count": 22,
            "metadata": {
                "collapsed": false,
                "util.bundle": "correcteur"
            },
            "outputs": [
                {
                    "data": {
                        "text/html": [
                            "<code style='font-family:Consolas,monospace; display:block; margin-top: 5px; border-bottom:1px solid #ccc'><span style='font-weight:bold;color:#008'>307</span> - Temporary Redirect</code>"
                        ],
                        "text/plain": [
                            "<IPython.core.display.HTML object>"
                        ]
                    },
                    "metadata": {},
                    "output_type": "display_data"
                },
                {
                    "data": {
                        "text/html": [
                            "<code style='display:block; margin-top:-0.7em; font-family:Consolas,monospace'><b>Date:</b> Sun, 15 Dec 2024 15:00:15 GMT</code>"
                        ],
                        "text/plain": [
                            "<IPython.core.display.HTML object>"
                        ]
                    },
                    "metadata": {},
                    "output_type": "display_data"
                },
                {
                    "data": {
                        "text/html": [
                            "<code style='display:block; margin-top:-0.7em; font-family:Consolas,monospace'><b>Content-Type:</b> text/html; charset=utf-8</code>"
                        ],
                        "text/plain": [
                            "<IPython.core.display.HTML object>"
                        ]
                    },
                    "metadata": {},
                    "output_type": "display_data"
                },
                {
                    "data": {
                        "text/html": [
                            "<code style='display:block; margin-top:-0.7em; font-family:Consolas,monospace'><b>Transfer-Encoding:</b> chunked</code>"
                        ],
                        "text/plain": [
                            "<IPython.core.display.HTML object>"
                        ]
                    },
                    "metadata": {},
                    "output_type": "display_data"
                },
                {
                    "data": {
                        "text/html": [
                            "<code style='display:block; margin-top:-0.7em; font-family:Consolas,monospace'><b>Connection:</b> keep-alive</code>"
                        ],
                        "text/plain": [
                            "<IPython.core.display.HTML object>"
                        ]
                    },
                    "metadata": {},
                    "output_type": "display_data"
                },
                {
                    "data": {
                        "text/html": [
                            "<code style='display:block; margin-top:-0.7em; font-family:Consolas,monospace'><b>Location:</b> http://www.ec-lyon.fr</code>"
                        ],
                        "text/plain": [
                            "<IPython.core.display.HTML object>"
                        ]
                    },
                    "metadata": {},
                    "output_type": "display_data"
                },
                {
                    "data": {
                        "text/html": [
                            "<code style='display:block; margin-top:-0.7em; font-family:Consolas,monospace'><b>CF-Ray:</b> 8f274d59d99818a2-MRS</code>"
                        ],
                        "text/plain": [
                            "<IPython.core.display.HTML object>"
                        ]
                    },
                    "metadata": {},
                    "output_type": "display_data"
                },
                {
                    "data": {
                        "text/html": [
                            "<code style='display:block; margin-top:-0.7em; font-family:Consolas,monospace'><b>CF-Cache-Status:</b> DYNAMIC</code>"
                        ],
                        "text/plain": [
                            "<IPython.core.display.HTML object>"
                        ]
                    },
                    "metadata": {},
                    "output_type": "display_data"
                },
                {
                    "data": {
                        "text/html": [
                            "<code style='display:block; margin-top:-0.7em; font-family:Consolas,monospace'><b>ETag:</b> W/\"134-YHEEA1xHwFqYK5I7RwFxXZY/kSs\"</code>"
                        ],
                        "text/plain": [
                            "<IPython.core.display.HTML object>"
                        ]
                    },
                    "metadata": {},
                    "output_type": "display_data"
                },
                {
                    "data": {
                        "text/html": [
                            "<code style='display:block; margin-top:-0.7em; font-family:Consolas,monospace'><b>Vary:</b> Accept-Encoding</code>"
                        ],
                        "text/plain": [
                            "<IPython.core.display.HTML object>"
                        ]
                    },
                    "metadata": {},
                    "output_type": "display_data"
                },
                {
                    "data": {
                        "text/html": [
                            "<code style='display:block; margin-top:-0.7em; font-family:Consolas,monospace'><b>rndr-id:</b> 83f4b260-f9d0-4988</code>"
                        ],
                        "text/plain": [
                            "<IPython.core.display.HTML object>"
                        ]
                    },
                    "metadata": {},
                    "output_type": "display_data"
                },
                {
                    "data": {
                        "text/html": [
                            "<code style='display:block; margin-top:-0.7em; font-family:Consolas,monospace'><b>x-powered-by:</b> Express</code>"
                        ],
                        "text/plain": [
                            "<IPython.core.display.HTML object>"
                        ]
                    },
                    "metadata": {},
                    "output_type": "display_data"
                },
                {
                    "data": {
                        "text/html": [
                            "<code style='display:block; margin-top:-0.7em; font-family:Consolas,monospace'><b>x-render-origin-server:</b> Render</code>"
                        ],
                        "text/plain": [
                            "<IPython.core.display.HTML object>"
                        ]
                    },
                    "metadata": {},
                    "output_type": "display_data"
                },
                {
                    "data": {
                        "text/html": [
                            "<code style='display:block; margin-top:-0.7em; font-family:Consolas,monospace'><b>Server:</b> cloudflare</code>"
                        ],
                        "text/plain": [
                            "<IPython.core.display.HTML object>"
                        ]
                    },
                    "metadata": {},
                    "output_type": "display_data"
                },
                {
                    "data": {
                        "text/html": [
                            "<code style='display:block; margin-top:-0.7em; font-family:Consolas,monospace'><b>alt-svc:</b> h3=\":443\"; ma=86400</code>"
                        ],
                        "text/plain": [
                            "<IPython.core.display.HTML object>"
                        ]
                    },
                    "metadata": {},
                    "output_type": "display_data"
                },
                {
                    "data": {
                        "text/html": [
                            "<div style='padding:5px; border: 1px solid #ccc; border-radius:5px; box-shadow: 5px 5px 5px #ccc; margin:5px 0 10px 0; display: inline-block; min-width: 50%'><!DOCTYPE html>\r\n",
                            "<html lang=\"fr\">\r\n",
                            "<meta charset=\"utf-8\">\r\n",
                            "\r\n",
                            "<div style=\"font-family: Consolas,monospace\">\r\n",
                            "<h1 style=\"margin-top:0; padding:0.1em 0.5em;background-color:#aaa;color:white\">307 - Temporary Redirect</h1>\r\n",
                            "<p>Il faut aller voir <a href=\"http://www.ec-lyon.fr\">http://www.ec-lyon.fr</a>\r\n",
                            "</div>\r\n",
                            "</div>"
                        ],
                        "text/plain": [
                            "<IPython.core.display.HTML object>"
                        ]
                    },
                    "metadata": {},
                    "output_type": "display_data"
                }
            ],
            "source": [
                "https_request('GET', 'mod95-be3.onrender.com', '/temp')"
            ]
        },
        {
            "cell_type": "markdown",
            "metadata": {},
            "source": [
                "#### Comparaison 302 (Found) vs 307 (Temporary Redirect)\n",
                "\n",
                "**302 (Found)** :\n",
                "- Redirection temporaire \"souple\"\n",
                "- Permet potentiellement de changer la méthode HTTP \n",
                "  - Exemple : Une requête POST peut être transformée en GET\n",
                "- Comportement historiquement ambigu\n",
                "- Compatible avec les anciens navigateurs\n",
                "- Risque de perte d'information lors de la redirection\n",
                "\n",
                "**307 (Temporary Redirect)** :\n",
                "- Redirection temporaire \"stricte\"\n",
                "- Préserve OBLIGATOIREMENT la méthode HTTP originale\n",
                "- Garantit que :\n",
                "  - Un POST reste un POST\n",
                "  - Un GET reste un GET\n",
                "- Recommandé pour les applications modernes\n",
                "- Plus sécurisé pour les requêtes complexes (formulaires, API)\n",
                "\n",
                "#### Comparaison avec 301 et 308\n",
                "\n",
                "- **301 (Moved Permanently)** : \n",
                "  - Redirection définitive\n",
                "  - Peut modifier la méthode HTTP\n",
                "  - Signale un déplacement permanent de ressource\n",
                "\n",
                "- **308 (Permanent Redirect)** :\n",
                "  - Redirection définitive\n",
                "  - Préserve strictement la méthode HTTP\n",
                "  - Équivalent permanent du 307\n"
            ]
        },
        {
            "cell_type": "markdown",
            "metadata": {},
            "source": [
                "###  __[4.5]__ - Ce type de redirection est utilisé par les portails captifs. Vérifier ceci en envoyant une requête vers la ressource <a href=\"https://campus.ec-lyon.fr\">https://campus.ec-lyon.fr</a>. Commenter le résultat obtenu et expliquer pourquoi ce type de réponse est approprié pour ces services.\n"
            ]
        },
        {
            "cell_type": "code",
            "execution_count": 23,
            "metadata": {
                "collapsed": false,
                "util.bundle": "correcteur"
            },
            "outputs": [
                {
                    "data": {
                        "text/html": [
                            "<code style='font-family:Consolas,monospace; display:block; margin-top: 5px; border-bottom:1px solid #ccc'><span style='font-weight:bold;color:#008'>302</span> - Déplacé Temporairement</code>"
                        ],
                        "text/plain": [
                            "<IPython.core.display.HTML object>"
                        ]
                    },
                    "metadata": {},
                    "output_type": "display_data"
                },
                {
                    "data": {
                        "text/html": [
                            "<code style='display:block; margin-top:-0.7em; font-family:Consolas,monospace'><b>Date:</b> Sun, 15 Dec 2024 15:00:15 GMT</code>"
                        ],
                        "text/plain": [
                            "<IPython.core.display.HTML object>"
                        ]
                    },
                    "metadata": {},
                    "output_type": "display_data"
                },
                {
                    "data": {
                        "text/html": [
                            "<code style='display:block; margin-top:-0.7em; font-family:Consolas,monospace'><b>Server:</b> Apache/2.4.10 (Debian)</code>"
                        ],
                        "text/plain": [
                            "<IPython.core.display.HTML object>"
                        ]
                    },
                    "metadata": {},
                    "output_type": "display_data"
                },
                {
                    "data": {
                        "text/html": [
                            "<code style='display:block; margin-top:-0.7em; font-family:Consolas,monospace'><b>Set-Cookie:</b> JSESSIONID=B3893B69248B1C7B0C23C7FFCA91A474; Path=/; Secure; HttpOnly</code>"
                        ],
                        "text/plain": [
                            "<IPython.core.display.HTML object>"
                        ]
                    },
                    "metadata": {},
                    "output_type": "display_data"
                },
                {
                    "data": {
                        "text/html": [
                            "<code style='display:block; margin-top:-0.7em; font-family:Consolas,monospace'><b>Location:</b> https://cas.ec-lyon.fr/login?service=https%3A%2F%2Fcampus.ec-lyon.fr%2Fservlet%2Fcom.jsbsoft.jtf.core.SG%3FPROC%3DIDENTIFICATION_FRONT</code>"
                        ],
                        "text/plain": [
                            "<IPython.core.display.HTML object>"
                        ]
                    },
                    "metadata": {},
                    "output_type": "display_data"
                },
                {
                    "data": {
                        "text/html": [
                            "<code style='display:block; margin-top:-0.7em; font-family:Consolas,monospace'><b>Content-Length:</b> 0</code>"
                        ],
                        "text/plain": [
                            "<IPython.core.display.HTML object>"
                        ]
                    },
                    "metadata": {},
                    "output_type": "display_data"
                }
            ],
            "source": [
                "https_request('GET', 'campus.ec-lyon.fr', '/')"
            ]
        },
        {
            "cell_type": "markdown",
            "metadata": {},
            "source": [
                "... vos commentaires et explications ici"
            ]
        },
        {
            "cell_type": "markdown",
            "metadata": {},
            "source": [
                "### \n",
                "__[4.6]__ - Voici un dernier exemple : <a href=\"http://mod95-be3.onrender.com/hello.html\">http://mod95-be3.onrender.com/hello.html</a>. Commenter.\n",
                "</div>"
            ]
        },
        {
            "cell_type": "code",
            "execution_count": 24,
            "metadata": {
                "collapsed": false,
                "util.bundle": "correcteur"
            },
            "outputs": [
                {
                    "data": {
                        "text/html": [
                            "<code style='font-family:Consolas,monospace; display:block; margin-top: 5px; border-bottom:1px solid #ccc'><span style='font-weight:bold;color:#008'>200</span> - OK</code>"
                        ],
                        "text/plain": [
                            "<IPython.core.display.HTML object>"
                        ]
                    },
                    "metadata": {},
                    "output_type": "display_data"
                },
                {
                    "data": {
                        "text/html": [
                            "<code style='display:block; margin-top:-0.7em; font-family:Consolas,monospace'><b>Date:</b> Sun, 15 Dec 2024 15:00:15 GMT</code>"
                        ],
                        "text/plain": [
                            "<IPython.core.display.HTML object>"
                        ]
                    },
                    "metadata": {},
                    "output_type": "display_data"
                },
                {
                    "data": {
                        "text/html": [
                            "<code style='display:block; margin-top:-0.7em; font-family:Consolas,monospace'><b>Content-Type:</b> text/html; charset=UTF-8</code>"
                        ],
                        "text/plain": [
                            "<IPython.core.display.HTML object>"
                        ]
                    },
                    "metadata": {},
                    "output_type": "display_data"
                },
                {
                    "data": {
                        "text/html": [
                            "<code style='display:block; margin-top:-0.7em; font-family:Consolas,monospace'><b>Transfer-Encoding:</b> chunked</code>"
                        ],
                        "text/plain": [
                            "<IPython.core.display.HTML object>"
                        ]
                    },
                    "metadata": {},
                    "output_type": "display_data"
                },
                {
                    "data": {
                        "text/html": [
                            "<code style='display:block; margin-top:-0.7em; font-family:Consolas,monospace'><b>Connection:</b> keep-alive</code>"
                        ],
                        "text/plain": [
                            "<IPython.core.display.HTML object>"
                        ]
                    },
                    "metadata": {},
                    "output_type": "display_data"
                },
                {
                    "data": {
                        "text/html": [
                            "<code style='display:block; margin-top:-0.7em; font-family:Consolas,monospace'><b>CF-Ray:</b> 8f274d5e78a51681-MRS</code>"
                        ],
                        "text/plain": [
                            "<IPython.core.display.HTML object>"
                        ]
                    },
                    "metadata": {},
                    "output_type": "display_data"
                },
                {
                    "data": {
                        "text/html": [
                            "<code style='display:block; margin-top:-0.7em; font-family:Consolas,monospace'><b>CF-Cache-Status:</b> DYNAMIC</code>"
                        ],
                        "text/plain": [
                            "<IPython.core.display.HTML object>"
                        ]
                    },
                    "metadata": {},
                    "output_type": "display_data"
                },
                {
                    "data": {
                        "text/html": [
                            "<code style='display:block; margin-top:-0.7em; font-family:Consolas,monospace'><b>Cache-Control:</b> public, max-age=0</code>"
                        ],
                        "text/plain": [
                            "<IPython.core.display.HTML object>"
                        ]
                    },
                    "metadata": {},
                    "output_type": "display_data"
                },
                {
                    "data": {
                        "text/html": [
                            "<code style='display:block; margin-top:-0.7em; font-family:Consolas,monospace'><b>ETag:</b> W/\"b6-187dd542520\"</code>"
                        ],
                        "text/plain": [
                            "<IPython.core.display.HTML object>"
                        ]
                    },
                    "metadata": {},
                    "output_type": "display_data"
                },
                {
                    "data": {
                        "text/html": [
                            "<code style='display:block; margin-top:-0.7em; font-family:Consolas,monospace'><b>Last-Modified:</b> Tue, 02 May 2023 16:38:12 GMT</code>"
                        ],
                        "text/plain": [
                            "<IPython.core.display.HTML object>"
                        ]
                    },
                    "metadata": {},
                    "output_type": "display_data"
                },
                {
                    "data": {
                        "text/html": [
                            "<code style='display:block; margin-top:-0.7em; font-family:Consolas,monospace'><b>Vary:</b> Accept-Encoding</code>"
                        ],
                        "text/plain": [
                            "<IPython.core.display.HTML object>"
                        ]
                    },
                    "metadata": {},
                    "output_type": "display_data"
                },
                {
                    "data": {
                        "text/html": [
                            "<code style='display:block; margin-top:-0.7em; font-family:Consolas,monospace'><b>rndr-id:</b> 845a58c8-3d2f-4fe3</code>"
                        ],
                        "text/plain": [
                            "<IPython.core.display.HTML object>"
                        ]
                    },
                    "metadata": {},
                    "output_type": "display_data"
                },
                {
                    "data": {
                        "text/html": [
                            "<code style='display:block; margin-top:-0.7em; font-family:Consolas,monospace'><b>x-powered-by:</b> Express</code>"
                        ],
                        "text/plain": [
                            "<IPython.core.display.HTML object>"
                        ]
                    },
                    "metadata": {},
                    "output_type": "display_data"
                },
                {
                    "data": {
                        "text/html": [
                            "<code style='display:block; margin-top:-0.7em; font-family:Consolas,monospace'><b>x-render-origin-server:</b> Render</code>"
                        ],
                        "text/plain": [
                            "<IPython.core.display.HTML object>"
                        ]
                    },
                    "metadata": {},
                    "output_type": "display_data"
                },
                {
                    "data": {
                        "text/html": [
                            "<code style='display:block; margin-top:-0.7em; font-family:Consolas,monospace'><b>Server:</b> cloudflare</code>"
                        ],
                        "text/plain": [
                            "<IPython.core.display.HTML object>"
                        ]
                    },
                    "metadata": {},
                    "output_type": "display_data"
                },
                {
                    "data": {
                        "text/html": [
                            "<code style='display:block; margin-top:-0.7em; font-family:Consolas,monospace'><b>alt-svc:</b> h3=\":443\"; ma=86400</code>"
                        ],
                        "text/plain": [
                            "<IPython.core.display.HTML object>"
                        ]
                    },
                    "metadata": {},
                    "output_type": "display_data"
                },
                {
                    "data": {
                        "text/html": [
                            "<div style='padding:5px; border: 1px solid #ccc; border-radius:5px; box-shadow: 5px 5px 5px #ccc; margin:5px 0 10px 0; display: inline-block; min-width: 50%'><!DOCTYPE html>\n",
                            "<html lang=\"fr\">\n",
                            "<meta charset=\"utf-8\">\n",
                            "<title>Exemple HTML</title>\n",
                            "<h1 style=\"margin:0 0 0.33em\">Exemple</h1>\n",
                            "<div>Hello, ceci est un exemple de document HTML</div>\n",
                            "</div>"
                        ],
                        "text/plain": [
                            "<IPython.core.display.HTML object>"
                        ]
                    },
                    "metadata": {},
                    "output_type": "display_data"
                }
            ],
            "source": [
                "https_request('GET', 'mod95-be3.onrender.com', '/hello.html')"
            ]
        },
        {
            "cell_type": "markdown",
            "metadata": {},
            "source": [
                "... vos commentaires et explications ici"
            ]
        },
        {
            "cell_type": "markdown",
            "metadata": {},
            "source": [
                "## 5. Authentification."
            ]
        },
        {
            "cell_type": "markdown",
            "metadata": {},
            "source": [
                "\n",
                "### __[5.1]__ - La ressource <a href=\"https://mod95-be3.onrender.com/user.html\">user.html</a> est protégé avec un nom d'utilisateur et un mot de passe. Quelles sont les informations renvoyées par le serveur permettant au navigateur de gérer cette situation ? Comment réagit le navigateur ?\n"
            ]
        },
        {
            "cell_type": "code",
            "execution_count": 25,
            "metadata": {
                "collapsed": false,
                "util.bundle": "correcteur"
            },
            "outputs": [
                {
                    "data": {
                        "text/html": [
                            "<code style='font-family:Consolas,monospace; display:block; margin-top: 5px; border-bottom:1px solid #ccc'><span style='font-weight:bold;color:#008'>401</span> - Unauthorized</code>"
                        ],
                        "text/plain": [
                            "<IPython.core.display.HTML object>"
                        ]
                    },
                    "metadata": {},
                    "output_type": "display_data"
                },
                {
                    "data": {
                        "text/html": [
                            "<code style='display:block; margin-top:-0.7em; font-family:Consolas,monospace'><b>Date:</b> Sun, 15 Dec 2024 15:00:16 GMT</code>"
                        ],
                        "text/plain": [
                            "<IPython.core.display.HTML object>"
                        ]
                    },
                    "metadata": {},
                    "output_type": "display_data"
                },
                {
                    "data": {
                        "text/html": [
                            "<code style='display:block; margin-top:-0.7em; font-family:Consolas,monospace'><b>Content-Type:</b> text/html; charset=utf-8</code>"
                        ],
                        "text/plain": [
                            "<IPython.core.display.HTML object>"
                        ]
                    },
                    "metadata": {},
                    "output_type": "display_data"
                },
                {
                    "data": {
                        "text/html": [
                            "<code style='display:block; margin-top:-0.7em; font-family:Consolas,monospace'><b>Transfer-Encoding:</b> chunked</code>"
                        ],
                        "text/plain": [
                            "<IPython.core.display.HTML object>"
                        ]
                    },
                    "metadata": {},
                    "output_type": "display_data"
                },
                {
                    "data": {
                        "text/html": [
                            "<code style='display:block; margin-top:-0.7em; font-family:Consolas,monospace'><b>Connection:</b> keep-alive</code>"
                        ],
                        "text/plain": [
                            "<IPython.core.display.HTML object>"
                        ]
                    },
                    "metadata": {},
                    "output_type": "display_data"
                },
                {
                    "data": {
                        "text/html": [
                            "<code style='display:block; margin-top:-0.7em; font-family:Consolas,monospace'><b>CF-Ray:</b> 8f274d609b765fa6-MRS</code>"
                        ],
                        "text/plain": [
                            "<IPython.core.display.HTML object>"
                        ]
                    },
                    "metadata": {},
                    "output_type": "display_data"
                },
                {
                    "data": {
                        "text/html": [
                            "<code style='display:block; margin-top:-0.7em; font-family:Consolas,monospace'><b>CF-Cache-Status:</b> DYNAMIC</code>"
                        ],
                        "text/plain": [
                            "<IPython.core.display.HTML object>"
                        ]
                    },
                    "metadata": {},
                    "output_type": "display_data"
                },
                {
                    "data": {
                        "text/html": [
                            "<code style='display:block; margin-top:-0.7em; font-family:Consolas,monospace'><b>ETag:</b> W/\"10f-y4wdLSa8p9c5VZ8SORy3kZHNLOk\"</code>"
                        ],
                        "text/plain": [
                            "<IPython.core.display.HTML object>"
                        ]
                    },
                    "metadata": {},
                    "output_type": "display_data"
                },
                {
                    "data": {
                        "text/html": [
                            "<code style='display:block; margin-top:-0.7em; font-family:Consolas,monospace'><b>Vary:</b> Accept-Encoding</code>"
                        ],
                        "text/plain": [
                            "<IPython.core.display.HTML object>"
                        ]
                    },
                    "metadata": {},
                    "output_type": "display_data"
                },
                {
                    "data": {
                        "text/html": [
                            "<code style='display:block; margin-top:-0.7em; font-family:Consolas,monospace'><b>WWW-Authenticate:</b> Basic realm=\"BE-HTTP\"</code>"
                        ],
                        "text/plain": [
                            "<IPython.core.display.HTML object>"
                        ]
                    },
                    "metadata": {},
                    "output_type": "display_data"
                },
                {
                    "data": {
                        "text/html": [
                            "<code style='display:block; margin-top:-0.7em; font-family:Consolas,monospace'><b>rndr-id:</b> 2d33908a-2b80-4b98</code>"
                        ],
                        "text/plain": [
                            "<IPython.core.display.HTML object>"
                        ]
                    },
                    "metadata": {},
                    "output_type": "display_data"
                },
                {
                    "data": {
                        "text/html": [
                            "<code style='display:block; margin-top:-0.7em; font-family:Consolas,monospace'><b>x-powered-by:</b> Express</code>"
                        ],
                        "text/plain": [
                            "<IPython.core.display.HTML object>"
                        ]
                    },
                    "metadata": {},
                    "output_type": "display_data"
                },
                {
                    "data": {
                        "text/html": [
                            "<code style='display:block; margin-top:-0.7em; font-family:Consolas,monospace'><b>x-render-origin-server:</b> Render</code>"
                        ],
                        "text/plain": [
                            "<IPython.core.display.HTML object>"
                        ]
                    },
                    "metadata": {},
                    "output_type": "display_data"
                },
                {
                    "data": {
                        "text/html": [
                            "<code style='display:block; margin-top:-0.7em; font-family:Consolas,monospace'><b>Server:</b> cloudflare</code>"
                        ],
                        "text/plain": [
                            "<IPython.core.display.HTML object>"
                        ]
                    },
                    "metadata": {},
                    "output_type": "display_data"
                },
                {
                    "data": {
                        "text/html": [
                            "<code style='display:block; margin-top:-0.7em; font-family:Consolas,monospace'><b>alt-svc:</b> h3=\":443\"; ma=86400</code>"
                        ],
                        "text/plain": [
                            "<IPython.core.display.HTML object>"
                        ]
                    },
                    "metadata": {},
                    "output_type": "display_data"
                },
                {
                    "data": {
                        "text/html": [
                            "<div style='padding:5px; border: 1px solid #ccc; border-radius:5px; box-shadow: 5px 5px 5px #ccc; margin:5px 0 10px 0; display: inline-block; min-width: 50%'><!DOCTYPE html>\r\n",
                            "<html lang=\"fr\">\r\n",
                            "<meta charset=\"utf-8\">\r\n",
                            "\r\n",
                            "<div style=\"font-family: Consolas,monospace\">\r\n",
                            "<h1 style=\"margin-top:0; padding:0.1em 0.5em;background-color:#066;color:white\">401 - Authorization Required</h1>\r\n",
                            "<p>Document protégé par mot de passe\r\n",
                            "</div>\r\n",
                            "</div>"
                        ],
                        "text/plain": [
                            "<IPython.core.display.HTML object>"
                        ]
                    },
                    "metadata": {},
                    "output_type": "display_data"
                }
            ],
            "source": [
                "https_request('GET', 'mod95-be3.onrender.com', '/user.html')"
            ]
        },
        {
            "cell_type": "markdown",
            "metadata": {},
            "source": [
                "Lorsqu'on tente d'accéder à la ressource protégée `/user.html`, voici ce qui se passe :\n",
                "\n",
                "1. **Réponse du serveur** :\n",
                "   - Code de statut : `401 Unauthorized`\n",
                "   - En-tête : `WWW-Authenticate: Basic realm=\"BE-HTTP\"`\n",
                "   - Corps de la réponse : Page HTML affichant \"Document protégé par mot de passe\"\n",
                "\n",
                "2. **Réaction du navigateur** :\n",
                "   - Il détecte l'en-tête `WWW-Authenticate` qui indique une authentification de type Basic\n",
                "   - Il affiche une boîte de dialogue demandant à l'utilisateur de saisir ses identifiants\n",
                "   - Le dialogue affiche le \"realm\" (domaine d'authentification) spécifié : \"BE-HTTP\"\n",
                "   - Il propose généralement deux champs : un pour le nom d'utilisateur et un pour le mot de passe\n",
                "\n",
                "3. **Processus d'authentification** :\n",
                "   - Si l'utilisateur entre des identifiants, le navigateur les encode en base64\n",
                "   - Il renvoie la requête avec un en-tête `Authorization: Basic <credentials_base64>`\n",
                "   - Si les identifiants sont corrects, le serveur renvoie la ressource demandée\n",
                "   - Si les identifiants sont incorrects, le processus recommence avec un nouveau 401\n",
                "\n",
                "Ce mécanisme d'authentification Basic est simple mais présente des limites de sécurité, c'est pourquoi il est important qu'il soit utilisé uniquement sur HTTPS pour protéger les identifiants lors de la transmission."
            ]
        },
        {
            "cell_type": "markdown",
            "metadata": {},
            "source": [
                "###  __[5.2]__ - Le nom d'utilisateur et le mot de passe permettant d'accéder à la ressource <a href=\"https://mod95-be3.onrender.com/user.html\">user.html</a> sont respectivement <code>be-http</code> et <code>cool!</code>. Indiquer quelle est la directive à ajouter à la requête pour accéder à cette ressource, et comment est construite la valeur transmise au serveur."
            ]
        },
        {
            "cell_type": "markdown",
            "metadata": {
                "collapsed": false
            },
            "source": [
                "Pour accéder à la ressource protégée, il faut ajouter la directive `Authorization` dans l'en-tête de la requête. La valeur de cette directive est construite comme suit :\n",
                "\n",
                "1. **Construction de la chaîne d'authentification** :\n",
                "   - Concaténation du nom d'utilisateur et du mot de passe séparés par `:` \n",
                "   - Dans notre cas : `be-http:cool!`\n",
                "\n",
                "2. **Encodage de la valeur** :\n",
                "   - La chaîne obtenue doit être encodée en base64\n",
                "   - Le résultat de l'encodage sera utilisé dans l'en-tête\n",
                "\n",
                "3. **Format de la directive** :\n",
                "   - L'en-tête doit suivre le format : `Authorization: Basic <valeur_base64>`\n",
                "   - Le mot-clé \"Basic\" indique le type d'authentification utilisé\n",
                "   - La valeur encodée est ajoutée après un espace\n",
                "\n",
                "Cette directive doit être incluse dans chaque requête nécessitant une authentification pour accéder à la ressource protégée."
            ]
        },
        {
            "cell_type": "markdown",
            "metadata": {},
            "source": [
                "###  __[5.3]__ -  Le module Python nommé base64 permet d'encoder des chaînes de caractères en base64. Après vous être documenté sur la façon d'utiliser ce module, déterminer quelle est l'entête exacte permettant au navigateur d'obtenir la ressource protégée, et vérifier à l'aide d'une requête que cela fonctionne."
            ]
        },
        {
            "cell_type": "code",
            "execution_count": 26,
            "metadata": {
                "collapsed": false,
                "util.bundle": "correcteur"
            },
            "outputs": [
                {
                    "data": {
                        "text/html": [
                            "<code style='font-family:Consolas,monospace; display:block; margin-top: 5px; border-bottom:1px solid #ccc'><span style='font-weight:bold;color:#008'>200</span> - OK</code>"
                        ],
                        "text/plain": [
                            "<IPython.core.display.HTML object>"
                        ]
                    },
                    "metadata": {},
                    "output_type": "display_data"
                },
                {
                    "data": {
                        "text/html": [
                            "<code style='display:block; margin-top:-0.7em; font-family:Consolas,monospace'><b>Date:</b> Sun, 15 Dec 2024 15:00:16 GMT</code>"
                        ],
                        "text/plain": [
                            "<IPython.core.display.HTML object>"
                        ]
                    },
                    "metadata": {},
                    "output_type": "display_data"
                },
                {
                    "data": {
                        "text/html": [
                            "<code style='display:block; margin-top:-0.7em; font-family:Consolas,monospace'><b>Content-Type:</b> text/html; charset=UTF-8</code>"
                        ],
                        "text/plain": [
                            "<IPython.core.display.HTML object>"
                        ]
                    },
                    "metadata": {},
                    "output_type": "display_data"
                },
                {
                    "data": {
                        "text/html": [
                            "<code style='display:block; margin-top:-0.7em; font-family:Consolas,monospace'><b>Transfer-Encoding:</b> chunked</code>"
                        ],
                        "text/plain": [
                            "<IPython.core.display.HTML object>"
                        ]
                    },
                    "metadata": {},
                    "output_type": "display_data"
                },
                {
                    "data": {
                        "text/html": [
                            "<code style='display:block; margin-top:-0.7em; font-family:Consolas,monospace'><b>Connection:</b> keep-alive</code>"
                        ],
                        "text/plain": [
                            "<IPython.core.display.HTML object>"
                        ]
                    },
                    "metadata": {},
                    "output_type": "display_data"
                },
                {
                    "data": {
                        "text/html": [
                            "<code style='display:block; margin-top:-0.7em; font-family:Consolas,monospace'><b>CF-Ray:</b> 8f274d62ee3ce1aa-MRS</code>"
                        ],
                        "text/plain": [
                            "<IPython.core.display.HTML object>"
                        ]
                    },
                    "metadata": {},
                    "output_type": "display_data"
                },
                {
                    "data": {
                        "text/html": [
                            "<code style='display:block; margin-top:-0.7em; font-family:Consolas,monospace'><b>CF-Cache-Status:</b> DYNAMIC</code>"
                        ],
                        "text/plain": [
                            "<IPython.core.display.HTML object>"
                        ]
                    },
                    "metadata": {},
                    "output_type": "display_data"
                },
                {
                    "data": {
                        "text/html": [
                            "<code style='display:block; margin-top:-0.7em; font-family:Consolas,monospace'><b>Cache-Control:</b> public, max-age=0</code>"
                        ],
                        "text/plain": [
                            "<IPython.core.display.HTML object>"
                        ]
                    },
                    "metadata": {},
                    "output_type": "display_data"
                },
                {
                    "data": {
                        "text/html": [
                            "<code style='display:block; margin-top:-0.7em; font-family:Consolas,monospace'><b>ETag:</b> W/\"16f-187dd542520\"</code>"
                        ],
                        "text/plain": [
                            "<IPython.core.display.HTML object>"
                        ]
                    },
                    "metadata": {},
                    "output_type": "display_data"
                },
                {
                    "data": {
                        "text/html": [
                            "<code style='display:block; margin-top:-0.7em; font-family:Consolas,monospace'><b>Last-Modified:</b> Tue, 02 May 2023 16:38:12 GMT</code>"
                        ],
                        "text/plain": [
                            "<IPython.core.display.HTML object>"
                        ]
                    },
                    "metadata": {},
                    "output_type": "display_data"
                },
                {
                    "data": {
                        "text/html": [
                            "<code style='display:block; margin-top:-0.7em; font-family:Consolas,monospace'><b>Vary:</b> Accept-Encoding</code>"
                        ],
                        "text/plain": [
                            "<IPython.core.display.HTML object>"
                        ]
                    },
                    "metadata": {},
                    "output_type": "display_data"
                },
                {
                    "data": {
                        "text/html": [
                            "<code style='display:block; margin-top:-0.7em; font-family:Consolas,monospace'><b>rndr-id:</b> a27542b6-9df8-472f</code>"
                        ],
                        "text/plain": [
                            "<IPython.core.display.HTML object>"
                        ]
                    },
                    "metadata": {},
                    "output_type": "display_data"
                },
                {
                    "data": {
                        "text/html": [
                            "<code style='display:block; margin-top:-0.7em; font-family:Consolas,monospace'><b>x-powered-by:</b> Express</code>"
                        ],
                        "text/plain": [
                            "<IPython.core.display.HTML object>"
                        ]
                    },
                    "metadata": {},
                    "output_type": "display_data"
                },
                {
                    "data": {
                        "text/html": [
                            "<code style='display:block; margin-top:-0.7em; font-family:Consolas,monospace'><b>x-render-origin-server:</b> Render</code>"
                        ],
                        "text/plain": [
                            "<IPython.core.display.HTML object>"
                        ]
                    },
                    "metadata": {},
                    "output_type": "display_data"
                },
                {
                    "data": {
                        "text/html": [
                            "<code style='display:block; margin-top:-0.7em; font-family:Consolas,monospace'><b>Server:</b> cloudflare</code>"
                        ],
                        "text/plain": [
                            "<IPython.core.display.HTML object>"
                        ]
                    },
                    "metadata": {},
                    "output_type": "display_data"
                },
                {
                    "data": {
                        "text/html": [
                            "<code style='display:block; margin-top:-0.7em; font-family:Consolas,monospace'><b>alt-svc:</b> h3=\":443\"; ma=86400</code>"
                        ],
                        "text/plain": [
                            "<IPython.core.display.HTML object>"
                        ]
                    },
                    "metadata": {},
                    "output_type": "display_data"
                },
                {
                    "data": {
                        "text/html": [
                            "<div style='padding:5px; border: 1px solid #ccc; border-radius:5px; box-shadow: 5px 5px 5px #ccc; margin:5px 0 10px 0; display: inline-block; min-width: 50%'><!DOCTYPE html>\r\n",
                            "<html lang=\"fr\">\r\n",
                            "<meta charset=\"utf-8\">\r\n",
                            "<title>Document protégé via Basic</title>\r\n",
                            "<h2 style=\"margin-top:0;color:#8cc\">Document protégé via Basic</h2>\r\n",
                            "<p>Ce document est protégé à l'aide du nom d'utilisateur 'be-http' avec le mot de passe 'cool!'</p>\r\n",
                            "<p>Si vous voyez ce message c'est que vous vous êtes correctement authentifié.</p>\r\n",
                            "\r\n",
                            "</div>"
                        ],
                        "text/plain": [
                            "<IPython.core.display.HTML object>"
                        ]
                    },
                    "metadata": {},
                    "output_type": "display_data"
                }
            ],
            "source": [
                "import base64\n",
                "\n",
                "# Création de la chaîne d'authentification\n",
                "auth_string = \"be-http:cool!\"\n",
                "\n",
                "# Encodage en base64\n",
                "encoded = base64.b64encode(auth_string.encode()).decode()\n",
                "# Résultat : 'YmUtaHR0cDpjb29sIQ=='\n",
                "\n",
                "# Vérification avec une requête HTTP\n",
                "https_request('GET', 'mod95-be3.onrender.com', '/user.html', \n",
                "    headers={'Authorization': f'Basic {encoded}'})"
            ]
        },
        {
            "cell_type": "markdown",
            "metadata": {},
            "source": [
                "### __[5.4]__ - Donner votre avis quant au niveau de sécurité apporté par la méthode d'authentification Basic, et des exemples de contexte dans lequel il est tout de même acceptable de l'utiliser."
            ]
        },
        {
            "cell_type": "markdown",
            "metadata": {},
            "source": [
                "L'authentification Basic offre un niveau de sécurité relativement faible car :\n",
                "- Les identifiants sont simplement encodés en base64, pas chiffrés\n",
                "- Les credentials sont envoyés à chaque requête\n",
                "- Pas de mécanisme de déconnexion\n",
                "- Vulnérable aux attaques \"man-in-the-middle\" sans HTTPS\n",
                "\n",
                "Elle reste acceptable dans certains contextes :\n",
                "- Applications internes sur réseau sécurisé\n",
                "- Protection de ressources non sensibles\n",
                "- Environnements de développement et test\n",
                "- APIs techniques avec peu d'utilisateurs\n",
                "\n",
                "Son utilisation doit toujours être combinée avec HTTPS pour assurer un minimum de sécurité dans la transmission des données."
            ]
        },
        {
            "cell_type": "markdown",
            "metadata": {},
            "source": [
                "###  __[5.5]__ - Le lien <a href=\"https://mod95-be3.onrender.com/401/basic\">logout</a> permet de se déconnecter et oblige l'utilisateur à fournir à nouveau le mot de passe lors de l'accès suivant à la ressource <a href=\"https://mod95-be3.onrender.com/user.html\">user.html</a>. Expliquer ce que fait le serveur pour arriver à ce résultat."
            ]
        },
        {
            "cell_type": "code",
            "execution_count": 27,
            "metadata": {
                "collapsed": false,
                "util.bundle": "correcteur"
            },
            "outputs": [
                {
                    "data": {
                        "text/html": [
                            "<code style='font-family:Consolas,monospace; display:block; margin-top: 5px; border-bottom:1px solid #ccc'><span style='font-weight:bold;color:#008'>401</span> - Unauthorized</code>"
                        ],
                        "text/plain": [
                            "<IPython.core.display.HTML object>"
                        ]
                    },
                    "metadata": {},
                    "output_type": "display_data"
                },
                {
                    "data": {
                        "text/html": [
                            "<code style='display:block; margin-top:-0.7em; font-family:Consolas,monospace'><b>Date:</b> Sun, 15 Dec 2024 15:00:16 GMT</code>"
                        ],
                        "text/plain": [
                            "<IPython.core.display.HTML object>"
                        ]
                    },
                    "metadata": {},
                    "output_type": "display_data"
                },
                {
                    "data": {
                        "text/html": [
                            "<code style='display:block; margin-top:-0.7em; font-family:Consolas,monospace'><b>Content-Type:</b> text/html; charset=utf-8</code>"
                        ],
                        "text/plain": [
                            "<IPython.core.display.HTML object>"
                        ]
                    },
                    "metadata": {},
                    "output_type": "display_data"
                },
                {
                    "data": {
                        "text/html": [
                            "<code style='display:block; margin-top:-0.7em; font-family:Consolas,monospace'><b>Transfer-Encoding:</b> chunked</code>"
                        ],
                        "text/plain": [
                            "<IPython.core.display.HTML object>"
                        ]
                    },
                    "metadata": {},
                    "output_type": "display_data"
                },
                {
                    "data": {
                        "text/html": [
                            "<code style='display:block; margin-top:-0.7em; font-family:Consolas,monospace'><b>Connection:</b> keep-alive</code>"
                        ],
                        "text/plain": [
                            "<IPython.core.display.HTML object>"
                        ]
                    },
                    "metadata": {},
                    "output_type": "display_data"
                },
                {
                    "data": {
                        "text/html": [
                            "<code style='display:block; margin-top:-0.7em; font-family:Consolas,monospace'><b>CF-Ray:</b> 8f274d6508b5e281-MRS</code>"
                        ],
                        "text/plain": [
                            "<IPython.core.display.HTML object>"
                        ]
                    },
                    "metadata": {},
                    "output_type": "display_data"
                },
                {
                    "data": {
                        "text/html": [
                            "<code style='display:block; margin-top:-0.7em; font-family:Consolas,monospace'><b>CF-Cache-Status:</b> DYNAMIC</code>"
                        ],
                        "text/plain": [
                            "<IPython.core.display.HTML object>"
                        ]
                    },
                    "metadata": {},
                    "output_type": "display_data"
                },
                {
                    "data": {
                        "text/html": [
                            "<code style='display:block; margin-top:-0.7em; font-family:Consolas,monospace'><b>ETag:</b> W/\"10f-y4wdLSa8p9c5VZ8SORy3kZHNLOk\"</code>"
                        ],
                        "text/plain": [
                            "<IPython.core.display.HTML object>"
                        ]
                    },
                    "metadata": {},
                    "output_type": "display_data"
                },
                {
                    "data": {
                        "text/html": [
                            "<code style='display:block; margin-top:-0.7em; font-family:Consolas,monospace'><b>Vary:</b> Accept-Encoding</code>"
                        ],
                        "text/plain": [
                            "<IPython.core.display.HTML object>"
                        ]
                    },
                    "metadata": {},
                    "output_type": "display_data"
                },
                {
                    "data": {
                        "text/html": [
                            "<code style='display:block; margin-top:-0.7em; font-family:Consolas,monospace'><b>WWW-Authenticate:</b> Basic realm=\"BE-HTTP\"</code>"
                        ],
                        "text/plain": [
                            "<IPython.core.display.HTML object>"
                        ]
                    },
                    "metadata": {},
                    "output_type": "display_data"
                },
                {
                    "data": {
                        "text/html": [
                            "<code style='display:block; margin-top:-0.7em; font-family:Consolas,monospace'><b>rndr-id:</b> 7535d171-12ca-4113</code>"
                        ],
                        "text/plain": [
                            "<IPython.core.display.HTML object>"
                        ]
                    },
                    "metadata": {},
                    "output_type": "display_data"
                },
                {
                    "data": {
                        "text/html": [
                            "<code style='display:block; margin-top:-0.7em; font-family:Consolas,monospace'><b>x-powered-by:</b> Express</code>"
                        ],
                        "text/plain": [
                            "<IPython.core.display.HTML object>"
                        ]
                    },
                    "metadata": {},
                    "output_type": "display_data"
                },
                {
                    "data": {
                        "text/html": [
                            "<code style='display:block; margin-top:-0.7em; font-family:Consolas,monospace'><b>x-render-origin-server:</b> Render</code>"
                        ],
                        "text/plain": [
                            "<IPython.core.display.HTML object>"
                        ]
                    },
                    "metadata": {},
                    "output_type": "display_data"
                },
                {
                    "data": {
                        "text/html": [
                            "<code style='display:block; margin-top:-0.7em; font-family:Consolas,monospace'><b>Server:</b> cloudflare</code>"
                        ],
                        "text/plain": [
                            "<IPython.core.display.HTML object>"
                        ]
                    },
                    "metadata": {},
                    "output_type": "display_data"
                },
                {
                    "data": {
                        "text/html": [
                            "<code style='display:block; margin-top:-0.7em; font-family:Consolas,monospace'><b>alt-svc:</b> h3=\":443\"; ma=86400</code>"
                        ],
                        "text/plain": [
                            "<IPython.core.display.HTML object>"
                        ]
                    },
                    "metadata": {},
                    "output_type": "display_data"
                },
                {
                    "data": {
                        "text/html": [
                            "<div style='padding:5px; border: 1px solid #ccc; border-radius:5px; box-shadow: 5px 5px 5px #ccc; margin:5px 0 10px 0; display: inline-block; min-width: 50%'><!DOCTYPE html>\r\n",
                            "<html lang=\"fr\">\r\n",
                            "<meta charset=\"utf-8\">\r\n",
                            "\r\n",
                            "<div style=\"font-family: Consolas,monospace\">\r\n",
                            "<h1 style=\"margin-top:0; padding:0.1em 0.5em;background-color:#066;color:white\">401 - Authorization Required</h1>\r\n",
                            "<p>Document protégé par mot de passe\r\n",
                            "</div>\r\n",
                            "</div>"
                        ],
                        "text/plain": [
                            "<IPython.core.display.HTML object>"
                        ]
                    },
                    "metadata": {},
                    "output_type": "display_data"
                }
            ],
            "source": [
                "# Pour tester la déconnexion\n",
                "https_request('GET', 'mod95-be3.onrender.com', '/401/basic')"
            ]
        },
        {
            "cell_type": "markdown",
            "metadata": {},
            "source": [
                "Le serveur utilise une astuce pour forcer la \"déconnexion\" car l'authentification Basic n'a pas de mécanisme de déconnexion natif :\n",
                "\n",
                "1. Quand on accède au lien de déconnexion, le serveur renvoie un code 401 avec des identifiants invalides dans le `WWW-Authenticate`\n",
                "2. Cela force le navigateur à oublier les credentials précédemment stockés\n",
                "3. Lors de la prochaine requête à `user.html`, le navigateur devra redemander les identifiants à l'utilisateur\n",
                "\n",
                "Cette technique est un contournement car l'authentification Basic ne gère pas nativement la notion de session ou de déconnexion."
            ]
        },
        {
            "cell_type": "markdown",
            "metadata": {},
            "source": [
                "### __[5.6]__ - La ressource <a href=\"https://mod95-be3.onrender.com/digest.html\">digest.html</a> est protégée avec la méthode d'authentification Digest. Le nom d'utilisateur et le mot de passe sont les mêmes que précédemment. Décrire les nouveaux éléments dans la réponse du serveur."
            ]
        },
        {
            "cell_type": "code",
            "execution_count": 28,
            "metadata": {
                "collapsed": false,
                "util.bundle": "correcteur"
            },
            "outputs": [
                {
                    "data": {
                        "text/html": [
                            "<code style='font-family:Consolas,monospace; display:block; margin-top: 5px; border-bottom:1px solid #ccc'><span style='font-weight:bold;color:#008'>401</span> - Unauthorized</code>"
                        ],
                        "text/plain": [
                            "<IPython.core.display.HTML object>"
                        ]
                    },
                    "metadata": {},
                    "output_type": "display_data"
                },
                {
                    "data": {
                        "text/html": [
                            "<code style='display:block; margin-top:-0.7em; font-family:Consolas,monospace'><b>Date:</b> Sun, 15 Dec 2024 15:00:17 GMT</code>"
                        ],
                        "text/plain": [
                            "<IPython.core.display.HTML object>"
                        ]
                    },
                    "metadata": {},
                    "output_type": "display_data"
                },
                {
                    "data": {
                        "text/html": [
                            "<code style='display:block; margin-top:-0.7em; font-family:Consolas,monospace'><b>Content-Type:</b> text/html; charset=utf-8</code>"
                        ],
                        "text/plain": [
                            "<IPython.core.display.HTML object>"
                        ]
                    },
                    "metadata": {},
                    "output_type": "display_data"
                },
                {
                    "data": {
                        "text/html": [
                            "<code style='display:block; margin-top:-0.7em; font-family:Consolas,monospace'><b>Transfer-Encoding:</b> chunked</code>"
                        ],
                        "text/plain": [
                            "<IPython.core.display.HTML object>"
                        ]
                    },
                    "metadata": {},
                    "output_type": "display_data"
                },
                {
                    "data": {
                        "text/html": [
                            "<code style='display:block; margin-top:-0.7em; font-family:Consolas,monospace'><b>Connection:</b> keep-alive</code>"
                        ],
                        "text/plain": [
                            "<IPython.core.display.HTML object>"
                        ]
                    },
                    "metadata": {},
                    "output_type": "display_data"
                },
                {
                    "data": {
                        "text/html": [
                            "<code style='display:block; margin-top:-0.7em; font-family:Consolas,monospace'><b>CF-Ray:</b> 8f274d68298e5fdc-MRS</code>"
                        ],
                        "text/plain": [
                            "<IPython.core.display.HTML object>"
                        ]
                    },
                    "metadata": {},
                    "output_type": "display_data"
                },
                {
                    "data": {
                        "text/html": [
                            "<code style='display:block; margin-top:-0.7em; font-family:Consolas,monospace'><b>CF-Cache-Status:</b> DYNAMIC</code>"
                        ],
                        "text/plain": [
                            "<IPython.core.display.HTML object>"
                        ]
                    },
                    "metadata": {},
                    "output_type": "display_data"
                },
                {
                    "data": {
                        "text/html": [
                            "<code style='display:block; margin-top:-0.7em; font-family:Consolas,monospace'><b>ETag:</b> W/\"10f-8UMUS7Gu2T7UiMks6Xl8Axl+GEQ\"</code>"
                        ],
                        "text/plain": [
                            "<IPython.core.display.HTML object>"
                        ]
                    },
                    "metadata": {},
                    "output_type": "display_data"
                },
                {
                    "data": {
                        "text/html": [
                            "<code style='display:block; margin-top:-0.7em; font-family:Consolas,monospace'><b>Vary:</b> Accept-Encoding</code>"
                        ],
                        "text/plain": [
                            "<IPython.core.display.HTML object>"
                        ]
                    },
                    "metadata": {},
                    "output_type": "display_data"
                },
                {
                    "data": {
                        "text/html": [
                            "<code style='display:block; margin-top:-0.7em; font-family:Consolas,monospace'><b>WWW-Authenticate:</b> Digest realm=\"BE-HTTP\", nonce=\"f282d058ecd925efa954e73c920bd751\"</code>"
                        ],
                        "text/plain": [
                            "<IPython.core.display.HTML object>"
                        ]
                    },
                    "metadata": {},
                    "output_type": "display_data"
                },
                {
                    "data": {
                        "text/html": [
                            "<code style='display:block; margin-top:-0.7em; font-family:Consolas,monospace'><b>rndr-id:</b> 2ee68807-a8e5-4786</code>"
                        ],
                        "text/plain": [
                            "<IPython.core.display.HTML object>"
                        ]
                    },
                    "metadata": {},
                    "output_type": "display_data"
                },
                {
                    "data": {
                        "text/html": [
                            "<code style='display:block; margin-top:-0.7em; font-family:Consolas,monospace'><b>x-powered-by:</b> Express</code>"
                        ],
                        "text/plain": [
                            "<IPython.core.display.HTML object>"
                        ]
                    },
                    "metadata": {},
                    "output_type": "display_data"
                },
                {
                    "data": {
                        "text/html": [
                            "<code style='display:block; margin-top:-0.7em; font-family:Consolas,monospace'><b>x-render-origin-server:</b> Render</code>"
                        ],
                        "text/plain": [
                            "<IPython.core.display.HTML object>"
                        ]
                    },
                    "metadata": {},
                    "output_type": "display_data"
                },
                {
                    "data": {
                        "text/html": [
                            "<code style='display:block; margin-top:-0.7em; font-family:Consolas,monospace'><b>Server:</b> cloudflare</code>"
                        ],
                        "text/plain": [
                            "<IPython.core.display.HTML object>"
                        ]
                    },
                    "metadata": {},
                    "output_type": "display_data"
                },
                {
                    "data": {
                        "text/html": [
                            "<code style='display:block; margin-top:-0.7em; font-family:Consolas,monospace'><b>alt-svc:</b> h3=\":443\"; ma=86400</code>"
                        ],
                        "text/plain": [
                            "<IPython.core.display.HTML object>"
                        ]
                    },
                    "metadata": {},
                    "output_type": "display_data"
                },
                {
                    "data": {
                        "text/html": [
                            "<div style='padding:5px; border: 1px solid #ccc; border-radius:5px; box-shadow: 5px 5px 5px #ccc; margin:5px 0 10px 0; display: inline-block; min-width: 50%'><!DOCTYPE html>\r\n",
                            "<html lang=\"fr\">\r\n",
                            "<meta charset=\"utf-8\">\r\n",
                            "\r\n",
                            "<div style=\"font-family: Consolas,monospace\">\r\n",
                            "<h1 style=\"margin-top:0; padding:0.1em 0.5em;background-color:#060;color:white\">401 - Authorization Required</h1>\r\n",
                            "<p>Document protégé par mot de passe\r\n",
                            "</div>\r\n",
                            "</div>"
                        ],
                        "text/plain": [
                            "<IPython.core.display.HTML object>"
                        ]
                    },
                    "metadata": {},
                    "output_type": "display_data"
                }
            ],
            "source": [
                "https_request('GET', 'mod95-be3.onrender.com', '/digest.html')"
            ]
        },
        {
            "cell_type": "markdown",
            "metadata": {},
            "source": [
                "La réponse du serveur pour l'authentification Digest contient les éléments suivants :\n",
                "\n",
                "1. **Code de statut** : `401 Unauthorized`\n",
                "\n",
                "2. **En-tête WWW-Authenticate avec paramètres Digest** :\n",
                "   - `realm=\"BE-HTTP\"` : domaine d'authentification\n",
                "   - `nonce=\"9643627dc86b189ddf45f97be5406150\"` : valeur unique générée par le serveur\n",
                "\n",
                "3. **Autres en-têtes notables** :\n",
                "   - `Content-Type: text/html; charset=utf-8`\n",
                "   - `ETag: W/\"10f-8UMUS7Gu2T7UiMks6Xl8Axl+GEQ\"`\n",
                "   - `Vary: Accept-Encoding`\n",
                "\n",
                "Cette méthode d'authentification est plus sécurisée que Basic car elle utilise un système de challenge-response avec le nonce, évitant ainsi la transmission du mot de passe, même encodé."
            ]
        },
        {
            "cell_type": "markdown",
            "metadata": {},
            "source": [
                "###  __[5.7]__ - Expliquer comment construire la requête permettant d'accéder à la ressource <a href=\"https://mod95-be3.onrender.com/digest.html\">digest.html</a>.  __[5.8]__ - Utiliser le module Python nommé hashlib pour crypter les chaînes requises via l'algorithme MD5 pour construire pas à pas la requête permettant d'accéder à la ressource <a href=\"https://mod95-be3.onrender.com/digest.html\">digest.html</a>."
            ]
        },
        {
            "cell_type": "code",
            "execution_count": 29,
            "metadata": {
                "collapsed": false,
                "util.bundle": "correcteur"
            },
            "outputs": [
                {
                    "data": {
                        "text/html": [
                            "<code style='font-family:Consolas,monospace; display:block; margin-top: 5px; border-bottom:1px solid #ccc'><span style='font-weight:bold;color:#008'>200</span> - OK</code>"
                        ],
                        "text/plain": [
                            "<IPython.core.display.HTML object>"
                        ]
                    },
                    "metadata": {},
                    "output_type": "display_data"
                },
                {
                    "data": {
                        "text/html": [
                            "<code style='display:block; margin-top:-0.7em; font-family:Consolas,monospace'><b>Date:</b> Sun, 15 Dec 2024 15:00:18 GMT</code>"
                        ],
                        "text/plain": [
                            "<IPython.core.display.HTML object>"
                        ]
                    },
                    "metadata": {},
                    "output_type": "display_data"
                },
                {
                    "data": {
                        "text/html": [
                            "<code style='display:block; margin-top:-0.7em; font-family:Consolas,monospace'><b>Content-Type:</b> text/html; charset=UTF-8</code>"
                        ],
                        "text/plain": [
                            "<IPython.core.display.HTML object>"
                        ]
                    },
                    "metadata": {},
                    "output_type": "display_data"
                },
                {
                    "data": {
                        "text/html": [
                            "<code style='display:block; margin-top:-0.7em; font-family:Consolas,monospace'><b>Transfer-Encoding:</b> chunked</code>"
                        ],
                        "text/plain": [
                            "<IPython.core.display.HTML object>"
                        ]
                    },
                    "metadata": {},
                    "output_type": "display_data"
                },
                {
                    "data": {
                        "text/html": [
                            "<code style='display:block; margin-top:-0.7em; font-family:Consolas,monospace'><b>Connection:</b> keep-alive</code>"
                        ],
                        "text/plain": [
                            "<IPython.core.display.HTML object>"
                        ]
                    },
                    "metadata": {},
                    "output_type": "display_data"
                },
                {
                    "data": {
                        "text/html": [
                            "<code style='display:block; margin-top:-0.7em; font-family:Consolas,monospace'><b>CF-Ray:</b> 8f274d6c2dd4e281-MRS</code>"
                        ],
                        "text/plain": [
                            "<IPython.core.display.HTML object>"
                        ]
                    },
                    "metadata": {},
                    "output_type": "display_data"
                },
                {
                    "data": {
                        "text/html": [
                            "<code style='display:block; margin-top:-0.7em; font-family:Consolas,monospace'><b>CF-Cache-Status:</b> DYNAMIC</code>"
                        ],
                        "text/plain": [
                            "<IPython.core.display.HTML object>"
                        ]
                    },
                    "metadata": {},
                    "output_type": "display_data"
                },
                {
                    "data": {
                        "text/html": [
                            "<code style='display:block; margin-top:-0.7em; font-family:Consolas,monospace'><b>Cache-Control:</b> public, max-age=0</code>"
                        ],
                        "text/plain": [
                            "<IPython.core.display.HTML object>"
                        ]
                    },
                    "metadata": {},
                    "output_type": "display_data"
                },
                {
                    "data": {
                        "text/html": [
                            "<code style='display:block; margin-top:-0.7em; font-family:Consolas,monospace'><b>ETag:</b> W/\"171-187dd542520\"</code>"
                        ],
                        "text/plain": [
                            "<IPython.core.display.HTML object>"
                        ]
                    },
                    "metadata": {},
                    "output_type": "display_data"
                },
                {
                    "data": {
                        "text/html": [
                            "<code style='display:block; margin-top:-0.7em; font-family:Consolas,monospace'><b>Last-Modified:</b> Tue, 02 May 2023 16:38:12 GMT</code>"
                        ],
                        "text/plain": [
                            "<IPython.core.display.HTML object>"
                        ]
                    },
                    "metadata": {},
                    "output_type": "display_data"
                },
                {
                    "data": {
                        "text/html": [
                            "<code style='display:block; margin-top:-0.7em; font-family:Consolas,monospace'><b>Vary:</b> Accept-Encoding</code>"
                        ],
                        "text/plain": [
                            "<IPython.core.display.HTML object>"
                        ]
                    },
                    "metadata": {},
                    "output_type": "display_data"
                },
                {
                    "data": {
                        "text/html": [
                            "<code style='display:block; margin-top:-0.7em; font-family:Consolas,monospace'><b>rndr-id:</b> 7262715b-0999-489d</code>"
                        ],
                        "text/plain": [
                            "<IPython.core.display.HTML object>"
                        ]
                    },
                    "metadata": {},
                    "output_type": "display_data"
                },
                {
                    "data": {
                        "text/html": [
                            "<code style='display:block; margin-top:-0.7em; font-family:Consolas,monospace'><b>x-powered-by:</b> Express</code>"
                        ],
                        "text/plain": [
                            "<IPython.core.display.HTML object>"
                        ]
                    },
                    "metadata": {},
                    "output_type": "display_data"
                },
                {
                    "data": {
                        "text/html": [
                            "<code style='display:block; margin-top:-0.7em; font-family:Consolas,monospace'><b>x-render-origin-server:</b> Render</code>"
                        ],
                        "text/plain": [
                            "<IPython.core.display.HTML object>"
                        ]
                    },
                    "metadata": {},
                    "output_type": "display_data"
                },
                {
                    "data": {
                        "text/html": [
                            "<code style='display:block; margin-top:-0.7em; font-family:Consolas,monospace'><b>Server:</b> cloudflare</code>"
                        ],
                        "text/plain": [
                            "<IPython.core.display.HTML object>"
                        ]
                    },
                    "metadata": {},
                    "output_type": "display_data"
                },
                {
                    "data": {
                        "text/html": [
                            "<code style='display:block; margin-top:-0.7em; font-family:Consolas,monospace'><b>alt-svc:</b> h3=\":443\"; ma=86400</code>"
                        ],
                        "text/plain": [
                            "<IPython.core.display.HTML object>"
                        ]
                    },
                    "metadata": {},
                    "output_type": "display_data"
                },
                {
                    "data": {
                        "text/html": [
                            "<div style='padding:5px; border: 1px solid #ccc; border-radius:5px; box-shadow: 5px 5px 5px #ccc; margin:5px 0 10px 0; display: inline-block; min-width: 50%'><!DOCTYPE html>\r\n",
                            "<html lang=\"fr\">\r\n",
                            "<meta charset=\"utf-8\">\r\n",
                            "<title>Document protégé via Digest</title>\r\n",
                            "<h2 style=\"margin-top:0;color:#8c8\">Document protégé via Digest</h2>\r\n",
                            "<p>Ce document est protégé à l'aide du nom d'utilisateur 'be-http' avec le mot de passe 'cool!'</p>\r\n",
                            "<p>Si vous voyez ce message c'est que vous vous êtes correctement authentifié.</p>\r\n",
                            "\r\n",
                            "</div>"
                        ],
                        "text/plain": [
                            "<IPython.core.display.HTML object>"
                        ]
                    },
                    "metadata": {},
                    "output_type": "display_data"
                }
            ],
            "source": [
                "import hashlib\n",
                "import re\n",
                "\n",
                "# 1. Première requête pour obtenir le nonce\n",
                "res,body = https_request('GET', 'mod95-be3.onrender.com', '/digest.html',silent=True)\n",
                "\n",
                "# 2. Extraction du nonce depuis l'en-tête WWW-Authenticate\n",
                "www_auth = res.headers.get('WWW-Authenticate')\n",
                "nonce_match = re.search(r'nonce=\"([^\"]+)\"', www_auth)\n",
                "nonce = nonce_match.group(1)\n",
                "\n",
                "# Paramètres d'authentification\n",
                "username = \"be-http\"\n",
                "password = \"cool!\"\n",
                "realm = \"BE-HTTP\"\n",
                "uri = \"/digest.html\"\n",
                "method = \"GET\"\n",
                "\n",
                "# 3. Calcul des hashes\n",
                "ha1 = hashlib.md5(f\"{username}:{realm}:{password}\".encode()).hexdigest()\n",
                "ha2 = hashlib.md5(f\"{method}:{uri}\".encode()).hexdigest()\n",
                "response = hashlib.md5(f\"{ha1}:{nonce}:{ha2}\".encode()).hexdigest()\n",
                "\n",
                "# 4. Construction de l'en-tête et requête finale\n",
                "auth_header = {\n",
                "    'Authorization': f'Digest username=\"{username}\", realm=\"{realm}\", '\n",
                "                    f'nonce=\"{nonce}\", uri=\"{uri}\", response=\"{response}\"'\n",
                "}\n",
                "\n",
                "# 5. Requête authentifiée\n",
                "https_request('GET', 'mod95-be3.onrender.com', '/digest.html', headers=auth_header)"
            ]
        },
        {
            "cell_type": "markdown",
            "metadata": {},
            "source": [
                "Pour construire une requête avec authentification Digest, voici les étapes nécessaires :\n",
                "\n",
                "1. **Première requête** :\n",
                "   - Envoyer une requête initiale à la ressource protégée\n",
                "   - Le serveur répond avec un code 401 et un en-tête `WWW-Authenticate` contenant :\n",
                "     - realm=\"BE-HTTP\"\n",
                "     - nonce (valeur unique générée par le serveur)\n",
                "\n",
                "2. **Construction du hash** :\n",
                "   - HA1 = MD5(username:realm:password)\n",
                "   - HA2 = MD5(method:uri)\n",
                "   - response = MD5(HA1:nonce:HA2)\n",
                "\n",
                "3. **Construction de l'en-tête Authorization** :\n",
                "   L'en-tête doit contenir :\n",
                "   - username\n",
                "   - realm\n",
                "   - nonce (reçu du serveur)\n",
                "   - uri\n",
                "   - response (hash calculé)\n",
                "\n",
                "4. **Format de l'en-tête** :\n",
                "Authorization: Digest username=\"be-http\", realm=\"BE-HTTP\", nonce=\"[valeur_du_nonce]\", uri=\"/digest.html\", response=\"[hash_calculé]\"\n",
                "\n",
                "\n",
                "Cette méthode est plus sécurisée que Basic car :\n",
                "- Le mot de passe n'est jamais transmis\n",
                "- Le nonce change à chaque requête\n",
                "- Les données sont hachées avec MD5"
            ]
        },
        {
            "cell_type": "markdown",
            "metadata": {},
            "source": [
                "### __[5.9]__ - __Remarque:__ le nonce peut être généré par le serveur à sa convenance, en fonction du client (adresse IP), de la date de la requête (durée limitée), de l'URI de la ressource (portée limitée) et être vérifié lors de toute requête ultérieure.\n",
                "<p>C'est le cas du serveur recevant les requêtes précédentes qui crée des nonces dont la durée de validité est de 1 minute. C'est bien sûr trop court pour un serveur de documents statiques, et éventuellement trop long pour une API. Mais cela permet de jouer...\n",
                "<p>Vérifier qu'un nonce arbitraire ainsi qu'un nonce dont la durée de vie est dépassée ne sont pas acceptés.\n",
                "</div>"
            ]
        },
        {
            "cell_type": "code",
            "execution_count": 30,
            "metadata": {},
            "outputs": [
                {
                    "data": {
                        "text/html": [
                            "<code style='font-family:Consolas,monospace; display:block; margin-top: 5px; border-bottom:1px solid #ccc'><span style='font-weight:bold;color:#008'>401</span> - Unauthorized</code>"
                        ],
                        "text/plain": [
                            "<IPython.core.display.HTML object>"
                        ]
                    },
                    "metadata": {},
                    "output_type": "display_data"
                },
                {
                    "data": {
                        "text/html": [
                            "<code style='display:block; margin-top:-0.7em; font-family:Consolas,monospace'><b>Date:</b> Sun, 15 Dec 2024 15:00:18 GMT</code>"
                        ],
                        "text/plain": [
                            "<IPython.core.display.HTML object>"
                        ]
                    },
                    "metadata": {},
                    "output_type": "display_data"
                },
                {
                    "data": {
                        "text/html": [
                            "<code style='display:block; margin-top:-0.7em; font-family:Consolas,monospace'><b>Content-Type:</b> text/html; charset=utf-8</code>"
                        ],
                        "text/plain": [
                            "<IPython.core.display.HTML object>"
                        ]
                    },
                    "metadata": {},
                    "output_type": "display_data"
                },
                {
                    "data": {
                        "text/html": [
                            "<code style='display:block; margin-top:-0.7em; font-family:Consolas,monospace'><b>Transfer-Encoding:</b> chunked</code>"
                        ],
                        "text/plain": [
                            "<IPython.core.display.HTML object>"
                        ]
                    },
                    "metadata": {},
                    "output_type": "display_data"
                },
                {
                    "data": {
                        "text/html": [
                            "<code style='display:block; margin-top:-0.7em; font-family:Consolas,monospace'><b>Connection:</b> keep-alive</code>"
                        ],
                        "text/plain": [
                            "<IPython.core.display.HTML object>"
                        ]
                    },
                    "metadata": {},
                    "output_type": "display_data"
                },
                {
                    "data": {
                        "text/html": [
                            "<code style='display:block; margin-top:-0.7em; font-family:Consolas,monospace'><b>CF-Ray:</b> 8f274d6ed8d0e22f-MRS</code>"
                        ],
                        "text/plain": [
                            "<IPython.core.display.HTML object>"
                        ]
                    },
                    "metadata": {},
                    "output_type": "display_data"
                },
                {
                    "data": {
                        "text/html": [
                            "<code style='display:block; margin-top:-0.7em; font-family:Consolas,monospace'><b>CF-Cache-Status:</b> DYNAMIC</code>"
                        ],
                        "text/plain": [
                            "<IPython.core.display.HTML object>"
                        ]
                    },
                    "metadata": {},
                    "output_type": "display_data"
                },
                {
                    "data": {
                        "text/html": [
                            "<code style='display:block; margin-top:-0.7em; font-family:Consolas,monospace'><b>ETag:</b> W/\"fb-SKKKiMPWgg+yzCJb6qEFKbsBse8\"</code>"
                        ],
                        "text/plain": [
                            "<IPython.core.display.HTML object>"
                        ]
                    },
                    "metadata": {},
                    "output_type": "display_data"
                },
                {
                    "data": {
                        "text/html": [
                            "<code style='display:block; margin-top:-0.7em; font-family:Consolas,monospace'><b>Vary:</b> Accept-Encoding</code>"
                        ],
                        "text/plain": [
                            "<IPython.core.display.HTML object>"
                        ]
                    },
                    "metadata": {},
                    "output_type": "display_data"
                },
                {
                    "data": {
                        "text/html": [
                            "<code style='display:block; margin-top:-0.7em; font-family:Consolas,monospace'><b>WWW-Authenticate:</b> Digest realm=\"BE-HTTP\", nonce=\"5442e97a42cd97b515613fa33d5719b7\"</code>"
                        ],
                        "text/plain": [
                            "<IPython.core.display.HTML object>"
                        ]
                    },
                    "metadata": {},
                    "output_type": "display_data"
                },
                {
                    "data": {
                        "text/html": [
                            "<code style='display:block; margin-top:-0.7em; font-family:Consolas,monospace'><b>rndr-id:</b> a4ec7bae-d7af-4122</code>"
                        ],
                        "text/plain": [
                            "<IPython.core.display.HTML object>"
                        ]
                    },
                    "metadata": {},
                    "output_type": "display_data"
                },
                {
                    "data": {
                        "text/html": [
                            "<code style='display:block; margin-top:-0.7em; font-family:Consolas,monospace'><b>x-powered-by:</b> Express</code>"
                        ],
                        "text/plain": [
                            "<IPython.core.display.HTML object>"
                        ]
                    },
                    "metadata": {},
                    "output_type": "display_data"
                },
                {
                    "data": {
                        "text/html": [
                            "<code style='display:block; margin-top:-0.7em; font-family:Consolas,monospace'><b>x-render-origin-server:</b> Render</code>"
                        ],
                        "text/plain": [
                            "<IPython.core.display.HTML object>"
                        ]
                    },
                    "metadata": {},
                    "output_type": "display_data"
                },
                {
                    "data": {
                        "text/html": [
                            "<code style='display:block; margin-top:-0.7em; font-family:Consolas,monospace'><b>Server:</b> cloudflare</code>"
                        ],
                        "text/plain": [
                            "<IPython.core.display.HTML object>"
                        ]
                    },
                    "metadata": {},
                    "output_type": "display_data"
                },
                {
                    "data": {
                        "text/html": [
                            "<code style='display:block; margin-top:-0.7em; font-family:Consolas,monospace'><b>alt-svc:</b> h3=\":443\"; ma=86400</code>"
                        ],
                        "text/plain": [
                            "<IPython.core.display.HTML object>"
                        ]
                    },
                    "metadata": {},
                    "output_type": "display_data"
                },
                {
                    "data": {
                        "text/html": [
                            "<div style='padding:5px; border: 1px solid #ccc; border-radius:5px; box-shadow: 5px 5px 5px #ccc; margin:5px 0 10px 0; display: inline-block; min-width: 50%'><!DOCTYPE html>\r\n",
                            "<html lang=\"fr\">\r\n",
                            "<meta charset=\"utf-8\">\r\n",
                            "\r\n",
                            "<div style=\"font-family: Consolas,monospace\">\r\n",
                            "<h1 style=\"margin-top:0; padding:0.1em 0.5em;background-color:#060;color:white\">401 - Authorization Required</h1>\r\n",
                            "<p>Nonce incorrect\r\n",
                            "</div>\r\n",
                            "</div>"
                        ],
                        "text/plain": [
                            "<IPython.core.display.HTML object>"
                        ]
                    },
                    "metadata": {},
                    "output_type": "display_data"
                }
            ],
            "source": [
                "# Paramètres d'authentification avec nonce aribtaire\n",
                "username = \"be-http\"\n",
                "password = \"cool!\"\n",
                "realm = \"BE-HTTP\"\n",
                "uri = \"/digest.html\"\n",
                "method = \"GET\"\n",
                "nonce = \"12345678\"\n",
                "\n",
                "# 3. Calcul des hashes\n",
                "ha1 = hashlib.md5(f\"{username}:{realm}:{password}\".encode()).hexdigest()\n",
                "ha2 = hashlib.md5(f\"{method}:{uri}\".encode()).hexdigest()\n",
                "response = hashlib.md5(f\"{ha1}:{nonce}:{ha2}\".encode()).hexdigest()\n",
                "\n",
                "# 4. Construction de l'en-tête et requête finale\n",
                "auth_header = {\n",
                "    'Authorization': f'Digest username=\"{username}\", realm=\"{realm}\", '\n",
                "                    f'nonce=\"{nonce}\", uri=\"{uri}\", response=\"{response}\"'\n",
                "}\n",
                "\n",
                "# 5. Requête authentifiée\n",
                "https_request('GET', 'mod95-be3.onrender.com', '/digest.html', headers=auth_header)"
            ]
        },
        {
            "cell_type": "code",
            "execution_count": 31,
            "metadata": {
                "collapsed": false,
                "util.bundle": "correcteur"
            },
            "outputs": [
                {
                    "data": {
                        "text/html": [
                            "<code style='font-family:Consolas,monospace; display:block; margin-top: 5px; border-bottom:1px solid #ccc'><span style='font-weight:bold;color:#008'>401</span> - Unauthorized</code>"
                        ],
                        "text/plain": [
                            "<IPython.core.display.HTML object>"
                        ]
                    },
                    "metadata": {},
                    "output_type": "display_data"
                },
                {
                    "data": {
                        "text/html": [
                            "<code style='display:block; margin-top:-0.7em; font-family:Consolas,monospace'><b>Date:</b> Sun, 15 Dec 2024 15:00:18 GMT</code>"
                        ],
                        "text/plain": [
                            "<IPython.core.display.HTML object>"
                        ]
                    },
                    "metadata": {},
                    "output_type": "display_data"
                },
                {
                    "data": {
                        "text/html": [
                            "<code style='display:block; margin-top:-0.7em; font-family:Consolas,monospace'><b>Content-Type:</b> text/html; charset=utf-8</code>"
                        ],
                        "text/plain": [
                            "<IPython.core.display.HTML object>"
                        ]
                    },
                    "metadata": {},
                    "output_type": "display_data"
                },
                {
                    "data": {
                        "text/html": [
                            "<code style='display:block; margin-top:-0.7em; font-family:Consolas,monospace'><b>Transfer-Encoding:</b> chunked</code>"
                        ],
                        "text/plain": [
                            "<IPython.core.display.HTML object>"
                        ]
                    },
                    "metadata": {},
                    "output_type": "display_data"
                },
                {
                    "data": {
                        "text/html": [
                            "<code style='display:block; margin-top:-0.7em; font-family:Consolas,monospace'><b>Connection:</b> keep-alive</code>"
                        ],
                        "text/plain": [
                            "<IPython.core.display.HTML object>"
                        ]
                    },
                    "metadata": {},
                    "output_type": "display_data"
                },
                {
                    "data": {
                        "text/html": [
                            "<code style='display:block; margin-top:-0.7em; font-family:Consolas,monospace'><b>CF-Ray:</b> 8f274d70fa7ae197-MRS</code>"
                        ],
                        "text/plain": [
                            "<IPython.core.display.HTML object>"
                        ]
                    },
                    "metadata": {},
                    "output_type": "display_data"
                },
                {
                    "data": {
                        "text/html": [
                            "<code style='display:block; margin-top:-0.7em; font-family:Consolas,monospace'><b>CF-Cache-Status:</b> DYNAMIC</code>"
                        ],
                        "text/plain": [
                            "<IPython.core.display.HTML object>"
                        ]
                    },
                    "metadata": {},
                    "output_type": "display_data"
                },
                {
                    "data": {
                        "text/html": [
                            "<code style='display:block; margin-top:-0.7em; font-family:Consolas,monospace'><b>ETag:</b> W/\"113-HpCG+0UAHn1MqoW+tCCGcQRSb7k\"</code>"
                        ],
                        "text/plain": [
                            "<IPython.core.display.HTML object>"
                        ]
                    },
                    "metadata": {},
                    "output_type": "display_data"
                },
                {
                    "data": {
                        "text/html": [
                            "<code style='display:block; margin-top:-0.7em; font-family:Consolas,monospace'><b>Vary:</b> Accept-Encoding</code>"
                        ],
                        "text/plain": [
                            "<IPython.core.display.HTML object>"
                        ]
                    },
                    "metadata": {},
                    "output_type": "display_data"
                },
                {
                    "data": {
                        "text/html": [
                            "<code style='display:block; margin-top:-0.7em; font-family:Consolas,monospace'><b>WWW-Authenticate:</b> Digest realm=\"BE-HTTP\", nonce=\"d8b235b5a5651f76fdf83d1e29a314d4\"</code>"
                        ],
                        "text/plain": [
                            "<IPython.core.display.HTML object>"
                        ]
                    },
                    "metadata": {},
                    "output_type": "display_data"
                },
                {
                    "data": {
                        "text/html": [
                            "<code style='display:block; margin-top:-0.7em; font-family:Consolas,monospace'><b>rndr-id:</b> 33ce2d4b-4c5e-418c</code>"
                        ],
                        "text/plain": [
                            "<IPython.core.display.HTML object>"
                        ]
                    },
                    "metadata": {},
                    "output_type": "display_data"
                },
                {
                    "data": {
                        "text/html": [
                            "<code style='display:block; margin-top:-0.7em; font-family:Consolas,monospace'><b>x-powered-by:</b> Express</code>"
                        ],
                        "text/plain": [
                            "<IPython.core.display.HTML object>"
                        ]
                    },
                    "metadata": {},
                    "output_type": "display_data"
                },
                {
                    "data": {
                        "text/html": [
                            "<code style='display:block; margin-top:-0.7em; font-family:Consolas,monospace'><b>x-render-origin-server:</b> Render</code>"
                        ],
                        "text/plain": [
                            "<IPython.core.display.HTML object>"
                        ]
                    },
                    "metadata": {},
                    "output_type": "display_data"
                },
                {
                    "data": {
                        "text/html": [
                            "<code style='display:block; margin-top:-0.7em; font-family:Consolas,monospace'><b>Server:</b> cloudflare</code>"
                        ],
                        "text/plain": [
                            "<IPython.core.display.HTML object>"
                        ]
                    },
                    "metadata": {},
                    "output_type": "display_data"
                },
                {
                    "data": {
                        "text/html": [
                            "<code style='display:block; margin-top:-0.7em; font-family:Consolas,monospace'><b>alt-svc:</b> h3=\":443\"; ma=86400</code>"
                        ],
                        "text/plain": [
                            "<IPython.core.display.HTML object>"
                        ]
                    },
                    "metadata": {},
                    "output_type": "display_data"
                },
                {
                    "data": {
                        "text/html": [
                            "<div style='padding:5px; border: 1px solid #ccc; border-radius:5px; box-shadow: 5px 5px 5px #ccc; margin:5px 0 10px 0; display: inline-block; min-width: 50%'><!DOCTYPE html>\r\n",
                            "<html lang=\"fr\">\r\n",
                            "<meta charset=\"utf-8\">\r\n",
                            "\r\n",
                            "<div style=\"font-family: Consolas,monospace\">\r\n",
                            "<h1 style=\"margin-top:0; padding:0.1em 0.5em;background-color:#060;color:white\">401 - Authorization Required</h1>\r\n",
                            "<p>Durée de validité du nonce dépassée\r\n",
                            "</div>\r\n",
                            "</div>"
                        ],
                        "text/plain": [
                            "<IPython.core.display.HTML object>"
                        ]
                    },
                    "metadata": {},
                    "output_type": "display_data"
                }
            ],
            "source": [
                "# Paramètres d'authentification\n",
                "username = \"be-http\"\n",
                "password = \"cool!\"\n",
                "realm = \"BE-HTTP\"\n",
                "uri = \"/digest.html\"\n",
                "method = \"GET\"\n",
                "nonce = \"77c595f76d9361417689f0d57cce2817\"\n",
                "\n",
                "# 3. Calcul des hashes\n",
                "ha1 = hashlib.md5(f\"{username}:{realm}:{password}\".encode()).hexdigest()\n",
                "ha2 = hashlib.md5(f\"{method}:{uri}\".encode()).hexdigest()\n",
                "response = hashlib.md5(f\"{ha1}:{nonce}:{ha2}\".encode()).hexdigest()\n",
                "\n",
                "# 4. Construction de l'en-tête et requête finale\n",
                "auth_header = {\n",
                "    'Authorization': f'Digest username=\"{username}\", realm=\"{realm}\", '\n",
                "                    f'nonce=\"{nonce}\", uri=\"{uri}\", response=\"{response}\"'\n",
                "}\n",
                "\n",
                "# 5. Requête authentifiée\n",
                "https_request('GET', 'mod95-be3.onrender.com', '/digest.html', headers=auth_header)"
            ]
        },
        {
            "cell_type": "markdown",
            "metadata": {},
            "source": [
                "###  __[5.10]__ - Conclure sur la méthode Digest, avec ses avantages et ses inconvénients (s'il y en a), par rapport notamment à la méthode Basic."
            ]
        },
        {
            "cell_type": "markdown",
            "metadata": {},
            "source": [
                "Comparaison entre l'authentification Digest et Basic :\n",
                "\n",
                "**Avantages de Digest** :\n",
                "1. Plus sécurisée car :\n",
                "   - Le mot de passe n'est jamais transmis en clair\n",
                "   - Utilisation de hachage MD5 pour les credentials\n",
                "   - Le nonce empêche les attaques par rejeu\n",
                "   - Protection contre l'interception des credentials\n",
                "\n",
                "2. Meilleure gestion de session :\n",
                "   - Le nonce peut être utilisé comme mécanisme d'expiration\n",
                "   - Possibilité de forcer une nouvelle authentification\n",
                "\n",
                "**Inconvénients de Digest** :\n",
                "1. Plus complexe à implémenter :\n",
                "   - Nécessite plus de calculs côté client et serveur\n",
                "   - Protocole plus sophistiqué avec plusieurs étapes\n",
                "   - Plus de paramètres à gérer\n",
                "\n",
                "2. Limitations de sécurité :\n",
                "   - Utilise MD5, considéré comme obsolète\n",
                "   - Ne protège pas le contenu des communications\n",
                "   - Vulnérable aux attaques man-in-the-middle sans HTTPS"
            ]
        },
        {
            "cell_type": "markdown",
            "metadata": {},
            "source": [
                "## 6. Service REST"
            ]
        },
        {
            "cell_type": "markdown",
            "metadata": {},
            "source": [
                "\n",
                "<p>REST est un concept d'architecture permettant de développer des services web\n",
                "<a href=\"https://en.wikipedia.org/wiki/Representational_state_transfer#Relationship_between_URL_and_HTTP_methods\">basés sur les méthodes HTTP</a> pour créer, consulter, modifier ou supprimer des informations <em>(CRUD - Create, Read, Update, Delete)</em>.\n",
                "\n",
                "<p>Le service\n",
                "<a href=\"https://mod95-be3.onrender.com/todolist\">todolist</a> implémente ce type d'architecture, pour créer une TODO_list, lire son contenu, la modifier ou la supprimer. Les questions suivantes permettront de disséquer son fonctionnement."
            ]
        },
        {
            "cell_type": "markdown",
            "metadata": {},
            "source": [
                "###  __[6.1]__ - &Eacute;mettre une requête POST vers ce service et en déduire le type de contenu attendu pour créer une liste.\n",
                "</div>"
            ]
        },
        {
            "cell_type": "code",
            "execution_count": 32,
            "metadata": {
                "collapsed": false,
                "util.bundle": "correcteur"
            },
            "outputs": [
                {
                    "data": {
                        "text/html": [
                            "<code style='font-family:Consolas,monospace; display:block; margin-top: 5px; border-bottom:1px solid #ccc'><span style='font-weight:bold;color:#008'>415</span> - Unsupported Media Type</code>"
                        ],
                        "text/plain": [
                            "<IPython.core.display.HTML object>"
                        ]
                    },
                    "metadata": {},
                    "output_type": "display_data"
                },
                {
                    "data": {
                        "text/html": [
                            "<code style='display:block; margin-top:-0.7em; font-family:Consolas,monospace'><b>Date:</b> Sun, 15 Dec 2024 15:00:19 GMT</code>"
                        ],
                        "text/plain": [
                            "<IPython.core.display.HTML object>"
                        ]
                    },
                    "metadata": {},
                    "output_type": "display_data"
                },
                {
                    "data": {
                        "text/html": [
                            "<code style='display:block; margin-top:-0.7em; font-family:Consolas,monospace'><b>Content-Type:</b> text/html; charset=utf-8</code>"
                        ],
                        "text/plain": [
                            "<IPython.core.display.HTML object>"
                        ]
                    },
                    "metadata": {},
                    "output_type": "display_data"
                },
                {
                    "data": {
                        "text/html": [
                            "<code style='display:block; margin-top:-0.7em; font-family:Consolas,monospace'><b>Transfer-Encoding:</b> chunked</code>"
                        ],
                        "text/plain": [
                            "<IPython.core.display.HTML object>"
                        ]
                    },
                    "metadata": {},
                    "output_type": "display_data"
                },
                {
                    "data": {
                        "text/html": [
                            "<code style='display:block; margin-top:-0.7em; font-family:Consolas,monospace'><b>Connection:</b> keep-alive</code>"
                        ],
                        "text/plain": [
                            "<IPython.core.display.HTML object>"
                        ]
                    },
                    "metadata": {},
                    "output_type": "display_data"
                },
                {
                    "data": {
                        "text/html": [
                            "<code style='display:block; margin-top:-0.7em; font-family:Consolas,monospace'><b>CF-Ray:</b> 8f274d730da90dbf-MRS</code>"
                        ],
                        "text/plain": [
                            "<IPython.core.display.HTML object>"
                        ]
                    },
                    "metadata": {},
                    "output_type": "display_data"
                },
                {
                    "data": {
                        "text/html": [
                            "<code style='display:block; margin-top:-0.7em; font-family:Consolas,monospace'><b>CF-Cache-Status:</b> DYNAMIC</code>"
                        ],
                        "text/plain": [
                            "<IPython.core.display.HTML object>"
                        ]
                    },
                    "metadata": {},
                    "output_type": "display_data"
                },
                {
                    "data": {
                        "text/html": [
                            "<code style='display:block; margin-top:-0.7em; font-family:Consolas,monospace'><b>ETag:</b> W/\"14d-UtT6tZwoHAiRHkq9SZDpVbzj47A\"</code>"
                        ],
                        "text/plain": [
                            "<IPython.core.display.HTML object>"
                        ]
                    },
                    "metadata": {},
                    "output_type": "display_data"
                },
                {
                    "data": {
                        "text/html": [
                            "<code style='display:block; margin-top:-0.7em; font-family:Consolas,monospace'><b>Vary:</b> Accept-Encoding</code>"
                        ],
                        "text/plain": [
                            "<IPython.core.display.HTML object>"
                        ]
                    },
                    "metadata": {},
                    "output_type": "display_data"
                },
                {
                    "data": {
                        "text/html": [
                            "<code style='display:block; margin-top:-0.7em; font-family:Consolas,monospace'><b>rndr-id:</b> b1254007-391b-4160</code>"
                        ],
                        "text/plain": [
                            "<IPython.core.display.HTML object>"
                        ]
                    },
                    "metadata": {},
                    "output_type": "display_data"
                },
                {
                    "data": {
                        "text/html": [
                            "<code style='display:block; margin-top:-0.7em; font-family:Consolas,monospace'><b>x-powered-by:</b> Express</code>"
                        ],
                        "text/plain": [
                            "<IPython.core.display.HTML object>"
                        ]
                    },
                    "metadata": {},
                    "output_type": "display_data"
                },
                {
                    "data": {
                        "text/html": [
                            "<code style='display:block; margin-top:-0.7em; font-family:Consolas,monospace'><b>x-render-origin-server:</b> Render</code>"
                        ],
                        "text/plain": [
                            "<IPython.core.display.HTML object>"
                        ]
                    },
                    "metadata": {},
                    "output_type": "display_data"
                },
                {
                    "data": {
                        "text/html": [
                            "<code style='display:block; margin-top:-0.7em; font-family:Consolas,monospace'><b>Server:</b> cloudflare</code>"
                        ],
                        "text/plain": [
                            "<IPython.core.display.HTML object>"
                        ]
                    },
                    "metadata": {},
                    "output_type": "display_data"
                },
                {
                    "data": {
                        "text/html": [
                            "<code style='display:block; margin-top:-0.7em; font-family:Consolas,monospace'><b>alt-svc:</b> h3=\":443\"; ma=86400</code>"
                        ],
                        "text/plain": [
                            "<IPython.core.display.HTML object>"
                        ]
                    },
                    "metadata": {},
                    "output_type": "display_data"
                },
                {
                    "data": {
                        "text/html": [
                            "<div style='padding:5px; border: 1px solid #ccc; border-radius:5px; box-shadow: 5px 5px 5px #ccc; margin:5px 0 10px 0; display: inline-block; min-width: 50%'><!DOCTYPE html>\r\n",
                            "<html lang=\"fr\">\r\n",
                            "<meta charset=\"utf-8\">\r\n",
                            "\r\n",
                            "<div style=\"font-family: Consolas,monospace\">\r\n",
                            "<h1 style=\"margin-top:0; padding:0.1em 0.5em;background-color:#fa4;color:white\">415 : Unsupported Media Type</h1>\r\n",
                            "<p>Type de contenu non supporté ('application/x-www-form-urlencoded' ou 'application/json' attendu)\r\n",
                            "</div>\r\n",
                            "</div>"
                        ],
                        "text/plain": [
                            "<IPython.core.display.HTML object>"
                        ]
                    },
                    "metadata": {},
                    "output_type": "display_data"
                }
            ],
            "source": [
                "https_request('POST', 'mod95-be3.onrender.com', '/todolist')"
            ]
        },
        {
            "cell_type": "markdown",
            "metadata": {},
            "source": [
                "### __[6.2]__ - &Eacute;mettre une requête POST vers ce service avec le premier type de contenu supporté, et en déduire l'information manquante pour créer une liste.\n",
                "</div>"
            ]
        },
        {
            "cell_type": "code",
            "execution_count": 33,
            "metadata": {
                "collapsed": false,
                "util.bundle": "correcteur"
            },
            "outputs": [
                {
                    "data": {
                        "text/html": [
                            "<code style='font-family:Consolas,monospace; display:block; margin-top: 5px; border-bottom:1px solid #ccc'><span style='font-weight:bold;color:#008'>422</span> - Unprocessable Entity</code>"
                        ],
                        "text/plain": [
                            "<IPython.core.display.HTML object>"
                        ]
                    },
                    "metadata": {},
                    "output_type": "display_data"
                },
                {
                    "data": {
                        "text/html": [
                            "<code style='display:block; margin-top:-0.7em; font-family:Consolas,monospace'><b>Date:</b> Sun, 15 Dec 2024 15:00:19 GMT</code>"
                        ],
                        "text/plain": [
                            "<IPython.core.display.HTML object>"
                        ]
                    },
                    "metadata": {},
                    "output_type": "display_data"
                },
                {
                    "data": {
                        "text/html": [
                            "<code style='display:block; margin-top:-0.7em; font-family:Consolas,monospace'><b>Content-Type:</b> text/html; charset=utf-8</code>"
                        ],
                        "text/plain": [
                            "<IPython.core.display.HTML object>"
                        ]
                    },
                    "metadata": {},
                    "output_type": "display_data"
                },
                {
                    "data": {
                        "text/html": [
                            "<code style='display:block; margin-top:-0.7em; font-family:Consolas,monospace'><b>Transfer-Encoding:</b> chunked</code>"
                        ],
                        "text/plain": [
                            "<IPython.core.display.HTML object>"
                        ]
                    },
                    "metadata": {},
                    "output_type": "display_data"
                },
                {
                    "data": {
                        "text/html": [
                            "<code style='display:block; margin-top:-0.7em; font-family:Consolas,monospace'><b>Connection:</b> keep-alive</code>"
                        ],
                        "text/plain": [
                            "<IPython.core.display.HTML object>"
                        ]
                    },
                    "metadata": {},
                    "output_type": "display_data"
                },
                {
                    "data": {
                        "text/html": [
                            "<code style='display:block; margin-top:-0.7em; font-family:Consolas,monospace'><b>CF-Ray:</b> 8f274d7608b1e209-MRS</code>"
                        ],
                        "text/plain": [
                            "<IPython.core.display.HTML object>"
                        ]
                    },
                    "metadata": {},
                    "output_type": "display_data"
                },
                {
                    "data": {
                        "text/html": [
                            "<code style='display:block; margin-top:-0.7em; font-family:Consolas,monospace'><b>CF-Cache-Status:</b> DYNAMIC</code>"
                        ],
                        "text/plain": [
                            "<IPython.core.display.HTML object>"
                        ]
                    },
                    "metadata": {},
                    "output_type": "display_data"
                },
                {
                    "data": {
                        "text/html": [
                            "<code style='display:block; margin-top:-0.7em; font-family:Consolas,monospace'><b>ETag:</b> W/\"128-9I6sG2XMzAyVQASAK4zzq1Yf9+o\"</code>"
                        ],
                        "text/plain": [
                            "<IPython.core.display.HTML object>"
                        ]
                    },
                    "metadata": {},
                    "output_type": "display_data"
                },
                {
                    "data": {
                        "text/html": [
                            "<code style='display:block; margin-top:-0.7em; font-family:Consolas,monospace'><b>Vary:</b> Accept-Encoding</code>"
                        ],
                        "text/plain": [
                            "<IPython.core.display.HTML object>"
                        ]
                    },
                    "metadata": {},
                    "output_type": "display_data"
                },
                {
                    "data": {
                        "text/html": [
                            "<code style='display:block; margin-top:-0.7em; font-family:Consolas,monospace'><b>rndr-id:</b> c6fd8203-002b-4523</code>"
                        ],
                        "text/plain": [
                            "<IPython.core.display.HTML object>"
                        ]
                    },
                    "metadata": {},
                    "output_type": "display_data"
                },
                {
                    "data": {
                        "text/html": [
                            "<code style='display:block; margin-top:-0.7em; font-family:Consolas,monospace'><b>x-powered-by:</b> Express</code>"
                        ],
                        "text/plain": [
                            "<IPython.core.display.HTML object>"
                        ]
                    },
                    "metadata": {},
                    "output_type": "display_data"
                },
                {
                    "data": {
                        "text/html": [
                            "<code style='display:block; margin-top:-0.7em; font-family:Consolas,monospace'><b>x-render-origin-server:</b> Render</code>"
                        ],
                        "text/plain": [
                            "<IPython.core.display.HTML object>"
                        ]
                    },
                    "metadata": {},
                    "output_type": "display_data"
                },
                {
                    "data": {
                        "text/html": [
                            "<code style='display:block; margin-top:-0.7em; font-family:Consolas,monospace'><b>Server:</b> cloudflare</code>"
                        ],
                        "text/plain": [
                            "<IPython.core.display.HTML object>"
                        ]
                    },
                    "metadata": {},
                    "output_type": "display_data"
                },
                {
                    "data": {
                        "text/html": [
                            "<code style='display:block; margin-top:-0.7em; font-family:Consolas,monospace'><b>alt-svc:</b> h3=\":443\"; ma=86400</code>"
                        ],
                        "text/plain": [
                            "<IPython.core.display.HTML object>"
                        ]
                    },
                    "metadata": {},
                    "output_type": "display_data"
                },
                {
                    "data": {
                        "text/html": [
                            "<div style='padding:5px; border: 1px solid #ccc; border-radius:5px; box-shadow: 5px 5px 5px #ccc; margin:5px 0 10px 0; display: inline-block; min-width: 50%'><!DOCTYPE html>\r\n",
                            "<html lang=\"fr\">\r\n",
                            "<meta charset=\"utf-8\">\r\n",
                            "\r\n",
                            "<div style=\"font-family: Consolas,monospace\">\r\n",
                            "<h1 style=\"margin-top:0; padding:0.1em 0.5em;background-color:#ec0;color:white\">422 : Unprocessable Entity</h1>\r\n",
                            "<p>Impossible de traiter la requête, paramètre manquant : value\r\n",
                            "</div>\r\n",
                            "</div>"
                        ],
                        "text/plain": [
                            "<IPython.core.display.HTML object>"
                        ]
                    },
                    "metadata": {},
                    "output_type": "display_data"
                }
            ],
            "source": [
                "headers = {'Content-Type': 'application/x-www-form-urlencoded'}\n",
                "https_request('POST', 'mod95-be3.onrender.com', '/todolist', headers=headers)"
            ]
        },
        {
            "cell_type": "markdown",
            "metadata": {},
            "source": [
                "###  __[6.3]__ - Se documenter au sujet du premier type de contenu demandé, puis formuler une requête POST vers ce service avec les informations nécessaires formattées à l'aide de ce type de contenu pour créer une TODO_list comportant une tâche.\n"
            ]
        },
        {
            "cell_type": "code",
            "execution_count": 34,
            "metadata": {
                "collapsed": false,
                "util.bundle": "correcteur"
            },
            "outputs": [
                {
                    "data": {
                        "text/html": [
                            "<code style='font-family:Consolas,monospace; display:block; margin-top: 5px; border-bottom:1px solid #ccc'><span style='font-weight:bold;color:#008'>200</span> - OK</code>"
                        ],
                        "text/plain": [
                            "<IPython.core.display.HTML object>"
                        ]
                    },
                    "metadata": {},
                    "output_type": "display_data"
                },
                {
                    "data": {
                        "text/html": [
                            "<code style='display:block; margin-top:-0.7em; font-family:Consolas,monospace'><b>Date:</b> Sun, 15 Dec 2024 15:00:19 GMT</code>"
                        ],
                        "text/plain": [
                            "<IPython.core.display.HTML object>"
                        ]
                    },
                    "metadata": {},
                    "output_type": "display_data"
                },
                {
                    "data": {
                        "text/html": [
                            "<code style='display:block; margin-top:-0.7em; font-family:Consolas,monospace'><b>Content-Type:</b> application/json; charset=utf-8</code>"
                        ],
                        "text/plain": [
                            "<IPython.core.display.HTML object>"
                        ]
                    },
                    "metadata": {},
                    "output_type": "display_data"
                },
                {
                    "data": {
                        "text/html": [
                            "<code style='display:block; margin-top:-0.7em; font-family:Consolas,monospace'><b>Transfer-Encoding:</b> chunked</code>"
                        ],
                        "text/plain": [
                            "<IPython.core.display.HTML object>"
                        ]
                    },
                    "metadata": {},
                    "output_type": "display_data"
                },
                {
                    "data": {
                        "text/html": [
                            "<code style='display:block; margin-top:-0.7em; font-family:Consolas,monospace'><b>Connection:</b> keep-alive</code>"
                        ],
                        "text/plain": [
                            "<IPython.core.display.HTML object>"
                        ]
                    },
                    "metadata": {},
                    "output_type": "display_data"
                },
                {
                    "data": {
                        "text/html": [
                            "<code style='display:block; margin-top:-0.7em; font-family:Consolas,monospace'><b>CF-Ray:</b> 8f274d782adae1af-MRS</code>"
                        ],
                        "text/plain": [
                            "<IPython.core.display.HTML object>"
                        ]
                    },
                    "metadata": {},
                    "output_type": "display_data"
                },
                {
                    "data": {
                        "text/html": [
                            "<code style='display:block; margin-top:-0.7em; font-family:Consolas,monospace'><b>CF-Cache-Status:</b> DYNAMIC</code>"
                        ],
                        "text/plain": [
                            "<IPython.core.display.HTML object>"
                        ]
                    },
                    "metadata": {},
                    "output_type": "display_data"
                },
                {
                    "data": {
                        "text/html": [
                            "<code style='display:block; margin-top:-0.7em; font-family:Consolas,monospace'><b>Vary:</b> Accept-Encoding</code>"
                        ],
                        "text/plain": [
                            "<IPython.core.display.HTML object>"
                        ]
                    },
                    "metadata": {},
                    "output_type": "display_data"
                },
                {
                    "data": {
                        "text/html": [
                            "<code style='display:block; margin-top:-0.7em; font-family:Consolas,monospace'><b>rndr-id:</b> c070a5d9-53cd-4c43</code>"
                        ],
                        "text/plain": [
                            "<IPython.core.display.HTML object>"
                        ]
                    },
                    "metadata": {},
                    "output_type": "display_data"
                },
                {
                    "data": {
                        "text/html": [
                            "<code style='display:block; margin-top:-0.7em; font-family:Consolas,monospace'><b>x-powered-by:</b> Express</code>"
                        ],
                        "text/plain": [
                            "<IPython.core.display.HTML object>"
                        ]
                    },
                    "metadata": {},
                    "output_type": "display_data"
                },
                {
                    "data": {
                        "text/html": [
                            "<code style='display:block; margin-top:-0.7em; font-family:Consolas,monospace'><b>x-render-origin-server:</b> Render</code>"
                        ],
                        "text/plain": [
                            "<IPython.core.display.HTML object>"
                        ]
                    },
                    "metadata": {},
                    "output_type": "display_data"
                },
                {
                    "data": {
                        "text/html": [
                            "<code style='display:block; margin-top:-0.7em; font-family:Consolas,monospace'><b>Server:</b> cloudflare</code>"
                        ],
                        "text/plain": [
                            "<IPython.core.display.HTML object>"
                        ]
                    },
                    "metadata": {},
                    "output_type": "display_data"
                },
                {
                    "data": {
                        "text/html": [
                            "<code style='display:block; margin-top:-0.7em; font-family:Consolas,monospace'><b>alt-svc:</b> h3=\":443\"; ma=86400</code>"
                        ],
                        "text/plain": [
                            "<IPython.core.display.HTML object>"
                        ]
                    },
                    "metadata": {},
                    "output_type": "display_data"
                },
                {
                    "data": {
                        "text/html": [
                            "<pre style='font-family:Consolas,monospace; padding:5px; border: 1px solid #ccc; border-radius:5px; box-shadow: 5px 5px 5px #ccc; margin:5px 0 10px 0; display: inline-block; min-width: 50%'>{\"name\":\"list-1734274819902\",\"data\":[\"Finir le BE3 de Reseaux\"]}</pre>"
                        ],
                        "text/plain": [
                            "<IPython.core.display.HTML object>"
                        ]
                    },
                    "metadata": {},
                    "output_type": "display_data"
                }
            ],
            "source": [
                "# Création de l'en-tête avec Content-Type: application/x-www-form-urlencoded\n",
                "headers = {'Content-Type': 'application/x-www-form-urlencoded'}\n",
                "\n",
                "# Création des données au format form-urlencoded avec le paramètre value\n",
                "data = 'value=Finir le BE3 de Reseaux'\n",
                "\n",
                "# Requête POST avec les données encodées\n",
                "https_request('POST', \n",
                "                        'mod95-be3.onrender.com', \n",
                "                        '/todolist',\n",
                "                        headers=headers,\n",
                "                        body=data)\n",
                "\n"
            ]
        },
        {
            "cell_type": "markdown",
            "metadata": {},
            "source": [
                "###  __[6.4]__ - Essayer avec la tâche \"Acheter du café\". Sauf exception, il y aura un problème avec les caractères accentués.\n",
                "Plutôt que de bricoler à la main pour résoudre le problème, consulter la documentation de\n",
                "<a href=\"https://docs.python.org/3/library/urllib.parse.html#urllib.parse.urlencode\">urllib.parse.urlencode</a> et\n",
                "reformuler une requête permettant de créer une tâche dont le libellé comporte des caractères accentués. Indiquer comment ces caractères sont encodés."
            ]
        },
        {
            "cell_type": "code",
            "execution_count": 35,
            "metadata": {
                "collapsed": false,
                "util.bundle": "correcteur"
            },
            "outputs": [
                {
                    "data": {
                        "text/html": [
                            "<code style='font-family:Consolas,monospace; display:block; margin-top: 5px; border-bottom:1px solid #ccc'><span style='font-weight:bold;color:#008'>200</span> - OK</code>"
                        ],
                        "text/plain": [
                            "<IPython.core.display.HTML object>"
                        ]
                    },
                    "metadata": {},
                    "output_type": "display_data"
                },
                {
                    "data": {
                        "text/html": [
                            "<code style='display:block; margin-top:-0.7em; font-family:Consolas,monospace'><b>Date:</b> Sun, 15 Dec 2024 15:00:20 GMT</code>"
                        ],
                        "text/plain": [
                            "<IPython.core.display.HTML object>"
                        ]
                    },
                    "metadata": {},
                    "output_type": "display_data"
                },
                {
                    "data": {
                        "text/html": [
                            "<code style='display:block; margin-top:-0.7em; font-family:Consolas,monospace'><b>Content-Type:</b> application/json; charset=utf-8</code>"
                        ],
                        "text/plain": [
                            "<IPython.core.display.HTML object>"
                        ]
                    },
                    "metadata": {},
                    "output_type": "display_data"
                },
                {
                    "data": {
                        "text/html": [
                            "<code style='display:block; margin-top:-0.7em; font-family:Consolas,monospace'><b>Transfer-Encoding:</b> chunked</code>"
                        ],
                        "text/plain": [
                            "<IPython.core.display.HTML object>"
                        ]
                    },
                    "metadata": {},
                    "output_type": "display_data"
                },
                {
                    "data": {
                        "text/html": [
                            "<code style='display:block; margin-top:-0.7em; font-family:Consolas,monospace'><b>Connection:</b> keep-alive</code>"
                        ],
                        "text/plain": [
                            "<IPython.core.display.HTML object>"
                        ]
                    },
                    "metadata": {},
                    "output_type": "display_data"
                },
                {
                    "data": {
                        "text/html": [
                            "<code style='display:block; margin-top:-0.7em; font-family:Consolas,monospace'><b>CF-Ray:</b> 8f274d7a6cfae1c0-MRS</code>"
                        ],
                        "text/plain": [
                            "<IPython.core.display.HTML object>"
                        ]
                    },
                    "metadata": {},
                    "output_type": "display_data"
                },
                {
                    "data": {
                        "text/html": [
                            "<code style='display:block; margin-top:-0.7em; font-family:Consolas,monospace'><b>CF-Cache-Status:</b> DYNAMIC</code>"
                        ],
                        "text/plain": [
                            "<IPython.core.display.HTML object>"
                        ]
                    },
                    "metadata": {},
                    "output_type": "display_data"
                },
                {
                    "data": {
                        "text/html": [
                            "<code style='display:block; margin-top:-0.7em; font-family:Consolas,monospace'><b>Vary:</b> Accept-Encoding</code>"
                        ],
                        "text/plain": [
                            "<IPython.core.display.HTML object>"
                        ]
                    },
                    "metadata": {},
                    "output_type": "display_data"
                },
                {
                    "data": {
                        "text/html": [
                            "<code style='display:block; margin-top:-0.7em; font-family:Consolas,monospace'><b>rndr-id:</b> 1b5b83b6-97ac-43e9</code>"
                        ],
                        "text/plain": [
                            "<IPython.core.display.HTML object>"
                        ]
                    },
                    "metadata": {},
                    "output_type": "display_data"
                },
                {
                    "data": {
                        "text/html": [
                            "<code style='display:block; margin-top:-0.7em; font-family:Consolas,monospace'><b>x-powered-by:</b> Express</code>"
                        ],
                        "text/plain": [
                            "<IPython.core.display.HTML object>"
                        ]
                    },
                    "metadata": {},
                    "output_type": "display_data"
                },
                {
                    "data": {
                        "text/html": [
                            "<code style='display:block; margin-top:-0.7em; font-family:Consolas,monospace'><b>x-render-origin-server:</b> Render</code>"
                        ],
                        "text/plain": [
                            "<IPython.core.display.HTML object>"
                        ]
                    },
                    "metadata": {},
                    "output_type": "display_data"
                },
                {
                    "data": {
                        "text/html": [
                            "<code style='display:block; margin-top:-0.7em; font-family:Consolas,monospace'><b>Server:</b> cloudflare</code>"
                        ],
                        "text/plain": [
                            "<IPython.core.display.HTML object>"
                        ]
                    },
                    "metadata": {},
                    "output_type": "display_data"
                },
                {
                    "data": {
                        "text/html": [
                            "<code style='display:block; margin-top:-0.7em; font-family:Consolas,monospace'><b>alt-svc:</b> h3=\":443\"; ma=86400</code>"
                        ],
                        "text/plain": [
                            "<IPython.core.display.HTML object>"
                        ]
                    },
                    "metadata": {},
                    "output_type": "display_data"
                },
                {
                    "data": {
                        "text/html": [
                            "<pre style='font-family:Consolas,monospace; padding:5px; border: 1px solid #ccc; border-radius:5px; box-shadow: 5px 5px 5px #ccc; margin:5px 0 10px 0; display: inline-block; min-width: 50%'>{\"name\":\"list-1734274820263\",\"data\":[\"Acheter du caf�\"]}</pre>"
                        ],
                        "text/plain": [
                            "<IPython.core.display.HTML object>"
                        ]
                    },
                    "metadata": {},
                    "output_type": "display_data"
                }
            ],
            "source": [
                "# Création des données avec une liste de tâches\n",
                "data = 'value=Acheter du café'\n",
                "\n",
                "\n",
                "# Création de l'en-tête\n",
                "headers = {'Content-Type': 'application/x-www-form-urlencoded'}\n",
                "\n",
                "# Requête POST avec les données encodées\n",
                "https_request('POST', \n",
                "                'mod95-be3.onrender.com', \n",
                "                '/todolist',\n",
                "                headers=headers,\n",
                "                body=data)\n"
            ]
        },
        {
            "cell_type": "code",
            "execution_count": 36,
            "metadata": {
                "collapsed": false,
                "util.bundle": "correcteur"
            },
            "outputs": [
                {
                    "data": {
                        "text/html": [
                            "<code style='font-family:Consolas,monospace; display:block; margin-top: 5px; border-bottom:1px solid #ccc'><span style='font-weight:bold;color:#008'>200</span> - OK</code>"
                        ],
                        "text/plain": [
                            "<IPython.core.display.HTML object>"
                        ]
                    },
                    "metadata": {},
                    "output_type": "display_data"
                },
                {
                    "data": {
                        "text/html": [
                            "<code style='display:block; margin-top:-0.7em; font-family:Consolas,monospace'><b>Date:</b> Sun, 15 Dec 2024 15:00:20 GMT</code>"
                        ],
                        "text/plain": [
                            "<IPython.core.display.HTML object>"
                        ]
                    },
                    "metadata": {},
                    "output_type": "display_data"
                },
                {
                    "data": {
                        "text/html": [
                            "<code style='display:block; margin-top:-0.7em; font-family:Consolas,monospace'><b>Content-Type:</b> application/json; charset=utf-8</code>"
                        ],
                        "text/plain": [
                            "<IPython.core.display.HTML object>"
                        ]
                    },
                    "metadata": {},
                    "output_type": "display_data"
                },
                {
                    "data": {
                        "text/html": [
                            "<code style='display:block; margin-top:-0.7em; font-family:Consolas,monospace'><b>Transfer-Encoding:</b> chunked</code>"
                        ],
                        "text/plain": [
                            "<IPython.core.display.HTML object>"
                        ]
                    },
                    "metadata": {},
                    "output_type": "display_data"
                },
                {
                    "data": {
                        "text/html": [
                            "<code style='display:block; margin-top:-0.7em; font-family:Consolas,monospace'><b>Connection:</b> keep-alive</code>"
                        ],
                        "text/plain": [
                            "<IPython.core.display.HTML object>"
                        ]
                    },
                    "metadata": {},
                    "output_type": "display_data"
                },
                {
                    "data": {
                        "text/html": [
                            "<code style='display:block; margin-top:-0.7em; font-family:Consolas,monospace'><b>CF-Ray:</b> 8f274d7cce4de286-MRS</code>"
                        ],
                        "text/plain": [
                            "<IPython.core.display.HTML object>"
                        ]
                    },
                    "metadata": {},
                    "output_type": "display_data"
                },
                {
                    "data": {
                        "text/html": [
                            "<code style='display:block; margin-top:-0.7em; font-family:Consolas,monospace'><b>CF-Cache-Status:</b> DYNAMIC</code>"
                        ],
                        "text/plain": [
                            "<IPython.core.display.HTML object>"
                        ]
                    },
                    "metadata": {},
                    "output_type": "display_data"
                },
                {
                    "data": {
                        "text/html": [
                            "<code style='display:block; margin-top:-0.7em; font-family:Consolas,monospace'><b>Vary:</b> Accept-Encoding</code>"
                        ],
                        "text/plain": [
                            "<IPython.core.display.HTML object>"
                        ]
                    },
                    "metadata": {},
                    "output_type": "display_data"
                },
                {
                    "data": {
                        "text/html": [
                            "<code style='display:block; margin-top:-0.7em; font-family:Consolas,monospace'><b>rndr-id:</b> 4d03204c-507f-4f82</code>"
                        ],
                        "text/plain": [
                            "<IPython.core.display.HTML object>"
                        ]
                    },
                    "metadata": {},
                    "output_type": "display_data"
                },
                {
                    "data": {
                        "text/html": [
                            "<code style='display:block; margin-top:-0.7em; font-family:Consolas,monospace'><b>x-powered-by:</b> Express</code>"
                        ],
                        "text/plain": [
                            "<IPython.core.display.HTML object>"
                        ]
                    },
                    "metadata": {},
                    "output_type": "display_data"
                },
                {
                    "data": {
                        "text/html": [
                            "<code style='display:block; margin-top:-0.7em; font-family:Consolas,monospace'><b>x-render-origin-server:</b> Render</code>"
                        ],
                        "text/plain": [
                            "<IPython.core.display.HTML object>"
                        ]
                    },
                    "metadata": {},
                    "output_type": "display_data"
                },
                {
                    "data": {
                        "text/html": [
                            "<code style='display:block; margin-top:-0.7em; font-family:Consolas,monospace'><b>Server:</b> cloudflare</code>"
                        ],
                        "text/plain": [
                            "<IPython.core.display.HTML object>"
                        ]
                    },
                    "metadata": {},
                    "output_type": "display_data"
                },
                {
                    "data": {
                        "text/html": [
                            "<code style='display:block; margin-top:-0.7em; font-family:Consolas,monospace'><b>alt-svc:</b> h3=\":443\"; ma=86400</code>"
                        ],
                        "text/plain": [
                            "<IPython.core.display.HTML object>"
                        ]
                    },
                    "metadata": {},
                    "output_type": "display_data"
                },
                {
                    "data": {
                        "text/html": [
                            "<pre style='font-family:Consolas,monospace; padding:5px; border: 1px solid #ccc; border-radius:5px; box-shadow: 5px 5px 5px #ccc; margin:5px 0 10px 0; display: inline-block; min-width: 50%'>{\"name\":\"list-1734274820642\",\"data\":[\"Acheter du café\"]}</pre>"
                        ],
                        "text/plain": [
                            "<IPython.core.display.HTML object>"
                        ]
                    },
                    "metadata": {},
                    "output_type": "display_data"
                }
            ],
            "source": [
                "from urllib.parse import urlencode\n",
                "\n",
                "# Création des données avec une liste de tâches\n",
                "data = {\n",
                "    'value': 'Acheter du café'\n",
                "}\n",
                "\n",
                "\n",
                "encoded_data = urlencode(data, doseq=True)  # doseq=True permet d'encoder les séquences\n",
                "\n",
                "# Création de l'en-tête\n",
                "headers = {'Content-Type': 'application/x-www-form-urlencoded'}\n",
                "\n",
                "# Requête POST avec les données encodées\n",
                "https_request('POST', \n",
                "                'mod95-be3.onrender.com', \n",
                "                '/todolist',\n",
                "                headers=headers,\n",
                "                body=encoded_data)\n"
            ]
        },
        {
            "cell_type": "markdown",
            "metadata": {},
            "source": [
                "#### Mécanisme d'encodage\n",
                "Les caractères accentués nécessitent un encodage spécial pour être transmis correctement dans les URLs et les requêtes HTTP. La fonction `urlencode` de Python gère automatiquement cet encodage.\n",
                "\n",
                "#### Exemple détaillé avec le caractère 'é'\n",
                "- **Représentation UTF-8** : Le 'é' est codé sur 2 octets : `C3 A9`\n",
                "- **Encodage URL** : Chaque octet est préfixé par '%' : `%C3%A9`\n",
                "\n",
                "#### Exemple complet\n",
                "- **Texte original** : `Acheter du café`\n",
                "- **Texte encodé** : `Acheter+du+caf%C3%A9`\n",
                "  - Les espaces deviennent des `+`\n",
                "  - Le 'é' devient `%C3%A9`\n",
                "\n",
                "#### Pourquoi utiliser `urlencode` ?\n",
                "1. **Automatisation** : Gestion automatique de tous les caractères spéciaux\n",
                "2. **Standardisation** : Respect des normes d'encodage URL\n",
                "3. **Fiabilité** : Évite les erreurs d'encodage manuel\n",
                "4. **Compatibilité** : Fonctionne avec tous les serveurs web standards"
            ]
        },
        {
            "cell_type": "markdown",
            "metadata": {},
            "source": [
                "### __[6.5]__ - De fait, le service utilisé permet de créer une TODO_list avec plusieurs tâches. Relire la documentation de <a href=\"https://docs.python.org/3/library/urllib.parse.html#urllib.parse.urlencode\">urllib.parse.urlencode</a> pour découvrir comment spécifier une variable dont la valeur est une liste, puis créer une TODO_list comportant plusieurs tâches.\n",
                "</div>"
            ]
        },
        {
            "cell_type": "code",
            "execution_count": 37,
            "metadata": {
                "collapsed": false,
                "util.bundle": "correcteur"
            },
            "outputs": [
                {
                    "data": {
                        "text/html": [
                            "<code style='font-family:Consolas,monospace; display:block; margin-top: 5px; border-bottom:1px solid #ccc'><span style='font-weight:bold;color:#008'>200</span> - OK</code>"
                        ],
                        "text/plain": [
                            "<IPython.core.display.HTML object>"
                        ]
                    },
                    "metadata": {},
                    "output_type": "display_data"
                },
                {
                    "data": {
                        "text/html": [
                            "<code style='display:block; margin-top:-0.7em; font-family:Consolas,monospace'><b>Date:</b> Sun, 15 Dec 2024 15:00:21 GMT</code>"
                        ],
                        "text/plain": [
                            "<IPython.core.display.HTML object>"
                        ]
                    },
                    "metadata": {},
                    "output_type": "display_data"
                },
                {
                    "data": {
                        "text/html": [
                            "<code style='display:block; margin-top:-0.7em; font-family:Consolas,monospace'><b>Content-Type:</b> application/json; charset=utf-8</code>"
                        ],
                        "text/plain": [
                            "<IPython.core.display.HTML object>"
                        ]
                    },
                    "metadata": {},
                    "output_type": "display_data"
                },
                {
                    "data": {
                        "text/html": [
                            "<code style='display:block; margin-top:-0.7em; font-family:Consolas,monospace'><b>Transfer-Encoding:</b> chunked</code>"
                        ],
                        "text/plain": [
                            "<IPython.core.display.HTML object>"
                        ]
                    },
                    "metadata": {},
                    "output_type": "display_data"
                },
                {
                    "data": {
                        "text/html": [
                            "<code style='display:block; margin-top:-0.7em; font-family:Consolas,monospace'><b>Connection:</b> keep-alive</code>"
                        ],
                        "text/plain": [
                            "<IPython.core.display.HTML object>"
                        ]
                    },
                    "metadata": {},
                    "output_type": "display_data"
                },
                {
                    "data": {
                        "text/html": [
                            "<code style='display:block; margin-top:-0.7em; font-family:Consolas,monospace'><b>CF-Ray:</b> 8f274d7f5832e1d1-MRS</code>"
                        ],
                        "text/plain": [
                            "<IPython.core.display.HTML object>"
                        ]
                    },
                    "metadata": {},
                    "output_type": "display_data"
                },
                {
                    "data": {
                        "text/html": [
                            "<code style='display:block; margin-top:-0.7em; font-family:Consolas,monospace'><b>CF-Cache-Status:</b> DYNAMIC</code>"
                        ],
                        "text/plain": [
                            "<IPython.core.display.HTML object>"
                        ]
                    },
                    "metadata": {},
                    "output_type": "display_data"
                },
                {
                    "data": {
                        "text/html": [
                            "<code style='display:block; margin-top:-0.7em; font-family:Consolas,monospace'><b>Vary:</b> Accept-Encoding</code>"
                        ],
                        "text/plain": [
                            "<IPython.core.display.HTML object>"
                        ]
                    },
                    "metadata": {},
                    "output_type": "display_data"
                },
                {
                    "data": {
                        "text/html": [
                            "<code style='display:block; margin-top:-0.7em; font-family:Consolas,monospace'><b>rndr-id:</b> 2ccc0e0a-8b6b-4746</code>"
                        ],
                        "text/plain": [
                            "<IPython.core.display.HTML object>"
                        ]
                    },
                    "metadata": {},
                    "output_type": "display_data"
                },
                {
                    "data": {
                        "text/html": [
                            "<code style='display:block; margin-top:-0.7em; font-family:Consolas,monospace'><b>x-powered-by:</b> Express</code>"
                        ],
                        "text/plain": [
                            "<IPython.core.display.HTML object>"
                        ]
                    },
                    "metadata": {},
                    "output_type": "display_data"
                },
                {
                    "data": {
                        "text/html": [
                            "<code style='display:block; margin-top:-0.7em; font-family:Consolas,monospace'><b>x-render-origin-server:</b> Render</code>"
                        ],
                        "text/plain": [
                            "<IPython.core.display.HTML object>"
                        ]
                    },
                    "metadata": {},
                    "output_type": "display_data"
                },
                {
                    "data": {
                        "text/html": [
                            "<code style='display:block; margin-top:-0.7em; font-family:Consolas,monospace'><b>Server:</b> cloudflare</code>"
                        ],
                        "text/plain": [
                            "<IPython.core.display.HTML object>"
                        ]
                    },
                    "metadata": {},
                    "output_type": "display_data"
                },
                {
                    "data": {
                        "text/html": [
                            "<code style='display:block; margin-top:-0.7em; font-family:Consolas,monospace'><b>alt-svc:</b> h3=\":443\"; ma=86400</code>"
                        ],
                        "text/plain": [
                            "<IPython.core.display.HTML object>"
                        ]
                    },
                    "metadata": {},
                    "output_type": "display_data"
                },
                {
                    "data": {
                        "text/html": [
                            "<pre style='font-family:Consolas,monospace; padding:5px; border: 1px solid #ccc; border-radius:5px; box-shadow: 5px 5px 5px #ccc; margin:5px 0 10px 0; display: inline-block; min-width: 50%'>{\"name\":\"list-1734274821047\",\"data\":[\"Finir le BE3 de Réseaux\",\"Réviser pour les partiels\",\"Faire les courses\"]}</pre>"
                        ],
                        "text/plain": [
                            "<IPython.core.display.HTML object>"
                        ]
                    },
                    "metadata": {},
                    "output_type": "display_data"
                }
            ],
            "source": [
                "\n",
                "# Création des données avec une liste de tâches\n",
                "data = {\n",
                "    'value': [\n",
                "        'Finir le BE3 de Réseaux',\n",
                "        'Réviser pour les partiels',\n",
                "        'Faire les courses'\n",
                "    ]\n",
                "}\n",
                "\n",
                "encoded_data = urlencode(data, doseq=True)  # doseq=True permet d'encoder les séquences\n",
                "\n",
                "# Création de l'en-tête\n",
                "headers = {'Content-Type': 'application/x-www-form-urlencoded'}\n",
                "\n",
                "# Requête POST avec les données encodées\n",
                "https_request('POST', \n",
                "                'mod95-be3.onrender.com', \n",
                "                '/todolist',\n",
                "                headers=headers,\n",
                "                body=encoded_data)\n"
            ]
        },
        {
            "cell_type": "markdown",
            "metadata": {},
            "source": [
                "### __[6.6]__ - Le service utilisé accepte également les requêtes au format  <a href=\"https://www.json.org/\">JSON</a>. Utiliser le module <a href=\"https://docs.python.org/3/library/json.html\">json</a> pour émettre une requête avec un corps en JSON permettant de créer une TODO_list comportant une ou plusieurs tâches. Ne pas pas oublier de tester des tâches comportant des caractères accentués.\n"
            ]
        },
        {
            "cell_type": "code",
            "execution_count": 48,
            "metadata": {
                "collapsed": false,
                "util.bundle": "correcteur"
            },
            "outputs": [
                {
                    "data": {
                        "text/html": [
                            "<code style='font-family:Consolas,monospace; display:block; margin-top: 5px; border-bottom:1px solid #ccc'><span style='font-weight:bold;color:#008'>200</span> - OK</code>"
                        ],
                        "text/plain": [
                            "<IPython.core.display.HTML object>"
                        ]
                    },
                    "metadata": {},
                    "output_type": "display_data"
                },
                {
                    "data": {
                        "text/html": [
                            "<code style='display:block; margin-top:-0.7em; font-family:Consolas,monospace'><b>Date:</b> Sun, 15 Dec 2024 15:01:38 GMT</code>"
                        ],
                        "text/plain": [
                            "<IPython.core.display.HTML object>"
                        ]
                    },
                    "metadata": {},
                    "output_type": "display_data"
                },
                {
                    "data": {
                        "text/html": [
                            "<code style='display:block; margin-top:-0.7em; font-family:Consolas,monospace'><b>Content-Type:</b> application/json; charset=utf-8</code>"
                        ],
                        "text/plain": [
                            "<IPython.core.display.HTML object>"
                        ]
                    },
                    "metadata": {},
                    "output_type": "display_data"
                },
                {
                    "data": {
                        "text/html": [
                            "<code style='display:block; margin-top:-0.7em; font-family:Consolas,monospace'><b>Transfer-Encoding:</b> chunked</code>"
                        ],
                        "text/plain": [
                            "<IPython.core.display.HTML object>"
                        ]
                    },
                    "metadata": {},
                    "output_type": "display_data"
                },
                {
                    "data": {
                        "text/html": [
                            "<code style='display:block; margin-top:-0.7em; font-family:Consolas,monospace'><b>Connection:</b> keep-alive</code>"
                        ],
                        "text/plain": [
                            "<IPython.core.display.HTML object>"
                        ]
                    },
                    "metadata": {},
                    "output_type": "display_data"
                },
                {
                    "data": {
                        "text/html": [
                            "<code style='display:block; margin-top:-0.7em; font-family:Consolas,monospace'><b>CF-Ray:</b> 8f274f6528f30dae-MRS</code>"
                        ],
                        "text/plain": [
                            "<IPython.core.display.HTML object>"
                        ]
                    },
                    "metadata": {},
                    "output_type": "display_data"
                },
                {
                    "data": {
                        "text/html": [
                            "<code style='display:block; margin-top:-0.7em; font-family:Consolas,monospace'><b>CF-Cache-Status:</b> DYNAMIC</code>"
                        ],
                        "text/plain": [
                            "<IPython.core.display.HTML object>"
                        ]
                    },
                    "metadata": {},
                    "output_type": "display_data"
                },
                {
                    "data": {
                        "text/html": [
                            "<code style='display:block; margin-top:-0.7em; font-family:Consolas,monospace'><b>Vary:</b> Accept-Encoding</code>"
                        ],
                        "text/plain": [
                            "<IPython.core.display.HTML object>"
                        ]
                    },
                    "metadata": {},
                    "output_type": "display_data"
                },
                {
                    "data": {
                        "text/html": [
                            "<code style='display:block; margin-top:-0.7em; font-family:Consolas,monospace'><b>rndr-id:</b> 2be739c0-1ced-4997</code>"
                        ],
                        "text/plain": [
                            "<IPython.core.display.HTML object>"
                        ]
                    },
                    "metadata": {},
                    "output_type": "display_data"
                },
                {
                    "data": {
                        "text/html": [
                            "<code style='display:block; margin-top:-0.7em; font-family:Consolas,monospace'><b>x-powered-by:</b> Express</code>"
                        ],
                        "text/plain": [
                            "<IPython.core.display.HTML object>"
                        ]
                    },
                    "metadata": {},
                    "output_type": "display_data"
                },
                {
                    "data": {
                        "text/html": [
                            "<code style='display:block; margin-top:-0.7em; font-family:Consolas,monospace'><b>x-render-origin-server:</b> Render</code>"
                        ],
                        "text/plain": [
                            "<IPython.core.display.HTML object>"
                        ]
                    },
                    "metadata": {},
                    "output_type": "display_data"
                },
                {
                    "data": {
                        "text/html": [
                            "<code style='display:block; margin-top:-0.7em; font-family:Consolas,monospace'><b>Server:</b> cloudflare</code>"
                        ],
                        "text/plain": [
                            "<IPython.core.display.HTML object>"
                        ]
                    },
                    "metadata": {},
                    "output_type": "display_data"
                },
                {
                    "data": {
                        "text/html": [
                            "<code style='display:block; margin-top:-0.7em; font-family:Consolas,monospace'><b>alt-svc:</b> h3=\":443\"; ma=86400</code>"
                        ],
                        "text/plain": [
                            "<IPython.core.display.HTML object>"
                        ]
                    },
                    "metadata": {},
                    "output_type": "display_data"
                },
                {
                    "data": {
                        "text/html": [
                            "<pre style='font-family:Consolas,monospace; padding:5px; border: 1px solid #ccc; border-radius:5px; box-shadow: 5px 5px 5px #ccc; margin:5px 0 10px 0; display: inline-block; min-width: 50%'>{\"name\":\"list-1734274898815\",\"data\":[\"Finir le BE3 de Réseaux\",\"Réviser pour les partiels\",\"Faire les courses\"]}</pre>"
                        ],
                        "text/plain": [
                            "<IPython.core.display.HTML object>"
                        ]
                    },
                    "metadata": {},
                    "output_type": "display_data"
                }
            ],
            "source": [
                "import json\n",
                "\n",
                "# Création des données avec des caractères accentués\n",
                "data = {\n",
                "    \"value\": [\n",
                "        'Finir le BE3 de Réseaux',\n",
                "        'Réviser pour les partiels',\n",
                "        'Faire les courses'\n",
                "    ]\n",
                "}\n",
                "\n",
                "# Création de l'en-tête pour JSON\n",
                "headers = {'Content-Type': 'application/json'}\n",
                "\n",
                "# Requête POST avec les données JSON\n",
                "https_request('POST', \n",
                "                'mod95-be3.onrender.com', \n",
                "                '/todolist',\n",
                "                headers=headers,\n",
                "                body=json.dumps(data),\n",
                "                )\n"
            ]
        },
        {
            "cell_type": "markdown",
            "metadata": {},
            "source": [
                "### __[6.7]__ - Une fois une liste de tâches créée, il est possible de relire son contenu avec une requête GET formulée vers la ressource <code>/todolist/list-xxxxxxxxxxxxx</code>, où la dernière partie correspond au nom de la liste à consulter. Vérifier ce fonctionnement."
            ]
        },
        {
            "cell_type": "code",
            "execution_count": 50,
            "metadata": {
                "collapsed": false,
                "util.bundle": "correcteur"
            },
            "outputs": [
                {
                    "data": {
                        "text/html": [
                            "<code style='font-family:Consolas,monospace; display:block; margin-top: 5px; border-bottom:1px solid #ccc'><span style='font-weight:bold;color:#008'>200</span> - OK</code>"
                        ],
                        "text/plain": [
                            "<IPython.core.display.HTML object>"
                        ]
                    },
                    "metadata": {},
                    "output_type": "display_data"
                },
                {
                    "data": {
                        "text/html": [
                            "<code style='display:block; margin-top:-0.7em; font-family:Consolas,monospace'><b>Date:</b> Sun, 15 Dec 2024 15:02:38 GMT</code>"
                        ],
                        "text/plain": [
                            "<IPython.core.display.HTML object>"
                        ]
                    },
                    "metadata": {},
                    "output_type": "display_data"
                },
                {
                    "data": {
                        "text/html": [
                            "<code style='display:block; margin-top:-0.7em; font-family:Consolas,monospace'><b>Content-Type:</b> application/json; charset=utf-8</code>"
                        ],
                        "text/plain": [
                            "<IPython.core.display.HTML object>"
                        ]
                    },
                    "metadata": {},
                    "output_type": "display_data"
                },
                {
                    "data": {
                        "text/html": [
                            "<code style='display:block; margin-top:-0.7em; font-family:Consolas,monospace'><b>Transfer-Encoding:</b> chunked</code>"
                        ],
                        "text/plain": [
                            "<IPython.core.display.HTML object>"
                        ]
                    },
                    "metadata": {},
                    "output_type": "display_data"
                },
                {
                    "data": {
                        "text/html": [
                            "<code style='display:block; margin-top:-0.7em; font-family:Consolas,monospace'><b>Connection:</b> keep-alive</code>"
                        ],
                        "text/plain": [
                            "<IPython.core.display.HTML object>"
                        ]
                    },
                    "metadata": {},
                    "output_type": "display_data"
                },
                {
                    "data": {
                        "text/html": [
                            "<code style='display:block; margin-top:-0.7em; font-family:Consolas,monospace'><b>CF-Ray:</b> 8f2750d729c9e232-MRS</code>"
                        ],
                        "text/plain": [
                            "<IPython.core.display.HTML object>"
                        ]
                    },
                    "metadata": {},
                    "output_type": "display_data"
                },
                {
                    "data": {
                        "text/html": [
                            "<code style='display:block; margin-top:-0.7em; font-family:Consolas,monospace'><b>CF-Cache-Status:</b> DYNAMIC</code>"
                        ],
                        "text/plain": [
                            "<IPython.core.display.HTML object>"
                        ]
                    },
                    "metadata": {},
                    "output_type": "display_data"
                },
                {
                    "data": {
                        "text/html": [
                            "<code style='display:block; margin-top:-0.7em; font-family:Consolas,monospace'><b>Vary:</b> Accept-Encoding</code>"
                        ],
                        "text/plain": [
                            "<IPython.core.display.HTML object>"
                        ]
                    },
                    "metadata": {},
                    "output_type": "display_data"
                },
                {
                    "data": {
                        "text/html": [
                            "<code style='display:block; margin-top:-0.7em; font-family:Consolas,monospace'><b>rndr-id:</b> 41370107-7d71-4950</code>"
                        ],
                        "text/plain": [
                            "<IPython.core.display.HTML object>"
                        ]
                    },
                    "metadata": {},
                    "output_type": "display_data"
                },
                {
                    "data": {
                        "text/html": [
                            "<code style='display:block; margin-top:-0.7em; font-family:Consolas,monospace'><b>x-powered-by:</b> Express</code>"
                        ],
                        "text/plain": [
                            "<IPython.core.display.HTML object>"
                        ]
                    },
                    "metadata": {},
                    "output_type": "display_data"
                },
                {
                    "data": {
                        "text/html": [
                            "<code style='display:block; margin-top:-0.7em; font-family:Consolas,monospace'><b>x-render-origin-server:</b> Render</code>"
                        ],
                        "text/plain": [
                            "<IPython.core.display.HTML object>"
                        ]
                    },
                    "metadata": {},
                    "output_type": "display_data"
                },
                {
                    "data": {
                        "text/html": [
                            "<code style='display:block; margin-top:-0.7em; font-family:Consolas,monospace'><b>Server:</b> cloudflare</code>"
                        ],
                        "text/plain": [
                            "<IPython.core.display.HTML object>"
                        ]
                    },
                    "metadata": {},
                    "output_type": "display_data"
                },
                {
                    "data": {
                        "text/html": [
                            "<code style='display:block; margin-top:-0.7em; font-family:Consolas,monospace'><b>alt-svc:</b> h3=\":443\"; ma=86400</code>"
                        ],
                        "text/plain": [
                            "<IPython.core.display.HTML object>"
                        ]
                    },
                    "metadata": {},
                    "output_type": "display_data"
                },
                {
                    "data": {
                        "text/html": [
                            "<pre style='font-family:Consolas,monospace; padding:5px; border: 1px solid #ccc; border-radius:5px; box-shadow: 5px 5px 5px #ccc; margin:5px 0 10px 0; display: inline-block; min-width: 50%'>{\"name\":\"list-1734274957637\",\"data\":[\"Finir le BE3 de Réseaux\",\"Réviser pour les partiels\",\"Faire les courses\"]}</pre>"
                        ],
                        "text/plain": [
                            "<IPython.core.display.HTML object>"
                        ]
                    },
                    "metadata": {},
                    "output_type": "display_data"
                }
            ],
            "source": [
                "# votre code ici\n",
                "res,bdy = https_request('POST', \n",
                "                'mod95-be3.onrender.com', \n",
                "                '/todolist',\n",
                "                headers=headers,\n",
                "                body=json.dumps(data),\n",
                "                silent=True)\n",
                "\n",
                "# Décodage de la chaîne de caractères bytes en string puis parsing JSON\n",
                "list_data = json.loads(bdy.decode('utf-8'))\n",
                "list_name = list_data['name']\n",
                "\n",
                "# Lecture du contenu de la liste avec l'identifiant récupéré\n",
                "https_request('GET', 'mod95-be3.onrender.com', f'/todolist/{list_name}')"
            ]
        },
        {
            "cell_type": "markdown",
            "metadata": {},
            "source": [
                "### __[6.8]__ - Conformément à l'architecture REST, la méthode HTTP PUT formulée vers une adresse comme GET ci-dessus, avec par ailleurs les mêmes paramètres que POST, permet de spécifier un nouveau contenu pour la liste mentionnée. Effectuer ce type d'opération."
            ]
        },
        {
            "cell_type": "code",
            "execution_count": 51,
            "metadata": {
                "collapsed": false,
                "util.bundle": "correcteur"
            },
            "outputs": [
                {
                    "data": {
                        "text/html": [
                            "<code style='font-family:Consolas,monospace; display:block; margin-top: 5px; border-bottom:1px solid #ccc'><span style='font-weight:bold;color:#008'>200</span> - OK</code>"
                        ],
                        "text/plain": [
                            "<IPython.core.display.HTML object>"
                        ]
                    },
                    "metadata": {},
                    "output_type": "display_data"
                },
                {
                    "data": {
                        "text/html": [
                            "<code style='display:block; margin-top:-0.7em; font-family:Consolas,monospace'><b>Date:</b> Sun, 15 Dec 2024 15:03:56 GMT</code>"
                        ],
                        "text/plain": [
                            "<IPython.core.display.HTML object>"
                        ]
                    },
                    "metadata": {},
                    "output_type": "display_data"
                },
                {
                    "data": {
                        "text/html": [
                            "<code style='display:block; margin-top:-0.7em; font-family:Consolas,monospace'><b>Content-Type:</b> application/json; charset=utf-8</code>"
                        ],
                        "text/plain": [
                            "<IPython.core.display.HTML object>"
                        ]
                    },
                    "metadata": {},
                    "output_type": "display_data"
                },
                {
                    "data": {
                        "text/html": [
                            "<code style='display:block; margin-top:-0.7em; font-family:Consolas,monospace'><b>Transfer-Encoding:</b> chunked</code>"
                        ],
                        "text/plain": [
                            "<IPython.core.display.HTML object>"
                        ]
                    },
                    "metadata": {},
                    "output_type": "display_data"
                },
                {
                    "data": {
                        "text/html": [
                            "<code style='display:block; margin-top:-0.7em; font-family:Consolas,monospace'><b>Connection:</b> keep-alive</code>"
                        ],
                        "text/plain": [
                            "<IPython.core.display.HTML object>"
                        ]
                    },
                    "metadata": {},
                    "output_type": "display_data"
                },
                {
                    "data": {
                        "text/html": [
                            "<code style='display:block; margin-top:-0.7em; font-family:Consolas,monospace'><b>CF-Ray:</b> 8f2752bf0edfe28c-MRS</code>"
                        ],
                        "text/plain": [
                            "<IPython.core.display.HTML object>"
                        ]
                    },
                    "metadata": {},
                    "output_type": "display_data"
                },
                {
                    "data": {
                        "text/html": [
                            "<code style='display:block; margin-top:-0.7em; font-family:Consolas,monospace'><b>CF-Cache-Status:</b> DYNAMIC</code>"
                        ],
                        "text/plain": [
                            "<IPython.core.display.HTML object>"
                        ]
                    },
                    "metadata": {},
                    "output_type": "display_data"
                },
                {
                    "data": {
                        "text/html": [
                            "<code style='display:block; margin-top:-0.7em; font-family:Consolas,monospace'><b>Vary:</b> Accept-Encoding</code>"
                        ],
                        "text/plain": [
                            "<IPython.core.display.HTML object>"
                        ]
                    },
                    "metadata": {},
                    "output_type": "display_data"
                },
                {
                    "data": {
                        "text/html": [
                            "<code style='display:block; margin-top:-0.7em; font-family:Consolas,monospace'><b>rndr-id:</b> c52d9d31-c653-44a1</code>"
                        ],
                        "text/plain": [
                            "<IPython.core.display.HTML object>"
                        ]
                    },
                    "metadata": {},
                    "output_type": "display_data"
                },
                {
                    "data": {
                        "text/html": [
                            "<code style='display:block; margin-top:-0.7em; font-family:Consolas,monospace'><b>x-powered-by:</b> Express</code>"
                        ],
                        "text/plain": [
                            "<IPython.core.display.HTML object>"
                        ]
                    },
                    "metadata": {},
                    "output_type": "display_data"
                },
                {
                    "data": {
                        "text/html": [
                            "<code style='display:block; margin-top:-0.7em; font-family:Consolas,monospace'><b>x-render-origin-server:</b> Render</code>"
                        ],
                        "text/plain": [
                            "<IPython.core.display.HTML object>"
                        ]
                    },
                    "metadata": {},
                    "output_type": "display_data"
                },
                {
                    "data": {
                        "text/html": [
                            "<code style='display:block; margin-top:-0.7em; font-family:Consolas,monospace'><b>Server:</b> cloudflare</code>"
                        ],
                        "text/plain": [
                            "<IPython.core.display.HTML object>"
                        ]
                    },
                    "metadata": {},
                    "output_type": "display_data"
                },
                {
                    "data": {
                        "text/html": [
                            "<code style='display:block; margin-top:-0.7em; font-family:Consolas,monospace'><b>alt-svc:</b> h3=\":443\"; ma=86400</code>"
                        ],
                        "text/plain": [
                            "<IPython.core.display.HTML object>"
                        ]
                    },
                    "metadata": {},
                    "output_type": "display_data"
                },
                {
                    "data": {
                        "text/html": [
                            "<pre style='font-family:Consolas,monospace; padding:5px; border: 1px solid #ccc; border-radius:5px; box-shadow: 5px 5px 5px #ccc; margin:5px 0 10px 0; display: inline-block; min-width: 50%'>{\"name\":\"list-1734274957637\",\"data\":[\"Terminer le BE3 de Réseaux\",\"Préparer les examens\",\"Faire du sport\"]}</pre>"
                        ],
                        "text/plain": [
                            "<IPython.core.display.HTML object>"
                        ]
                    },
                    "metadata": {},
                    "output_type": "display_data"
                }
            ],
            "source": [
                "# Création des nouvelles données pour la liste\n",
                "new_data = {\n",
                "    \"value\": [\n",
                "        \"Terminer le BE3 de Réseaux\",\n",
                "        \"Préparer les examens\",\n",
                "        \"Faire du sport\"\n",
                "    ]\n",
                "}\n",
                "\n",
                "# En-têtes pour la requête PUT\n",
                "headers = {'Content-Type': 'application/json'}\n",
                "\n",
                "# Mise à jour de la liste avec une requête PUT\n",
                "https_request('PUT', \n",
                "             'mod95-be3.onrender.com', \n",
                "             f'/todolist/{list_name}',\n",
                "             headers=headers,\n",
                "             body=json.dumps(new_data))"
            ]
        },
        {
            "cell_type": "markdown",
            "metadata": {},
            "source": [
                "### __[6.9]__ - Pour modifier uniquement certains éléments d'une liste donnée, l'architecture REST préconise la méthode HTTP PATCH. Tenter ce type d'opération avec les mêmes paramètres que ci-dessus et en déduire les paramètres manquants."
            ]
        },
        {
            "cell_type": "code",
            "execution_count": 53,
            "metadata": {
                "collapsed": false,
                "util.bundle": "correcteur"
            },
            "outputs": [
                {
                    "data": {
                        "text/html": [
                            "<code style='font-family:Consolas,monospace; display:block; margin-top: 5px; border-bottom:1px solid #ccc'><span style='font-weight:bold;color:#008'>422</span> - Unprocessable Entity</code>"
                        ],
                        "text/plain": [
                            "<IPython.core.display.HTML object>"
                        ]
                    },
                    "metadata": {},
                    "output_type": "display_data"
                },
                {
                    "data": {
                        "text/html": [
                            "<code style='display:block; margin-top:-0.7em; font-family:Consolas,monospace'><b>Date:</b> Sun, 15 Dec 2024 15:06:25 GMT</code>"
                        ],
                        "text/plain": [
                            "<IPython.core.display.HTML object>"
                        ]
                    },
                    "metadata": {},
                    "output_type": "display_data"
                },
                {
                    "data": {
                        "text/html": [
                            "<code style='display:block; margin-top:-0.7em; font-family:Consolas,monospace'><b>Content-Type:</b> text/html; charset=utf-8</code>"
                        ],
                        "text/plain": [
                            "<IPython.core.display.HTML object>"
                        ]
                    },
                    "metadata": {},
                    "output_type": "display_data"
                },
                {
                    "data": {
                        "text/html": [
                            "<code style='display:block; margin-top:-0.7em; font-family:Consolas,monospace'><b>Transfer-Encoding:</b> chunked</code>"
                        ],
                        "text/plain": [
                            "<IPython.core.display.HTML object>"
                        ]
                    },
                    "metadata": {},
                    "output_type": "display_data"
                },
                {
                    "data": {
                        "text/html": [
                            "<code style='display:block; margin-top:-0.7em; font-family:Consolas,monospace'><b>Connection:</b> keep-alive</code>"
                        ],
                        "text/plain": [
                            "<IPython.core.display.HTML object>"
                        ]
                    },
                    "metadata": {},
                    "output_type": "display_data"
                },
                {
                    "data": {
                        "text/html": [
                            "<code style='display:block; margin-top:-0.7em; font-family:Consolas,monospace'><b>CF-Ray:</b> 8f275667cf1ce16b-MRS</code>"
                        ],
                        "text/plain": [
                            "<IPython.core.display.HTML object>"
                        ]
                    },
                    "metadata": {},
                    "output_type": "display_data"
                },
                {
                    "data": {
                        "text/html": [
                            "<code style='display:block; margin-top:-0.7em; font-family:Consolas,monospace'><b>CF-Cache-Status:</b> DYNAMIC</code>"
                        ],
                        "text/plain": [
                            "<IPython.core.display.HTML object>"
                        ]
                    },
                    "metadata": {},
                    "output_type": "display_data"
                },
                {
                    "data": {
                        "text/html": [
                            "<code style='display:block; margin-top:-0.7em; font-family:Consolas,monospace'><b>ETag:</b> W/\"132-H9AZgu9oS6zhJ0uvS433hCuqIcM\"</code>"
                        ],
                        "text/plain": [
                            "<IPython.core.display.HTML object>"
                        ]
                    },
                    "metadata": {},
                    "output_type": "display_data"
                },
                {
                    "data": {
                        "text/html": [
                            "<code style='display:block; margin-top:-0.7em; font-family:Consolas,monospace'><b>Vary:</b> Accept-Encoding</code>"
                        ],
                        "text/plain": [
                            "<IPython.core.display.HTML object>"
                        ]
                    },
                    "metadata": {},
                    "output_type": "display_data"
                },
                {
                    "data": {
                        "text/html": [
                            "<code style='display:block; margin-top:-0.7em; font-family:Consolas,monospace'><b>rndr-id:</b> 69093197-21c5-4374</code>"
                        ],
                        "text/plain": [
                            "<IPython.core.display.HTML object>"
                        ]
                    },
                    "metadata": {},
                    "output_type": "display_data"
                },
                {
                    "data": {
                        "text/html": [
                            "<code style='display:block; margin-top:-0.7em; font-family:Consolas,monospace'><b>x-powered-by:</b> Express</code>"
                        ],
                        "text/plain": [
                            "<IPython.core.display.HTML object>"
                        ]
                    },
                    "metadata": {},
                    "output_type": "display_data"
                },
                {
                    "data": {
                        "text/html": [
                            "<code style='display:block; margin-top:-0.7em; font-family:Consolas,monospace'><b>x-render-origin-server:</b> Render</code>"
                        ],
                        "text/plain": [
                            "<IPython.core.display.HTML object>"
                        ]
                    },
                    "metadata": {},
                    "output_type": "display_data"
                },
                {
                    "data": {
                        "text/html": [
                            "<code style='display:block; margin-top:-0.7em; font-family:Consolas,monospace'><b>Server:</b> cloudflare</code>"
                        ],
                        "text/plain": [
                            "<IPython.core.display.HTML object>"
                        ]
                    },
                    "metadata": {},
                    "output_type": "display_data"
                },
                {
                    "data": {
                        "text/html": [
                            "<code style='display:block; margin-top:-0.7em; font-family:Consolas,monospace'><b>alt-svc:</b> h3=\":443\"; ma=86400</code>"
                        ],
                        "text/plain": [
                            "<IPython.core.display.HTML object>"
                        ]
                    },
                    "metadata": {},
                    "output_type": "display_data"
                },
                {
                    "data": {
                        "text/html": [
                            "<div style='padding:5px; border: 1px solid #ccc; border-radius:5px; box-shadow: 5px 5px 5px #ccc; margin:5px 0 10px 0; display: inline-block; min-width: 50%'><!DOCTYPE html>\r\n",
                            "<html lang=\"fr\">\r\n",
                            "<meta charset=\"utf-8\">\r\n",
                            "\r\n",
                            "<div style=\"font-family: Consolas,monospace\">\r\n",
                            "<h1 style=\"margin-top:0; padding:0.1em 0.5em;background-color:#ec0;color:white\">422 : Unprocessable Entity</h1>\r\n",
                            "<p>Impossible de traiter la requête, paramètres manquants : index, delete\r\n",
                            "</div>\r\n",
                            "</div>"
                        ],
                        "text/plain": [
                            "<IPython.core.display.HTML object>"
                        ]
                    },
                    "metadata": {},
                    "output_type": "display_data"
                }
            ],
            "source": [
                "# Tentative de modification partielle avec le même format que PUT\n",
                "patch_data = {\n",
                "    \"value\": [\n",
                "        \"Terminer le BE3 de Réseaux\",\n",
                "        \"Se reposer\"\n",
                "    ]\n",
                "}\n",
                "\n",
                "\n",
                "# Tentative de modification partielle\n",
                "https_request('PATCH', \n",
                "                'mod95-be3.onrender.com', \n",
                "                f'/todolist/{list_name}',\n",
                "                headers=headers,\n",
                "                body=json.dumps(patch_data),\n",
                "                )\n"
            ]
        },
        {
            "cell_type": "markdown",
            "metadata": {},
            "source": [
                "### __[6.10]__ - Les paramètres manquants sont des entiers, qui donnent l'index où insérer le nouveau contenu, et le nombre d'éléments à supprimer avant d'insérer le nouveau contenu transmis.\n",
                "Pour une meilleure compréhension de l'opération effectuée, consulter la document de la fonction <a href=\"https://developer.mozilla.org/en-US/docs/Web/JavaScript/Reference/Global_Objects/Array/splice\">Array.splice()</a> utilisée par le serveur pour modifier la TODO_list à l'aide des paramètres fournis. Ajouter une tâche en fin de liste."
            ]
        },
        {
            "cell_type": "code",
            "execution_count": 57,
            "metadata": {
                "collapsed": false,
                "util.bundle": "correcteur"
            },
            "outputs": [
                {
                    "data": {
                        "text/html": [
                            "<code style='font-family:Consolas,monospace; display:block; margin-top: 5px; border-bottom:1px solid #ccc'><span style='font-weight:bold;color:#008'>200</span> - OK</code>"
                        ],
                        "text/plain": [
                            "<IPython.core.display.HTML object>"
                        ]
                    },
                    "metadata": {},
                    "output_type": "display_data"
                },
                {
                    "data": {
                        "text/html": [
                            "<code style='display:block; margin-top:-0.7em; font-family:Consolas,monospace'><b>Date:</b> Sun, 15 Dec 2024 15:09:08 GMT</code>"
                        ],
                        "text/plain": [
                            "<IPython.core.display.HTML object>"
                        ]
                    },
                    "metadata": {},
                    "output_type": "display_data"
                },
                {
                    "data": {
                        "text/html": [
                            "<code style='display:block; margin-top:-0.7em; font-family:Consolas,monospace'><b>Content-Type:</b> application/json; charset=utf-8</code>"
                        ],
                        "text/plain": [
                            "<IPython.core.display.HTML object>"
                        ]
                    },
                    "metadata": {},
                    "output_type": "display_data"
                },
                {
                    "data": {
                        "text/html": [
                            "<code style='display:block; margin-top:-0.7em; font-family:Consolas,monospace'><b>Transfer-Encoding:</b> chunked</code>"
                        ],
                        "text/plain": [
                            "<IPython.core.display.HTML object>"
                        ]
                    },
                    "metadata": {},
                    "output_type": "display_data"
                },
                {
                    "data": {
                        "text/html": [
                            "<code style='display:block; margin-top:-0.7em; font-family:Consolas,monospace'><b>Connection:</b> keep-alive</code>"
                        ],
                        "text/plain": [
                            "<IPython.core.display.HTML object>"
                        ]
                    },
                    "metadata": {},
                    "output_type": "display_data"
                },
                {
                    "data": {
                        "text/html": [
                            "<code style='display:block; margin-top:-0.7em; font-family:Consolas,monospace'><b>CF-Ray:</b> 8f275a60bc8a70ee-MRS</code>"
                        ],
                        "text/plain": [
                            "<IPython.core.display.HTML object>"
                        ]
                    },
                    "metadata": {},
                    "output_type": "display_data"
                },
                {
                    "data": {
                        "text/html": [
                            "<code style='display:block; margin-top:-0.7em; font-family:Consolas,monospace'><b>CF-Cache-Status:</b> DYNAMIC</code>"
                        ],
                        "text/plain": [
                            "<IPython.core.display.HTML object>"
                        ]
                    },
                    "metadata": {},
                    "output_type": "display_data"
                },
                {
                    "data": {
                        "text/html": [
                            "<code style='display:block; margin-top:-0.7em; font-family:Consolas,monospace'><b>Vary:</b> Accept-Encoding</code>"
                        ],
                        "text/plain": [
                            "<IPython.core.display.HTML object>"
                        ]
                    },
                    "metadata": {},
                    "output_type": "display_data"
                },
                {
                    "data": {
                        "text/html": [
                            "<code style='display:block; margin-top:-0.7em; font-family:Consolas,monospace'><b>rndr-id:</b> b243a223-3a1b-46a4</code>"
                        ],
                        "text/plain": [
                            "<IPython.core.display.HTML object>"
                        ]
                    },
                    "metadata": {},
                    "output_type": "display_data"
                },
                {
                    "data": {
                        "text/html": [
                            "<code style='display:block; margin-top:-0.7em; font-family:Consolas,monospace'><b>x-powered-by:</b> Express</code>"
                        ],
                        "text/plain": [
                            "<IPython.core.display.HTML object>"
                        ]
                    },
                    "metadata": {},
                    "output_type": "display_data"
                },
                {
                    "data": {
                        "text/html": [
                            "<code style='display:block; margin-top:-0.7em; font-family:Consolas,monospace'><b>x-render-origin-server:</b> Render</code>"
                        ],
                        "text/plain": [
                            "<IPython.core.display.HTML object>"
                        ]
                    },
                    "metadata": {},
                    "output_type": "display_data"
                },
                {
                    "data": {
                        "text/html": [
                            "<code style='display:block; margin-top:-0.7em; font-family:Consolas,monospace'><b>Server:</b> cloudflare</code>"
                        ],
                        "text/plain": [
                            "<IPython.core.display.HTML object>"
                        ]
                    },
                    "metadata": {},
                    "output_type": "display_data"
                },
                {
                    "data": {
                        "text/html": [
                            "<code style='display:block; margin-top:-0.7em; font-family:Consolas,monospace'><b>alt-svc:</b> h3=\":443\"; ma=86400</code>"
                        ],
                        "text/plain": [
                            "<IPython.core.display.HTML object>"
                        ]
                    },
                    "metadata": {},
                    "output_type": "display_data"
                },
                {
                    "data": {
                        "text/html": [
                            "<pre style='font-family:Consolas,monospace; padding:5px; border: 1px solid #ccc; border-radius:5px; box-shadow: 5px 5px 5px #ccc; margin:5px 0 10px 0; display: inline-block; min-width: 50%'>{\"name\":\"list-1734274957637\",\"data\":[\"Prendre des vacances bien méritées\",\"Prendre des vacances bien méritées\",\"Terminer le BE3 de Réseaux\",\"Préparer les examens\",\"Prendre des vacances bien méritées\",\"Faire du sport\",\"Prendre des vacances bien méritées\"]}</pre>"
                        ],
                        "text/plain": [
                            "<IPython.core.display.HTML object>"
                        ]
                    },
                    "metadata": {},
                    "output_type": "display_data"
                }
            ],
            "source": [
                "# D'abord, récupérons le contenu actuel pour connaître la longueur\n",
                "res, bdy = https_request('GET', \n",
                "                        'mod95-be3.onrender.com', \n",
                "                        f'/todolist/{list_name}',\n",
                "                        silent=True)\n",
                "current_list = json.loads(bdy.decode('utf-8'))\n",
                "list_length = len(current_list['data'])\n",
                "\n",
                "# Maintenant, ajoutons à la fin avec l'index = longueur de la liste\n",
                "patch_data = {\n",
                "    \"index\": list_length,  # Ajoute à la fin\n",
                "    \"delete\": 0,          # Ne rien supprimer\n",
                "    \"value\": \"Prendre des vacances bien méritées\"\n",
                "}\n",
                "\n",
                "# Requête PATCH pour ajouter à la fin\n",
                "https_request('PATCH', \n",
                "                'mod95-be3.onrender.com', \n",
                "                f'/todolist/{list_name}',\n",
                "                headers=headers,\n",
                "                body=json.dumps(patch_data),\n",
                "                )\n"
            ]
        },
        {
            "cell_type": "markdown",
            "metadata": {},
            "source": [
                "### __[6.11]__ - Remplacer une tâche en milieu de liste.\n"
            ]
        },
        {
            "cell_type": "code",
            "execution_count": 58,
            "metadata": {
                "collapsed": false,
                "util.bundle": "correcteur"
            },
            "outputs": [
                {
                    "data": {
                        "text/html": [
                            "<code style='font-family:Consolas,monospace; display:block; margin-top: 5px; border-bottom:1px solid #ccc'><span style='font-weight:bold;color:#008'>200</span> - OK</code>"
                        ],
                        "text/plain": [
                            "<IPython.core.display.HTML object>"
                        ]
                    },
                    "metadata": {},
                    "output_type": "display_data"
                },
                {
                    "data": {
                        "text/html": [
                            "<code style='display:block; margin-top:-0.7em; font-family:Consolas,monospace'><b>Date:</b> Sun, 15 Dec 2024 15:11:15 GMT</code>"
                        ],
                        "text/plain": [
                            "<IPython.core.display.HTML object>"
                        ]
                    },
                    "metadata": {},
                    "output_type": "display_data"
                },
                {
                    "data": {
                        "text/html": [
                            "<code style='display:block; margin-top:-0.7em; font-family:Consolas,monospace'><b>Content-Type:</b> application/json; charset=utf-8</code>"
                        ],
                        "text/plain": [
                            "<IPython.core.display.HTML object>"
                        ]
                    },
                    "metadata": {},
                    "output_type": "display_data"
                },
                {
                    "data": {
                        "text/html": [
                            "<code style='display:block; margin-top:-0.7em; font-family:Consolas,monospace'><b>Transfer-Encoding:</b> chunked</code>"
                        ],
                        "text/plain": [
                            "<IPython.core.display.HTML object>"
                        ]
                    },
                    "metadata": {},
                    "output_type": "display_data"
                },
                {
                    "data": {
                        "text/html": [
                            "<code style='display:block; margin-top:-0.7em; font-family:Consolas,monospace'><b>Connection:</b> keep-alive</code>"
                        ],
                        "text/plain": [
                            "<IPython.core.display.HTML object>"
                        ]
                    },
                    "metadata": {},
                    "output_type": "display_data"
                },
                {
                    "data": {
                        "text/html": [
                            "<code style='display:block; margin-top:-0.7em; font-family:Consolas,monospace'><b>CF-Ray:</b> 8f275d7a896de187-MRS</code>"
                        ],
                        "text/plain": [
                            "<IPython.core.display.HTML object>"
                        ]
                    },
                    "metadata": {},
                    "output_type": "display_data"
                },
                {
                    "data": {
                        "text/html": [
                            "<code style='display:block; margin-top:-0.7em; font-family:Consolas,monospace'><b>CF-Cache-Status:</b> DYNAMIC</code>"
                        ],
                        "text/plain": [
                            "<IPython.core.display.HTML object>"
                        ]
                    },
                    "metadata": {},
                    "output_type": "display_data"
                },
                {
                    "data": {
                        "text/html": [
                            "<code style='display:block; margin-top:-0.7em; font-family:Consolas,monospace'><b>Vary:</b> Accept-Encoding</code>"
                        ],
                        "text/plain": [
                            "<IPython.core.display.HTML object>"
                        ]
                    },
                    "metadata": {},
                    "output_type": "display_data"
                },
                {
                    "data": {
                        "text/html": [
                            "<code style='display:block; margin-top:-0.7em; font-family:Consolas,monospace'><b>rndr-id:</b> ac16a1d3-d4c7-4099</code>"
                        ],
                        "text/plain": [
                            "<IPython.core.display.HTML object>"
                        ]
                    },
                    "metadata": {},
                    "output_type": "display_data"
                },
                {
                    "data": {
                        "text/html": [
                            "<code style='display:block; margin-top:-0.7em; font-family:Consolas,monospace'><b>x-powered-by:</b> Express</code>"
                        ],
                        "text/plain": [
                            "<IPython.core.display.HTML object>"
                        ]
                    },
                    "metadata": {},
                    "output_type": "display_data"
                },
                {
                    "data": {
                        "text/html": [
                            "<code style='display:block; margin-top:-0.7em; font-family:Consolas,monospace'><b>x-render-origin-server:</b> Render</code>"
                        ],
                        "text/plain": [
                            "<IPython.core.display.HTML object>"
                        ]
                    },
                    "metadata": {},
                    "output_type": "display_data"
                },
                {
                    "data": {
                        "text/html": [
                            "<code style='display:block; margin-top:-0.7em; font-family:Consolas,monospace'><b>Server:</b> cloudflare</code>"
                        ],
                        "text/plain": [
                            "<IPython.core.display.HTML object>"
                        ]
                    },
                    "metadata": {},
                    "output_type": "display_data"
                },
                {
                    "data": {
                        "text/html": [
                            "<code style='display:block; margin-top:-0.7em; font-family:Consolas,monospace'><b>alt-svc:</b> h3=\":443\"; ma=86400</code>"
                        ],
                        "text/plain": [
                            "<IPython.core.display.HTML object>"
                        ]
                    },
                    "metadata": {},
                    "output_type": "display_data"
                },
                {
                    "data": {
                        "text/html": [
                            "<pre style='font-family:Consolas,monospace; padding:5px; border: 1px solid #ccc; border-radius:5px; box-shadow: 5px 5px 5px #ccc; margin:5px 0 10px 0; display: inline-block; min-width: 50%'>{\"name\":\"list-1734274957637\",\"data\":[\"Prendre des vacances bien méritées\",\"Faire une pause café\",\"Terminer le BE3 de Réseaux\",\"Préparer les examens\",\"Prendre des vacances bien méritées\",\"Faire du sport\",\"Prendre des vacances bien méritées\"]}</pre>"
                        ],
                        "text/plain": [
                            "<IPython.core.display.HTML object>"
                        ]
                    },
                    "metadata": {},
                    "output_type": "display_data"
                }
            ],
            "source": [
                "# Remplacer l'élément au milieu (index 1)\n",
                "patch_data = {\n",
                "    \"index\": 1,          # Position du milieu\n",
                "    \"delete\": 1,         # Supprimer 1 élément\n",
                "    \"value\": \"Faire une pause café\"\n",
                "}\n",
                "\n",
                "# Requête PATCH pour remplacer l'élément\n",
                "https_request('PATCH', \n",
                "                'mod95-be3.onrender.com', \n",
                "                f'/todolist/{list_name}',\n",
                "                headers=headers,\n",
                "                body=json.dumps(patch_data),\n",
                "                )\n"
            ]
        },
        {
            "cell_type": "markdown",
            "metadata": {},
            "source": [
                "### __[6.12]__ - Enfin, la méthode HTTP DELETE permet de supprimer une TODO_list. Vérifier son fonctionnement"
            ]
        },
        {
            "cell_type": "code",
            "execution_count": 59,
            "metadata": {
                "collapsed": false,
                "util.bundle": "correcteur"
            },
            "outputs": [
                {
                    "data": {
                        "text/html": [
                            "<code style='font-family:Consolas,monospace; display:block; margin-top: 5px; border-bottom:1px solid #ccc'><span style='font-weight:bold;color:#008'>204</span> - No Content</code>"
                        ],
                        "text/plain": [
                            "<IPython.core.display.HTML object>"
                        ]
                    },
                    "metadata": {},
                    "output_type": "display_data"
                },
                {
                    "data": {
                        "text/html": [
                            "<code style='display:block; margin-top:-0.7em; font-family:Consolas,monospace'><b>Date:</b> Sun, 15 Dec 2024 15:11:55 GMT</code>"
                        ],
                        "text/plain": [
                            "<IPython.core.display.HTML object>"
                        ]
                    },
                    "metadata": {},
                    "output_type": "display_data"
                },
                {
                    "data": {
                        "text/html": [
                            "<code style='display:block; margin-top:-0.7em; font-family:Consolas,monospace'><b>Connection:</b> keep-alive</code>"
                        ],
                        "text/plain": [
                            "<IPython.core.display.HTML object>"
                        ]
                    },
                    "metadata": {},
                    "output_type": "display_data"
                },
                {
                    "data": {
                        "text/html": [
                            "<code style='display:block; margin-top:-0.7em; font-family:Consolas,monospace'><b>CF-Ray:</b> 8f275e75eb661297-MRS</code>"
                        ],
                        "text/plain": [
                            "<IPython.core.display.HTML object>"
                        ]
                    },
                    "metadata": {},
                    "output_type": "display_data"
                },
                {
                    "data": {
                        "text/html": [
                            "<code style='display:block; margin-top:-0.7em; font-family:Consolas,monospace'><b>CF-Cache-Status:</b> DYNAMIC</code>"
                        ],
                        "text/plain": [
                            "<IPython.core.display.HTML object>"
                        ]
                    },
                    "metadata": {},
                    "output_type": "display_data"
                },
                {
                    "data": {
                        "text/html": [
                            "<code style='display:block; margin-top:-0.7em; font-family:Consolas,monospace'><b>ETag:</b> W/\"d3-0YpWmOHEHlFNWmd++s5KhemiJFk\"</code>"
                        ],
                        "text/plain": [
                            "<IPython.core.display.HTML object>"
                        ]
                    },
                    "metadata": {},
                    "output_type": "display_data"
                },
                {
                    "data": {
                        "text/html": [
                            "<code style='display:block; margin-top:-0.7em; font-family:Consolas,monospace'><b>rndr-id:</b> b2a27909-0d58-4343</code>"
                        ],
                        "text/plain": [
                            "<IPython.core.display.HTML object>"
                        ]
                    },
                    "metadata": {},
                    "output_type": "display_data"
                },
                {
                    "data": {
                        "text/html": [
                            "<code style='display:block; margin-top:-0.7em; font-family:Consolas,monospace'><b>x-powered-by:</b> Express</code>"
                        ],
                        "text/plain": [
                            "<IPython.core.display.HTML object>"
                        ]
                    },
                    "metadata": {},
                    "output_type": "display_data"
                },
                {
                    "data": {
                        "text/html": [
                            "<code style='display:block; margin-top:-0.7em; font-family:Consolas,monospace'><b>x-render-origin-server:</b> Render</code>"
                        ],
                        "text/plain": [
                            "<IPython.core.display.HTML object>"
                        ]
                    },
                    "metadata": {},
                    "output_type": "display_data"
                },
                {
                    "data": {
                        "text/html": [
                            "<code style='display:block; margin-top:-0.7em; font-family:Consolas,monospace'><b>Vary:</b> Accept-Encoding</code>"
                        ],
                        "text/plain": [
                            "<IPython.core.display.HTML object>"
                        ]
                    },
                    "metadata": {},
                    "output_type": "display_data"
                },
                {
                    "data": {
                        "text/html": [
                            "<code style='display:block; margin-top:-0.7em; font-family:Consolas,monospace'><b>Server:</b> cloudflare</code>"
                        ],
                        "text/plain": [
                            "<IPython.core.display.HTML object>"
                        ]
                    },
                    "metadata": {},
                    "output_type": "display_data"
                },
                {
                    "data": {
                        "text/html": [
                            "<code style='display:block; margin-top:-0.7em; font-family:Consolas,monospace'><b>alt-svc:</b> h3=\":443\"; ma=86400</code>"
                        ],
                        "text/plain": [
                            "<IPython.core.display.HTML object>"
                        ]
                    },
                    "metadata": {},
                    "output_type": "display_data"
                }
            ],
            "source": [
                "https_request('DELETE', \n",
                "                'mod95-be3.onrender.com', \n",
                "                f'/todolist/{list_name}',\n",
                "                headers=headers,\n",
                "                body=json.dumps(patch_data),\n",
                "                )\n"
            ]
        },
        {
            "cell_type": "code",
            "execution_count": 60,
            "metadata": {
                "collapsed": false,
                "util.bundle": "correcteur"
            },
            "outputs": [
                {
                    "data": {
                        "text/html": [
                            "<code style='font-family:Consolas,monospace; display:block; margin-top: 5px; border-bottom:1px solid #ccc'><span style='font-weight:bold;color:#008'>404</span> - Not Found</code>"
                        ],
                        "text/plain": [
                            "<IPython.core.display.HTML object>"
                        ]
                    },
                    "metadata": {},
                    "output_type": "display_data"
                },
                {
                    "data": {
                        "text/html": [
                            "<code style='display:block; margin-top:-0.7em; font-family:Consolas,monospace'><b>Date:</b> Sun, 15 Dec 2024 15:12:21 GMT</code>"
                        ],
                        "text/plain": [
                            "<IPython.core.display.HTML object>"
                        ]
                    },
                    "metadata": {},
                    "output_type": "display_data"
                },
                {
                    "data": {
                        "text/html": [
                            "<code style='display:block; margin-top:-0.7em; font-family:Consolas,monospace'><b>Content-Type:</b> text/html; charset=utf-8</code>"
                        ],
                        "text/plain": [
                            "<IPython.core.display.HTML object>"
                        ]
                    },
                    "metadata": {},
                    "output_type": "display_data"
                },
                {
                    "data": {
                        "text/html": [
                            "<code style='display:block; margin-top:-0.7em; font-family:Consolas,monospace'><b>Transfer-Encoding:</b> chunked</code>"
                        ],
                        "text/plain": [
                            "<IPython.core.display.HTML object>"
                        ]
                    },
                    "metadata": {},
                    "output_type": "display_data"
                },
                {
                    "data": {
                        "text/html": [
                            "<code style='display:block; margin-top:-0.7em; font-family:Consolas,monospace'><b>Connection:</b> keep-alive</code>"
                        ],
                        "text/plain": [
                            "<IPython.core.display.HTML object>"
                        ]
                    },
                    "metadata": {},
                    "output_type": "display_data"
                },
                {
                    "data": {
                        "text/html": [
                            "<code style='display:block; margin-top:-0.7em; font-family:Consolas,monospace'><b>CF-Ray:</b> 8f275f135aa9e27e-MRS</code>"
                        ],
                        "text/plain": [
                            "<IPython.core.display.HTML object>"
                        ]
                    },
                    "metadata": {},
                    "output_type": "display_data"
                },
                {
                    "data": {
                        "text/html": [
                            "<code style='display:block; margin-top:-0.7em; font-family:Consolas,monospace'><b>CF-Cache-Status:</b> DYNAMIC</code>"
                        ],
                        "text/plain": [
                            "<IPython.core.display.HTML object>"
                        ]
                    },
                    "metadata": {},
                    "output_type": "display_data"
                },
                {
                    "data": {
                        "text/html": [
                            "<code style='display:block; margin-top:-0.7em; font-family:Consolas,monospace'><b>ETag:</b> W/\"fe-82wDw4nYemKtbC2+RXsMH0g0x7I\"</code>"
                        ],
                        "text/plain": [
                            "<IPython.core.display.HTML object>"
                        ]
                    },
                    "metadata": {},
                    "output_type": "display_data"
                },
                {
                    "data": {
                        "text/html": [
                            "<code style='display:block; margin-top:-0.7em; font-family:Consolas,monospace'><b>Vary:</b> Accept-Encoding</code>"
                        ],
                        "text/plain": [
                            "<IPython.core.display.HTML object>"
                        ]
                    },
                    "metadata": {},
                    "output_type": "display_data"
                },
                {
                    "data": {
                        "text/html": [
                            "<code style='display:block; margin-top:-0.7em; font-family:Consolas,monospace'><b>rndr-id:</b> 4185b5a8-865d-49cf</code>"
                        ],
                        "text/plain": [
                            "<IPython.core.display.HTML object>"
                        ]
                    },
                    "metadata": {},
                    "output_type": "display_data"
                },
                {
                    "data": {
                        "text/html": [
                            "<code style='display:block; margin-top:-0.7em; font-family:Consolas,monospace'><b>x-powered-by:</b> Express</code>"
                        ],
                        "text/plain": [
                            "<IPython.core.display.HTML object>"
                        ]
                    },
                    "metadata": {},
                    "output_type": "display_data"
                },
                {
                    "data": {
                        "text/html": [
                            "<code style='display:block; margin-top:-0.7em; font-family:Consolas,monospace'><b>x-render-origin-server:</b> Render</code>"
                        ],
                        "text/plain": [
                            "<IPython.core.display.HTML object>"
                        ]
                    },
                    "metadata": {},
                    "output_type": "display_data"
                },
                {
                    "data": {
                        "text/html": [
                            "<code style='display:block; margin-top:-0.7em; font-family:Consolas,monospace'><b>Server:</b> cloudflare</code>"
                        ],
                        "text/plain": [
                            "<IPython.core.display.HTML object>"
                        ]
                    },
                    "metadata": {},
                    "output_type": "display_data"
                },
                {
                    "data": {
                        "text/html": [
                            "<code style='display:block; margin-top:-0.7em; font-family:Consolas,monospace'><b>alt-svc:</b> h3=\":443\"; ma=86400</code>"
                        ],
                        "text/plain": [
                            "<IPython.core.display.HTML object>"
                        ]
                    },
                    "metadata": {},
                    "output_type": "display_data"
                },
                {
                    "data": {
                        "text/html": [
                            "<div style='padding:5px; border: 1px solid #ccc; border-radius:5px; box-shadow: 5px 5px 5px #ccc; margin:5px 0 10px 0; display: inline-block; min-width: 50%'><!DOCTYPE html>\r\n",
                            "<html lang=\"fr\">\r\n",
                            "<meta charset=\"utf-8\">\r\n",
                            "\r\n",
                            "<div style=\"font-family: Consolas,monospace\">\r\n",
                            "<h1 style=\"margin-top:0; padding:0.1em 0.5em;background-color:#006;color:white\">404 - Not Found</h1>\r\n",
                            "<p>La liste demandée n'existe pas\r\n",
                            "</div>\r\n",
                            "</div>"
                        ],
                        "text/plain": [
                            "<IPython.core.display.HTML object>"
                        ]
                    },
                    "metadata": {},
                    "output_type": "display_data"
                }
            ],
            "source": [
                "https_request('GET', \n",
                "            'mod95-be3.onrender.com', \n",
                "            f'/todolist/{list_name}',\n",
                "            )"
            ]
        }
    ],
    "metadata": {
        "kernelspec": {
            "display_name": ".venv",
            "language": "python",
            "name": "python3"
        },
        "language_info": {
            "codemirror_mode": {
                "name": "ipython",
                "version": 3
            },
            "file_extension": ".py",
            "mimetype": "text/x-python",
            "name": "python",
            "nbconvert_exporter": "python",
            "pygments_lexer": "ipython3",
            "version": "3.12.3"
        }
    },
    "nbformat": 4,
    "nbformat_minor": 2
}
